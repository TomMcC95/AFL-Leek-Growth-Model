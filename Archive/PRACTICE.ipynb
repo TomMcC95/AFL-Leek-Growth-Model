{
 "cells": [
  {
   "cell_type": "code",
   "execution_count": 2,
   "metadata": {},
   "outputs": [
    {
     "name": "stdout",
     "output_type": "stream",
     "text": [
      "GOOD DAY\n",
      "TEST\n"
     ]
    }
   ],
   "source": [
    "sun = 'up'\n",
    "if sun == 'down' :\n",
    "    print('GOOD NIGHT!')\n",
    "if sun != 'down' :\n",
    "    print('GOOD DAY')\n",
    "print('TEST')"
   ]
  },
  {
   "cell_type": "code",
   "execution_count": 3,
   "metadata": {},
   "outputs": [],
   "source": [
    "import datetime as dt\n",
    "now = dt.datetime.now()\n",
    "if now.hour < 12:\n",
    "    print('GOOD MORNING')\n",
    "elif 17 > now.hour > 12:\n",
    "    print('GOOD AFTERNOON')\n",
    "elif 24 > now.hour > 17:\n",
    "    print('GOOD NIGHT')"
   ]
  },
  {
   "cell_type": "code",
   "execution_count": 4,
   "metadata": {},
   "outputs": [
    {
     "name": "stdout",
     "output_type": "stream",
     "text": [
      "Subtotal: £ 100.00\n",
      "Sales Tax: £ 5.0\n",
      "Total : £ 105\n"
     ]
    }
   ],
   "source": [
    "subtotal = 100\n",
    "sales_tax_rate = 0.05\n",
    "taxable = True\n",
    "if taxable :\n",
    "    print(f'Subtotal: £{subtotal : .2f}')\n",
    "    sales_tax = subtotal * sales_tax_rate\n",
    "    print(f'Sales Tax: £{sales_tax : .1f}')\n",
    "    total = subtotal + sales_tax\n",
    "    print(f'Total : £{total : .0f}')\n",
    "if not taxable :\n",
    "    print(f'Total : £{subtotal : .0f}')"
   ]
  },
  {
   "cell_type": "code",
   "execution_count": 5,
   "metadata": {},
   "outputs": [
    {
     "name": "stdout",
     "output_type": "stream",
     "text": [
      "0\n",
      "1\n",
      "2\n",
      "3\n",
      "4\n",
      "5\n",
      "6\n",
      "7\n",
      "All Done!\n"
     ]
    }
   ],
   "source": [
    "for x in range(8):\n",
    "    print(x)\n",
    "print('All Done!')"
   ]
  },
  {
   "cell_type": "code",
   "execution_count": 21,
   "metadata": {},
   "outputs": [
    {
     "name": "stdout",
     "output_type": "stream",
     "text": [
      "{'ppatel': 'Priti Patel', 'hjackson': 'Henry Jackson', 'bjohnson': 'Boris Johnson'}\n",
      "{'ppatel': 'Priti Patel', 'hjackson': 'Henrietta Jackson', 'bjohnson': 'Boris Johnson', 'bsmith': 'Belinda Smith'}\n",
      "ppatel = Priti Patel\n",
      "hjackson = Henrietta Jackson\n",
      "bjohnson = Boris Johnson\n",
      "bsmith = Belinda Smith\n",
      "Priti Patel\n",
      "Henrietta Jackson\n",
      "Boris Johnson\n",
      "Belinda Smith\n",
      "{'hjackson': 'Henrietta Jackson', 'bjohnson': 'Boris Johnson', 'bsmith': 'Belinda Smith'}\n"
     ]
    }
   ],
   "source": [
    "###Book 2, Chapter 4###\n",
    "people = {\n",
    "    'ppatel' : 'Priti Patel',\n",
    "    'hjackson' : 'Henry Jackson',\n",
    "    'bjohnson' : 'Boris Johnson'\n",
    "}\n",
    "print (people)\n",
    "people.update({'hjackson' : 'Henrietta Jackson'})\n",
    "people.update({'bsmith' : 'Belinda Smith'})\n",
    "print (people)\n",
    "for person in people.keys():\n",
    "    print(person + ' = ' + people[person])\n",
    "for person in people:\n",
    "    print(people[person])\n",
    "del people['ppatel']\n",
    "print (people)"
   ]
  },
  {
   "cell_type": "code",
   "execution_count": 70,
   "metadata": {},
   "outputs": [
    {
     "name": "stdout",
     "output_type": "stream",
     "text": [
      "ID     Name              Price        Models\n",
      "- - - - - - - - - - - - - - - - - - - - - - - - - - - - - - \n",
      "TSL    Tesla             £150,000.00  Roadster, Cybertruck\n",
      "PSH    Porsche           £100,000.00  Cayenne, 911\n",
      "LMG    Lambourgini       £220,000.00  Big, Small\n"
     ]
    }
   ],
   "source": [
    "cars = {\n",
    "    'TSL' : {'name' : 'Tesla', 'price' : 150000, 'models' : ['Roadster', 'Cybertruck']},\n",
    "    'PSH' : {'name' : 'Porsche', 'price' : 100000, 'models' : ['Cayenne', '911']},\n",
    "    'LMG' : {'name' : 'Lambourgini', 'price' : 220000, 'models' : ['Big', 'Small']}\n",
    "}\n",
    "print(f\"{'ID' : <6} {'Name':<17} {'Price':>5} {'Models':>13}\")\n",
    "print('- ' * 30)\n",
    "for car in cars.keys():\n",
    "      ID = car\n",
    "      name = cars[car]['name']\n",
    "      unit_price = '£' + f\"{cars[car]['price']:,.2f}\"\n",
    "      models = ' '\n",
    "      for m in cars[car]['models']:\n",
    "          models += m + ', '\n",
    "      if len(models) > 2:\n",
    "          models = models[:-2]\n",
    "      else:\n",
    "          models=\"<none>\"\n",
    "      print(f\"{ID:<6} {name:<17} {unit_price:>8} {models}\")\n",
    "      \n",
    "      \n",
    "      \n"
   ]
  },
  {
   "cell_type": "code",
   "execution_count": null,
   "metadata": {},
   "outputs": [],
   "source": []
  }
 ],
 "metadata": {
  "kernelspec": {
   "display_name": "Python 3.7.4 64-bit ('tmccl': virtualenv)",
   "language": "python",
   "name": "python37464bittmcclvirtualenv03d47f797f9e4f66a87d93d6decff9c3"
  },
  "language_info": {
   "codemirror_mode": {
    "name": "ipython",
    "version": 3
   },
   "file_extension": ".py",
   "mimetype": "text/x-python",
   "name": "python",
   "nbconvert_exporter": "python",
   "pygments_lexer": "ipython3",
   "version": "3.7.4"
  }
 },
 "nbformat": 4,
 "nbformat_minor": 2
}
