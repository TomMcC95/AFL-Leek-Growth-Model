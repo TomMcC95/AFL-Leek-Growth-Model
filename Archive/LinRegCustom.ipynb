{
 "cells": [
  {
   "cell_type": "code",
   "execution_count": 1,
   "id": "8e8ab271",
   "metadata": {
    "collapsed": true,
    "jupyter": {
     "outputs_hidden": true
    },
    "scrolled": true,
    "tags": []
   },
   "outputs": [
    {
     "name": "stdout",
     "output_type": "stream",
     "text": [
      "Current Progress: 100.0 %\n"
     ]
    }
   ],
   "source": [
    "%run PreProcessing.ipynb"
   ]
  },
  {
   "cell_type": "code",
   "execution_count": 2,
   "id": "b4e60fe4",
   "metadata": {},
   "outputs": [],
   "source": [
    "from sklearn.ensemble import IsolationForest\n",
    "from sklearn.linear_model import LinearRegression\n",
    "from statistics import mode\n",
    "import matplotlib.pyplot as plt"
   ]
  },
  {
   "cell_type": "code",
   "execution_count": 3,
   "id": "22ba51a3",
   "metadata": {},
   "outputs": [
    {
     "name": "stdout",
     "output_type": "stream",
     "text": [
      "The old training dataframe shape: (3445, 27)\n",
      "Total number of outliers identified is:  345\n",
      "The new training dataframe shape: (3100, 27)\n"
     ]
    }
   ],
   "source": [
    "# Remove the most rogue 10% of data so outliers don't impact model as much.\n",
    "\n",
    "print(f\"The old training dataframe shape: {summary_data_avg.shape}\")\n",
    "\n",
    "iso = IsolationForest(max_samples=500, random_state = 10, contamination= 0.1)\n",
    "preds = iso.fit_predict(summary_data_avg[['d_lin',\n",
    "                                          's_lin',\n",
    "                                          'pp2m2',\n",
    "                                          'sand',\n",
    "                                          'silt',\n",
    "                                          'clay',\n",
    "                                          'organic_matter',\n",
    "                                          'heat_units',\n",
    "                                          'solar_radiation',]]\n",
    "                        )\n",
    "\n",
    "totalOutliers=0\n",
    "\n",
    "for pred in preds:\n",
    "    if pred == -1:\n",
    "        totalOutliers=totalOutliers+1\n",
    "        \n",
    "print(\"Total number of outliers identified is: \",totalOutliers)\n",
    "\n",
    "filtered_array = []\n",
    "unfiltered_array = []\n",
    "for element in preds:\n",
    "  if element != -1:\n",
    "    filtered_array.append(True)\n",
    "    unfiltered_array.append(False)\n",
    "  else:\n",
    "    filtered_array.append(False)\n",
    "    unfiltered_array.append(True)\n",
    "\n",
    "summary_data_avg_outliers = summary_data_avg[unfiltered_array]\n",
    "\n",
    "summary_data_avg = summary_data_avg[filtered_array]\n",
    "\n",
    "print(f\"The new training dataframe shape: {summary_data_avg.shape}\")"
   ]
  },
  {
   "cell_type": "code",
   "execution_count": 4,
   "id": "e5b0d787",
   "metadata": {
    "scrolled": true,
    "tags": []
   },
   "outputs": [
    {
     "ename": "NameError",
     "evalue": "name 'protection' is not defined",
     "output_type": "error",
     "traceback": [
      "\u001b[1;31m---------------------------------------------------------------------------\u001b[0m",
      "\u001b[1;31mValueError\u001b[0m                                Traceback (most recent call last)",
      "\u001b[1;32m<ipython-input-4-8dee2a0ab81e>\u001b[0m in \u001b[0;36m<module>\u001b[1;34m\u001b[0m\n\u001b[0;32m     11\u001b[0m \u001b[1;33m\u001b[0m\u001b[0m\n\u001b[1;32m---> 12\u001b[1;33m         \u001b[0mreg_dl\u001b[0m \u001b[1;33m=\u001b[0m \u001b[0mLinearRegression\u001b[0m\u001b[1;33m(\u001b[0m\u001b[0mnormalize\u001b[0m \u001b[1;33m=\u001b[0m \u001b[1;32mTrue\u001b[0m\u001b[1;33m)\u001b[0m\u001b[1;33m.\u001b[0m\u001b[0mfit\u001b[0m\u001b[1;33m(\u001b[0m\u001b[0mX\u001b[0m\u001b[1;33m,\u001b[0m \u001b[0my_dl\u001b[0m\u001b[1;33m)\u001b[0m\u001b[1;33m\u001b[0m\u001b[1;33m\u001b[0m\u001b[0m\n\u001b[0m\u001b[0;32m     13\u001b[0m         \u001b[0msolar_radiation_dl_coef\u001b[0m \u001b[1;33m=\u001b[0m \u001b[0mreg_dl\u001b[0m\u001b[1;33m.\u001b[0m\u001b[0mcoef_\u001b[0m\u001b[1;33m[\u001b[0m\u001b[1;36m0\u001b[0m\u001b[1;33m]\u001b[0m\u001b[1;33m\u001b[0m\u001b[1;33m\u001b[0m\u001b[0m\n",
      "\u001b[1;32mc:\\users\\tom\\appdata\\local\\programs\\python\\python39\\lib\\site-packages\\sklearn\\linear_model\\_base.py\u001b[0m in \u001b[0;36mfit\u001b[1;34m(self, X, y, sample_weight)\u001b[0m\n\u001b[0;32m    517\u001b[0m \u001b[1;33m\u001b[0m\u001b[0m\n\u001b[1;32m--> 518\u001b[1;33m         X, y = self._validate_data(X, y, accept_sparse=accept_sparse,\n\u001b[0m\u001b[0;32m    519\u001b[0m                                    y_numeric=True, multi_output=True)\n",
      "\u001b[1;32mc:\\users\\tom\\appdata\\local\\programs\\python\\python39\\lib\\site-packages\\sklearn\\base.py\u001b[0m in \u001b[0;36m_validate_data\u001b[1;34m(self, X, y, reset, validate_separately, **check_params)\u001b[0m\n\u001b[0;32m    432\u001b[0m             \u001b[1;32melse\u001b[0m\u001b[1;33m:\u001b[0m\u001b[1;33m\u001b[0m\u001b[1;33m\u001b[0m\u001b[0m\n\u001b[1;32m--> 433\u001b[1;33m                 \u001b[0mX\u001b[0m\u001b[1;33m,\u001b[0m \u001b[0my\u001b[0m \u001b[1;33m=\u001b[0m \u001b[0mcheck_X_y\u001b[0m\u001b[1;33m(\u001b[0m\u001b[0mX\u001b[0m\u001b[1;33m,\u001b[0m \u001b[0my\u001b[0m\u001b[1;33m,\u001b[0m \u001b[1;33m**\u001b[0m\u001b[0mcheck_params\u001b[0m\u001b[1;33m)\u001b[0m\u001b[1;33m\u001b[0m\u001b[1;33m\u001b[0m\u001b[0m\n\u001b[0m\u001b[0;32m    434\u001b[0m             \u001b[0mout\u001b[0m \u001b[1;33m=\u001b[0m \u001b[0mX\u001b[0m\u001b[1;33m,\u001b[0m \u001b[0my\u001b[0m\u001b[1;33m\u001b[0m\u001b[1;33m\u001b[0m\u001b[0m\n",
      "\u001b[1;32mc:\\users\\tom\\appdata\\local\\programs\\python\\python39\\lib\\site-packages\\sklearn\\utils\\validation.py\u001b[0m in \u001b[0;36minner_f\u001b[1;34m(*args, **kwargs)\u001b[0m\n\u001b[0;32m     62\u001b[0m             \u001b[1;32mif\u001b[0m \u001b[0mextra_args\u001b[0m \u001b[1;33m<=\u001b[0m \u001b[1;36m0\u001b[0m\u001b[1;33m:\u001b[0m\u001b[1;33m\u001b[0m\u001b[1;33m\u001b[0m\u001b[0m\n\u001b[1;32m---> 63\u001b[1;33m                 \u001b[1;32mreturn\u001b[0m \u001b[0mf\u001b[0m\u001b[1;33m(\u001b[0m\u001b[1;33m*\u001b[0m\u001b[0margs\u001b[0m\u001b[1;33m,\u001b[0m \u001b[1;33m**\u001b[0m\u001b[0mkwargs\u001b[0m\u001b[1;33m)\u001b[0m\u001b[1;33m\u001b[0m\u001b[1;33m\u001b[0m\u001b[0m\n\u001b[0m\u001b[0;32m     64\u001b[0m \u001b[1;33m\u001b[0m\u001b[0m\n",
      "\u001b[1;32mc:\\users\\tom\\appdata\\local\\programs\\python\\python39\\lib\\site-packages\\sklearn\\utils\\validation.py\u001b[0m in \u001b[0;36mcheck_X_y\u001b[1;34m(X, y, accept_sparse, accept_large_sparse, dtype, order, copy, force_all_finite, ensure_2d, allow_nd, multi_output, ensure_min_samples, ensure_min_features, y_numeric, estimator)\u001b[0m\n\u001b[0;32m    870\u001b[0m \u001b[1;33m\u001b[0m\u001b[0m\n\u001b[1;32m--> 871\u001b[1;33m     X = check_array(X, accept_sparse=accept_sparse,\n\u001b[0m\u001b[0;32m    872\u001b[0m                     \u001b[0maccept_large_sparse\u001b[0m\u001b[1;33m=\u001b[0m\u001b[0maccept_large_sparse\u001b[0m\u001b[1;33m,\u001b[0m\u001b[1;33m\u001b[0m\u001b[1;33m\u001b[0m\u001b[0m\n",
      "\u001b[1;32mc:\\users\\tom\\appdata\\local\\programs\\python\\python39\\lib\\site-packages\\sklearn\\utils\\validation.py\u001b[0m in \u001b[0;36minner_f\u001b[1;34m(*args, **kwargs)\u001b[0m\n\u001b[0;32m     62\u001b[0m             \u001b[1;32mif\u001b[0m \u001b[0mextra_args\u001b[0m \u001b[1;33m<=\u001b[0m \u001b[1;36m0\u001b[0m\u001b[1;33m:\u001b[0m\u001b[1;33m\u001b[0m\u001b[1;33m\u001b[0m\u001b[0m\n\u001b[1;32m---> 63\u001b[1;33m                 \u001b[1;32mreturn\u001b[0m \u001b[0mf\u001b[0m\u001b[1;33m(\u001b[0m\u001b[1;33m*\u001b[0m\u001b[0margs\u001b[0m\u001b[1;33m,\u001b[0m \u001b[1;33m**\u001b[0m\u001b[0mkwargs\u001b[0m\u001b[1;33m)\u001b[0m\u001b[1;33m\u001b[0m\u001b[1;33m\u001b[0m\u001b[0m\n\u001b[0m\u001b[0;32m     64\u001b[0m \u001b[1;33m\u001b[0m\u001b[0m\n",
      "\u001b[1;32mc:\\users\\tom\\appdata\\local\\programs\\python\\python39\\lib\\site-packages\\sklearn\\utils\\validation.py\u001b[0m in \u001b[0;36mcheck_array\u001b[1;34m(array, accept_sparse, accept_large_sparse, dtype, order, copy, force_all_finite, ensure_2d, allow_nd, ensure_min_samples, ensure_min_features, estimator)\u001b[0m\n\u001b[0;32m    725\u001b[0m         \u001b[1;32mif\u001b[0m \u001b[0mn_samples\u001b[0m \u001b[1;33m<\u001b[0m \u001b[0mensure_min_samples\u001b[0m\u001b[1;33m:\u001b[0m\u001b[1;33m\u001b[0m\u001b[1;33m\u001b[0m\u001b[0m\n\u001b[1;32m--> 726\u001b[1;33m             raise ValueError(\"Found array with %d sample(s) (shape=%s) while a\"\n\u001b[0m\u001b[0;32m    727\u001b[0m                              \u001b[1;34m\" minimum of %d is required%s.\"\u001b[0m\u001b[1;33m\u001b[0m\u001b[1;33m\u001b[0m\u001b[0m\n",
      "\u001b[1;31mValueError\u001b[0m: Found array with 0 sample(s) (shape=(0, 8)) while a minimum of 1 is required.",
      "\nDuring handling of the above exception, another exception occurred:\n",
      "\u001b[1;31mNameError\u001b[0m                                 Traceback (most recent call last)",
      "\u001b[1;32m<ipython-input-4-8dee2a0ab81e>\u001b[0m in \u001b[0;36m<module>\u001b[1;34m\u001b[0m\n\u001b[0;32m     23\u001b[0m         \u001b[0mzone_data\u001b[0m\u001b[1;33m.\u001b[0m\u001b[0mloc\u001b[0m\u001b[1;33m[\u001b[0m\u001b[0mi\u001b[0m\u001b[1;33m,\u001b[0m \u001b[1;34m'est_mean_diameter_gain'\u001b[0m\u001b[1;33m]\u001b[0m \u001b[1;33m=\u001b[0m \u001b[1;36m0\u001b[0m\u001b[1;33m\u001b[0m\u001b[1;33m\u001b[0m\u001b[0m\n\u001b[0;32m     24\u001b[0m         \u001b[0mzone_data\u001b[0m\u001b[1;33m.\u001b[0m\u001b[0mloc\u001b[0m\u001b[1;33m[\u001b[0m\u001b[0mi\u001b[0m\u001b[1;33m,\u001b[0m \u001b[1;34m'est_std_dev_diameter_gain'\u001b[0m\u001b[1;33m]\u001b[0m \u001b[1;33m=\u001b[0m \u001b[1;36m0\u001b[0m\u001b[1;33m\u001b[0m\u001b[1;33m\u001b[0m\u001b[0m\n\u001b[1;32m---> 25\u001b[1;33m         \u001b[0mprint\u001b[0m\u001b[1;33m(\u001b[0m\u001b[0mmethod\u001b[0m\u001b[1;33m,\u001b[0m \u001b[0minputs\u001b[0m\u001b[1;33m,\u001b[0m \u001b[0mvariety\u001b[0m\u001b[1;33m,\u001b[0m \u001b[0mprotection\u001b[0m\u001b[1;33m)\u001b[0m\u001b[1;33m\u001b[0m\u001b[1;33m\u001b[0m\u001b[0m\n\u001b[0m\u001b[0;32m     26\u001b[0m         \u001b[0mprint\u001b[0m\u001b[1;33m(\u001b[0m\u001b[0me\u001b[0m\u001b[1;33m)\u001b[0m\u001b[1;33m\u001b[0m\u001b[1;33m\u001b[0m\u001b[0m\n\u001b[0;32m     27\u001b[0m \u001b[1;33m\u001b[0m\u001b[0m\n",
      "\u001b[1;31mNameError\u001b[0m: name 'protection' is not defined"
     ]
    }
   ],
   "source": [
    "for i in zone_data.index:\n",
    "    try:\n",
    "        method = zone_data.loc[i, 'method']\n",
    "        inputs = zone_data.loc[i, 'inputs']\n",
    "        variety = zone_data.loc[i, 'variety']\n",
    "\n",
    "        df = filter_data(summary_data_avg, method, inputs, variety)\n",
    "        X = df[['solar_radiation', 'heat_units', 'pp2m2', 'organic_matter', 'protection_Barley', 'protection_Fleece', 'protection_None', 'protection_Poly']]\n",
    "        y_dl = df['d_lin']\n",
    "        y_sd = df['s_lin']\n",
    "\n",
    "        reg_dl = LinearRegression(normalize = True).fit(X, y_dl)\n",
    "        solar_radiation_dl_coef = reg_dl.coef_[0]\n",
    "        heat_units_dl_coef = reg_dl.coef_[1]\n",
    "\n",
    "        reg_sd = LinearRegression(normalize = True).fit(X, y_sd) \n",
    "        solar_radiation_sd_coef = reg_sd.coef_[0]\n",
    "        heat_units_sd_coef = reg_sd.coef_[1]\n",
    "\n",
    "        zone_data.loc[i, 'est_mean_diameter_gain'] = (solar_radiation_dl_coef*(zone_data.loc[i, 'remaining_solar'])) + (heat_units_dl_coef*(zone_data.loc[i, 'remaining_heat']))\n",
    "        zone_data.loc[i, 'est_std_dev_diameter_gain'] = (solar_radiation_sd_coef*(zone_data.loc[i, 'remaining_solar'])) + (heat_units_sd_coef*(zone_data.loc[i, 'remaining_heat']))\n",
    "    except Exception as e:\n",
    "        zone_data.loc[i, 'est_mean_diameter_gain'] = 0\n",
    "        zone_data.loc[i, 'est_std_dev_diameter_gain'] = 0\n",
    "        print(method, inputs, variety, protection)\n",
    "        print(e)\n",
    "    "
   ]
  },
  {
   "cell_type": "code",
   "execution_count": null,
   "id": "9a15be13",
   "metadata": {
    "tags": []
   },
   "outputs": [],
   "source": [
    "zone_data['est_mean_diameter'] = (zone_data['max_mean_diameter_lin'] + zone_data['est_mean_diameter_gain'])**(1/linearisation_coef)\n",
    "zone_data['est_std_dev_diameter'] = (zone_data['max_std_dev_diameter_lin'] + zone_data['est_std_dev_diameter_gain'])**(1/linearisation_coef)\n",
    "\n",
    "print(zone_data.info())\n",
    "zone_data.to_csv('prediction_db.csv', index = False)\n",
    "zone_data.tail()"
   ]
  },
  {
   "cell_type": "code",
   "execution_count": null,
   "id": "12718aef",
   "metadata": {
    "scrolled": true,
    "tags": []
   },
   "outputs": [],
   "source": [
    "filt_zone_data = zone_data.copy()\n",
    "filt_zone_data = filt_zone_data.loc[(filt_zone_data['planting_date'] > season)]\n",
    "filt_zone_data = filt_zone_data.fillna(value = 0, axis = 1)\n",
    "filt_zone_data = filt_zone_data.loc[(filt_zone_data['harvest_date'] == 0)]\n",
    "\n",
    "field_variety_list = list(filt_zone_data['fieldvariety'])\n",
    "field_variety_list = list(set(field_variety_list))\n",
    "field_variety_list = sorted(field_variety_list)\n",
    "\n",
    "for fv in field_variety_list:\n",
    "    df = filt_zone_data.loc[(filt_zone_data['fieldvariety'] == fv)]\n",
    "    df = df.reset_index(drop=True)\n",
    "    inputs = mode(df['inputs'])\n",
    "    \n",
    "    \n",
    "    if inputs == 'Baby':\n",
    "        x_min = 0.0\n",
    "        x_max = 30.0\n",
    "        up_spec = 20\n",
    "        low_spec = 12\n",
    "        low_opt = 16\n",
    "        \n",
    "    elif inputs == 'Organic':\n",
    "        x_min = 0.0\n",
    "        x_max = 45.0\n",
    "        up_spec = 42\n",
    "        low_spec = 18\n",
    "        low_opt = 27\n",
    "        \n",
    "    elif inputs == 'Conventional':\n",
    "        x_min = 0.0\n",
    "        x_max = 60.0\n",
    "        up_spec = 45\n",
    "        low_spec = 20\n",
    "        low_opt = 32\n",
    "        \n",
    "    mean = df['est_mean_diameter'].mean()\n",
    "    pooled_std = df['est_std_dev_diameter'].mean()\n",
    "    \n",
    "    ### Is this standard deviation calculation correct???\n",
    "    ### No, but its as close as you'll get.\n",
    "    \n",
    "    ### NEED TO APPEND SD, MEAN AND FV VALUES TO DF AND EXPORT AT THE END AS CSV.\n",
    "\n",
    "    x = np.linspace(x_min, x_max, 100)\n",
    "    y = ss.norm.pdf(x,mean,pooled_std)\n",
    "    c = 'grey'\n",
    "    plt.plot(x,y, color=c)\n",
    "    plt.grid()\n",
    "    plt.xlim(x_min,x_max)\n",
    "    plt.ylim(0,0.20)\n",
    "    \n",
    "    today = datetime.today()\n",
    "    d = today + timedelta(days=future_days)\n",
    "    d = d.strftime('%d-%m-%Y')\n",
    "    \n",
    "    plt.text(x=2, y=0.18, s='Est Harvest Date:')\n",
    "    plt.text(x=2, y=0.16, s=d)\n",
    "    plt.text(x=2, y=0.14, s=f'Mean: {mean:.1f}mm')\n",
    "    plt.text(x=2, y=0.12, s=f'Std Dev: {pooled_std:.1f}mm')\n",
    "    \n",
    "    plt.grid(False)\n",
    "    \n",
    "    plt.axvspan(low_spec, up_spec, color='yellow', alpha=0.2)\n",
    "    plt.axvspan(low_opt, up_spec, color='green', alpha=0.2)\n",
    "    plt.axvspan(0, low_spec, color='red', alpha=0.2)\n",
    "    plt.axvspan(up_spec, x_max, color='red', alpha=0.2)\n",
    "    \n",
    "    plt.title(f'{fv}',fontsize=10)\n",
    "    \n",
    "    new_fv = fv.replace('/', '-')\n",
    "\n",
    "    plt.xlabel('Mean Stripped Diameter (mm)')\n",
    "    plt.tick_params(left = False, labelleft = False)\n",
    "    plt.ylabel('Frequency')\n",
    "    plt.savefig(f\"{cw_directory}//Distributions//{new_fv} Population Distribution.png\",dpi=600)\n",
    "    plt.show()"
   ]
  },
  {
   "cell_type": "code",
   "execution_count": null,
   "id": "60c080b6",
   "metadata": {},
   "outputs": [],
   "source": []
  }
 ],
 "metadata": {
  "interpreter": {
   "hash": "c5b322d1f5beaecfb28b050f61b5bc2c682da0c88a01138942a1439f934c1c07"
  },
  "kernelspec": {
   "display_name": "Python 3",
   "language": "python",
   "name": "python3"
  },
  "language_info": {
   "codemirror_mode": {
    "name": "ipython",
    "version": 3
   },
   "file_extension": ".py",
   "mimetype": "text/x-python",
   "name": "python",
   "nbconvert_exporter": "python",
   "pygments_lexer": "ipython3",
   "version": "3.9.1"
  }
 },
 "nbformat": 4,
 "nbformat_minor": 5
}
