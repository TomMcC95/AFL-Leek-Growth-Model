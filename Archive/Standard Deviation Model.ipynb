{
 "cells": [
  {
   "cell_type": "code",
   "execution_count": 1,
   "metadata": {},
   "outputs": [],
   "source": [
    "import pandas as pd\n",
    "import matplotlib as mpl\n",
    "import matplotlib.pyplot as plt\n",
    "import numpy as np\n",
    "import statsmodels.api as sm"
   ]
  },
  {
   "cell_type": "code",
   "execution_count": 2,
   "metadata": {},
   "outputs": [],
   "source": [
    "sd_data1 = pd.read_excel('AFL Leek Growth Data.xlsx', sheet_name='analysis')\n",
    "sd_data2 = sd_data1.dropna()"
   ]
  },
  {
   "cell_type": "code",
   "execution_count": 3,
   "metadata": {
    "scrolled": false
   },
   "outputs": [
    {
     "name": "stdout",
     "output_type": "stream",
     "text": [
      "                            OLS Regression Results                            \n",
      "==============================================================================\n",
      "Dep. Variable:     standard_deviation   R-squared:                       0.793\n",
      "Model:                            OLS   Adj. R-squared:                  0.785\n",
      "Method:                 Least Squares   F-statistic:                     97.51\n",
      "Date:                Sun, 27 Sep 2020   Prob (F-statistic):          4.41e-308\n",
      "Time:                        17:28:50   Log-Likelihood:                -1351.0\n",
      "No. Observations:                1030   AIC:                             2782.\n",
      "Df Residuals:                     990   BIC:                             2979.\n",
      "Df Model:                          39                                         \n",
      "Covariance Type:            nonrobust                                         \n",
      "===================================================================================\n",
      "                      coef    std err          t      P>|t|      [0.025      0.975]\n",
      "-----------------------------------------------------------------------------------\n",
      "const              -0.2245      0.208     -1.080      0.280      -0.632       0.183\n",
      "count              -0.0056      0.005     -1.148      0.251      -0.015       0.004\n",
      "solar_radiation    -0.0010      0.001     -1.457      0.145      -0.002       0.000\n",
      "heat_units          0.0013      0.000      5.434      0.000       0.001       0.002\n",
      "particle_size      -0.0006      0.000     -3.388      0.001      -0.001      -0.000\n",
      "organic_matter     -0.0180      0.003     -6.085      0.000      -0.024      -0.012\n",
      "diameter^0.625      0.7938      0.049     16.299      0.000       0.698       0.889\n",
      "Drilled             0.7434      0.238      3.123      0.002       0.276       1.211\n",
      "Blocks              0.2891      0.167      1.735      0.083      -0.038       0.616\n",
      "Superseedlings      0.3473      0.294      1.180      0.238      -0.230       0.925\n",
      "Plant Tape         -1.0043      0.350     -2.866      0.004      -1.692      -0.317\n",
      "Modules            -0.2408      0.196     -1.230      0.219      -0.625       0.143\n",
      "Bare Roots         -0.3591      0.167     -2.155      0.031      -0.686      -0.032\n",
      "Conventional       -0.3217      0.127     -2.530      0.012      -0.571      -0.072\n",
      "Organic             0.3493      0.220      1.588      0.113      -0.082       0.781\n",
      "Baby               -0.2520      0.235     -1.073      0.284      -0.713       0.209\n",
      "Fleece              0.3943      0.156      2.535      0.011       0.089       0.699\n",
      "Poly                0.2888      0.272      1.060      0.289      -0.246       0.824\n",
      "Barley              0.3938      0.128      3.088      0.002       0.143       0.644\n",
      "Batter             -0.7300      0.261     -2.800      0.005      -1.242      -0.218\n",
      "Belton             -0.1667      0.158     -1.053      0.293      -0.477       0.144\n",
      "Chiefton            0.1161      0.097      1.192      0.233      -0.075       0.307\n",
      "Defender           -0.8940      0.373     -2.397      0.017      -1.626      -0.162\n",
      "Comanche           -0.1836      0.160     -1.145      0.253      -0.498       0.131\n",
      "Fencer             -0.2180      0.310     -0.704      0.482      -0.826       0.390\n",
      "Galvani             0.4092      0.632      0.648      0.517      -0.831       1.650\n",
      "Gostar             -0.5249      0.224     -2.340      0.019      -0.965      -0.085\n",
      "Harston             0.1513      0.416      0.364      0.716      -0.665       0.967\n",
      "Krypton             0.8571      0.109      7.884      0.000       0.644       1.070\n",
      "Lancaster          -0.4832      0.223     -2.164      0.031      -0.921      -0.045\n",
      "Lexton             -0.1168      0.146     -0.801      0.423      -0.403       0.169\n",
      "Likestar            0.0780      0.520      0.150      0.881      -0.943       1.099\n",
      "Linkton            -0.1864      0.136     -1.366      0.172      -0.454       0.081\n",
      "Longton            -0.5820      0.256     -2.276      0.023      -1.084      -0.080\n",
      "Nun 70406           0.7093      0.375      1.894      0.059      -0.026       1.444\n",
      "Oslo               -0.5640      0.386     -1.460      0.145      -1.322       0.194\n",
      "Pluston             0.5707      0.350      1.629      0.104      -0.117       1.258\n",
      "Runner             -0.2646      0.259     -1.021      0.308      -0.773       0.244\n",
      "Shafton            -0.0176      0.137     -0.128      0.898      -0.287       0.251\n",
      "Spheros            -0.3757      0.324     -1.158      0.247      -1.012       0.261\n",
      "Stromboli           0.7299      0.631      1.157      0.248      -0.508       1.968\n",
      "Sumstar             1.4104      0.311      4.540      0.000       0.801       2.020\n",
      "Triton              0.0508      0.201      0.252      0.801      -0.344       0.446\n",
      "Volta                    0          0        nan        nan           0           0\n",
      "==============================================================================\n",
      "Omnibus:                       87.466   Durbin-Watson:                   1.519\n",
      "Prob(Omnibus):                  0.000   Jarque-Bera (JB):              176.206\n",
      "Skew:                           0.538   Prob(JB):                     5.46e-39\n",
      "Kurtosis:                       4.717   Cond. No.                     1.14e+17\n",
      "==============================================================================\n",
      "\n",
      "Warnings:\n",
      "[1] Standard Errors assume that the covariance matrix of the errors is correctly specified.\n",
      "[2] The smallest eigenvalue is 2.01e-25. This might indicate that there are\n",
      "strong multicollinearity problems or that the design matrix is singular.\n"
     ]
    },
    {
     "name": "stderr",
     "output_type": "stream",
     "text": [
      "C:\\ProgramData\\Anaconda3\\lib\\site-packages\\statsmodels\\base\\model.py:1362: RuntimeWarning: invalid value encountered in true_divide\n",
      "  return self.params / self.bse\n",
      "C:\\ProgramData\\Anaconda3\\lib\\site-packages\\scipy\\stats\\_distn_infrastructure.py:1932: RuntimeWarning: invalid value encountered in less_equal\n",
      "  cond2 = cond0 & (x <= _a)\n"
     ]
    }
   ],
   "source": [
    "x = sd_data2[['count','solar_radiation','heat_units','particle_size','organic_matter','diameter^0.625','Drilled','Blocks','Superseedlings','Plant Tape','Modules','Bare Roots','Conventional','Organic','Baby','Fleece','Poly','Barley','Batter','Belton','Chiefton','Defender','Comanche','Fencer','Galvani','Gostar','Harston','Krypton','Lancaster','Lexton','Likestar','Linkton','Longton','Nun 70406','Oslo','Pluston','Runner','Shafton','Spheros','Stromboli','Sumstar','Triton','Volta']]\n",
    "y = sd_data2[['standard_deviation']]\n",
    "x = sm.add_constant(x)\n",
    "sd_model = sm.OLS(y,x).fit()\n",
    "print(sd_model.summary())\n",
    "sd_model.params.to_csv('coefficients.csv')"
   ]
  },
  {
   "cell_type": "code",
   "execution_count": null,
   "metadata": {},
   "outputs": [],
   "source": []
  }
 ],
 "metadata": {
  "kernelspec": {
   "display_name": "Python 3",
   "language": "python",
   "name": "python3"
  },
  "language_info": {
   "codemirror_mode": {
    "name": "ipython",
    "version": 3
   },
   "file_extension": ".py",
   "mimetype": "text/x-python",
   "name": "python",
   "nbconvert_exporter": "python",
   "pygments_lexer": "ipython3",
   "version": "3.8.3"
  }
 },
 "nbformat": 4,
 "nbformat_minor": 2
}
