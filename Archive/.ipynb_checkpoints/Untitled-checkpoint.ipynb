{
 "cells": [
  {
   "cell_type": "code",
   "execution_count": 17,
   "metadata": {},
   "outputs": [
    {
     "name": "stdout",
     "output_type": "stream",
     "text": [
      "GOOD NIGHT\n",
      "TEST\n"
     ]
    }
   ],
   "source": [
    "sun = 'down'\n",
    "if sun == 'down' : print(\"GOOD NIGHT\")\n",
    "print('TEST')"
   ]
  },
  {
   "cell_type": "code",
   "execution_count": 16,
   "metadata": {},
   "outputs": [
    {
     "name": "stdout",
     "output_type": "stream",
     "text": [
      "GOOD DAY\n",
      "TEST\n"
     ]
    }
   ],
   "source": [
    "sun = 'up'\n",
    "if sun == 'down' :\n",
    "    print('GOOD NIGHT!')\n",
    "if sun != 'down' :\n",
    "    print('GOOD DAY')\n",
    "print('TEST')"
   ]
  },
  {
   "cell_type": "code",
   "execution_count": null,
   "metadata": {},
   "outputs": [],
   "source": []
  }
 ],
 "metadata": {
  "kernelspec": {
   "display_name": "Python 3.7.4 64-bit ('tmccl': virtualenv)",
   "language": "python",
   "name": "python37464bittmcclvirtualenv03d47f797f9e4f66a87d93d6decff9c3"
  },
  "language_info": {
   "codemirror_mode": {
    "name": "ipython",
    "version": 3
   },
   "file_extension": ".py",
   "mimetype": "text/x-python",
   "name": "python",
   "nbconvert_exporter": "python",
   "pygments_lexer": "ipython3",
   "version": "3.7.4"
  }
 },
 "nbformat": 4,
 "nbformat_minor": 2
}
