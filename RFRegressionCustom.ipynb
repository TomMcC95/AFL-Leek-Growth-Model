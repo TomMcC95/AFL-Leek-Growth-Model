{
 "cells": [
  {
   "cell_type": "code",
   "execution_count": 1,
   "id": "8c1292c0",
   "metadata": {
    "scrolled": true,
    "tags": []
   },
   "outputs": [
    {
     "name": "stdout",
     "output_type": "stream",
     "text": [
      "Current Progress: 100.0 %\n"
     ]
    }
   ],
   "source": [
    "#run preprocessing script to make objects available\n",
    "\n",
    "%run PreProcessing.ipynb"
   ]
  },
  {
   "cell_type": "code",
   "execution_count": 2,
   "id": "11e876a8",
   "metadata": {},
   "outputs": [],
   "source": [
    "#import required libraries\n",
    "\n",
    "from sklearn.model_selection import train_test_split, GridSearchCV\n",
    "from sklearn.preprocessing import Normalizer, StandardScaler, OrdinalEncoder\n",
    "from sklearn.ensemble import RandomForestClassifier, GradientBoostingClassifier, VotingClassifier, RandomForestRegressor\n",
    "from sklearn.metrics import precision_score, recall_score, confusion_matrix, classification_report, accuracy_score\n",
    "from sklearn.base import BaseEstimator, ClassifierMixin\n",
    "from sklearn.utils import *\n",
    "from sklearn.utils.validation import check_is_fitted\n",
    "from sklearn.pipeline import Pipeline\n",
    "from sklearn.ensemble import IsolationForest\n",
    "import matplotlib.pyplot as plt\n",
    "import seaborn as sns"
   ]
  },
  {
   "cell_type": "code",
   "execution_count": 3,
   "id": "cc5e00db",
   "metadata": {},
   "outputs": [],
   "source": [
    "# Encode categoriccal variables that will be used as predictors\n",
    "\n",
    "enc = OrdinalEncoder()\n",
    "encoded_df = enc.fit_transform(summary_data_avg[['method', 'variety', 'inputs', 'protection']])\n",
    "summary_data_avg[['method', 'variety', 'inputs', 'protection']] = encoded_df.copy()"
   ]
  },
  {
   "cell_type": "code",
   "execution_count": 4,
   "id": "3ef521a3",
   "metadata": {},
   "outputs": [
    {
     "data": {
      "text/html": [
       "<div>\n",
       "<style scoped>\n",
       "    .dataframe tbody tr th:only-of-type {\n",
       "        vertical-align: middle;\n",
       "    }\n",
       "\n",
       "    .dataframe tbody tr th {\n",
       "        vertical-align: top;\n",
       "    }\n",
       "\n",
       "    .dataframe thead th {\n",
       "        text-align: right;\n",
       "    }\n",
       "</style>\n",
       "<table border=\"1\" class=\"dataframe\">\n",
       "  <thead>\n",
       "    <tr style=\"text-align: right;\">\n",
       "      <th></th>\n",
       "      <th>heat_units</th>\n",
       "      <th>solar_radiation</th>\n",
       "      <th>organic_matter</th>\n",
       "      <th>sand</th>\n",
       "      <th>silt</th>\n",
       "      <th>clay</th>\n",
       "      <th>method</th>\n",
       "      <th>variety</th>\n",
       "      <th>inputs</th>\n",
       "      <th>protection</th>\n",
       "    </tr>\n",
       "  </thead>\n",
       "  <tbody>\n",
       "    <tr>\n",
       "      <th>0</th>\n",
       "      <td>1970</td>\n",
       "      <td>1073585</td>\n",
       "      <td>24.6</td>\n",
       "      <td>40</td>\n",
       "      <td>41</td>\n",
       "      <td>19</td>\n",
       "      <td>2.0</td>\n",
       "      <td>11.0</td>\n",
       "      <td>1.0</td>\n",
       "      <td>0.0</td>\n",
       "    </tr>\n",
       "    <tr>\n",
       "      <th>1</th>\n",
       "      <td>2641</td>\n",
       "      <td>1247965</td>\n",
       "      <td>24.6</td>\n",
       "      <td>40</td>\n",
       "      <td>41</td>\n",
       "      <td>19</td>\n",
       "      <td>2.0</td>\n",
       "      <td>11.0</td>\n",
       "      <td>1.0</td>\n",
       "      <td>0.0</td>\n",
       "    </tr>\n",
       "    <tr>\n",
       "      <th>2</th>\n",
       "      <td>3189</td>\n",
       "      <td>1379555</td>\n",
       "      <td>24.6</td>\n",
       "      <td>40</td>\n",
       "      <td>41</td>\n",
       "      <td>19</td>\n",
       "      <td>2.0</td>\n",
       "      <td>11.0</td>\n",
       "      <td>1.0</td>\n",
       "      <td>0.0</td>\n",
       "    </tr>\n",
       "    <tr>\n",
       "      <th>3</th>\n",
       "      <td>3540</td>\n",
       "      <td>1529793</td>\n",
       "      <td>24.6</td>\n",
       "      <td>40</td>\n",
       "      <td>41</td>\n",
       "      <td>19</td>\n",
       "      <td>2.0</td>\n",
       "      <td>11.0</td>\n",
       "      <td>1.0</td>\n",
       "      <td>0.0</td>\n",
       "    </tr>\n",
       "    <tr>\n",
       "      <th>4</th>\n",
       "      <td>3813</td>\n",
       "      <td>1631446</td>\n",
       "      <td>24.6</td>\n",
       "      <td>40</td>\n",
       "      <td>41</td>\n",
       "      <td>19</td>\n",
       "      <td>2.0</td>\n",
       "      <td>11.0</td>\n",
       "      <td>1.0</td>\n",
       "      <td>0.0</td>\n",
       "    </tr>\n",
       "  </tbody>\n",
       "</table>\n",
       "</div>"
      ],
      "text/plain": [
       "   heat_units  solar_radiation  organic_matter  sand  silt  clay  method  \\\n",
       "0        1970          1073585            24.6    40    41    19     2.0   \n",
       "1        2641          1247965            24.6    40    41    19     2.0   \n",
       "2        3189          1379555            24.6    40    41    19     2.0   \n",
       "3        3540          1529793            24.6    40    41    19     2.0   \n",
       "4        3813          1631446            24.6    40    41    19     2.0   \n",
       "\n",
       "   variety  inputs  protection  \n",
       "0     11.0     1.0         0.0  \n",
       "1     11.0     1.0         0.0  \n",
       "2     11.0     1.0         0.0  \n",
       "3     11.0     1.0         0.0  \n",
       "4     11.0     1.0         0.0  "
      ]
     },
     "execution_count": 4,
     "metadata": {},
     "output_type": "execute_result"
    }
   ],
   "source": [
    "# Assign 'X' and 'y' values and split into seperate train and test df.\n",
    "\n",
    "X = summary_data_avg[['heat_units', 'solar_radiation', 'organic_matter', 'sand', 'silt', 'clay', 'method', 'variety', 'inputs', 'protection']]\n",
    "y = summary_data_avg['mean_diameter']\n",
    "X_train, X_test, y_train, y_test = train_test_split(X, y, test_size=0.2, random_state = 10)\n",
    "X.head()"
   ]
  },
  {
   "cell_type": "code",
   "execution_count": 5,
   "id": "00f449d0",
   "metadata": {},
   "outputs": [
    {
     "name": "stdout",
     "output_type": "stream",
     "text": [
      "The old training dataframe shape: (2690, 10)\n",
      "Total number of outliers identified is:  269\n"
     ]
    }
   ],
   "source": [
    "# Use the isolation forest algorithm to remove the most rogue 10% of datapoints.\n",
    "# Check only 10% was removed.\n",
    "\n",
    "print(f\"The old training dataframe shape: {X_train.shape}\")\n",
    "\n",
    "clf1 = IsolationForest(max_samples=500, random_state = 10, contamination= 0.1)\n",
    "preds = clf1.fit_predict(X_train)\n",
    "\n",
    "totalOutliers=0\n",
    "for pred in preds:\n",
    "    if pred == -1:\n",
    "        totalOutliers=totalOutliers+1\n",
    "print(\"Total number of outliers identified is: \",totalOutliers)"
   ]
  },
  {
   "cell_type": "code",
   "execution_count": 6,
   "id": "a6aa6716",
   "metadata": {},
   "outputs": [
    {
     "name": "stdout",
     "output_type": "stream",
     "text": [
      "The new training dataframe shape: (2421, 10)\n"
     ]
    }
   ],
   "source": [
    "# Remove outliers from training data.\n",
    "# Do not remove from test data as this is bad practice.\n",
    "# Confirm removal by checking new df shape.\n",
    "\n",
    "filtered_array = []\n",
    "for element in preds:\n",
    "  if element != -1:\n",
    "    filtered_array.append(True)\n",
    "  else:\n",
    "    filtered_array.append(False)\n",
    "X_train = X_train[filtered_array]\n",
    "y_train = y_train[filtered_array]\n",
    "\n",
    "print(f\"The new training dataframe shape: {X_train.shape}\")"
   ]
  },
  {
   "cell_type": "code",
   "execution_count": 7,
   "id": "2d93e3fe",
   "metadata": {},
   "outputs": [],
   "source": [
    "# Scaled data although there is no need to scale with a Random Forest algorithm.\n",
    "# Only fit the scaled data using the training df but use it to transform both test and train.\n",
    "# This data won't be used but this is necessary for a lot of other ML algorithms.\n",
    "# Keep here as a reminder in case another model is developed.\n",
    "\n",
    "scaler = StandardScaler()\n",
    "scaler.fit(X_train)\n",
    "X_train_scaled = scaler.transform(X_train)\n",
    "X_test_scaled = scaler.transform(X_test)\n",
    "\n"
   ]
  },
  {
   "cell_type": "code",
   "execution_count": 8,
   "id": "dbc19f21",
   "metadata": {},
   "outputs": [
    {
     "name": "stdout",
     "output_type": "stream",
     "text": [
      "Fitting 5 folds for each of 6 candidates, totalling 30 fits\n",
      "{'bootstrap': True, 'max_features': 'sqrt', 'random_state': 10}\n"
     ]
    }
   ],
   "source": [
    "# Hypertuning model to find best parameters.\n",
    "# Print the best parameters to use within the model.\n",
    "\n",
    "param_grid = {'random_state': [10],\n",
    "              'max_features': ['sqrt', 'auto', 'log2'],\n",
    "              'bootstrap': [True, False]}  \n",
    "   \n",
    "grid_rfr = GridSearchCV(RandomForestRegressor(), param_grid, refit = True, verbose = 3, n_jobs= 2)\n",
    "\n",
    "grid_rfr.fit(X_train, y_train.values.ravel()) \n",
    " \n",
    "print(grid_rfr.best_params_)   "
   ]
  },
  {
   "cell_type": "code",
   "execution_count": 9,
   "id": "5ba5ca37",
   "metadata": {},
   "outputs": [
    {
     "name": "stdout",
     "output_type": "stream",
     "text": [
      "0.8884269866990918\n"
     ]
    }
   ],
   "source": [
    "# Fit hypertuned model and print score.\n",
    "\n",
    "rfr = RandomForestRegressor(max_features = 'sqrt', random_state = 10, n_estimators = 50, max_depth = 10)\n",
    "rfr_model = rfr.fit(X_train, y_train.values.ravel())\n",
    "rfr_model_pred = rfr_model.predict(X_test)\n",
    "print(rfr.score(X_test, y_test))"
   ]
  },
  {
   "cell_type": "code",
   "execution_count": 10,
   "id": "0d062a6b",
   "metadata": {},
   "outputs": [
    {
     "data": {
      "text/plain": [
       "[<matplotlib.lines.Line2D at 0x248025fc5b0>]"
      ]
     },
     "execution_count": 10,
     "metadata": {},
     "output_type": "execute_result"
    },
    {
     "data": {
      "image/png": "[encoded data removed]",
      "text/plain": [
       "<Figure size 432x288 with 1 Axes>"
      ]
     },
     "metadata": {
      "needs_background": "light"
     },
     "output_type": "display_data"
    }
   ],
   "source": [
    "# Optimisation for n_estimators parameter.\n",
    "\n",
    "estimators = np.arange(5, 200, 5)\n",
    "scores = []\n",
    "for n in estimators:\n",
    "    rfr.set_params(n_estimators=n)\n",
    "    rfr.fit(X_train, y_train)\n",
    "    scores.append(rfr.score(X_test, y_test))\n",
    "plt.title(\"Effect of n_estimators\")\n",
    "plt.xlabel(\"n_estimator\")\n",
    "plt.ylabel(\"score\")\n",
    "plt.plot(estimators, scores)"
   ]
  },
  {
   "cell_type": "code",
   "execution_count": 11,
   "id": "97404fbc",
   "metadata": {},
   "outputs": [
    {
     "data": {
      "text/plain": [
       "[<matplotlib.lines.Line2D at 0x24804cf09d0>]"
      ]
     },
     "execution_count": 11,
     "metadata": {},
     "output_type": "execute_result"
    },
    {
     "data": {
      "image/png": "[encoded data removed]",
      "text/plain": [
       "<Figure size 432x288 with 1 Axes>"
      ]
     },
     "metadata": {
      "needs_background": "light"
     },
     "output_type": "display_data"
    }
   ],
   "source": [
    "# Optimisation for max_depth parameter.\n",
    "\n",
    "depth = np.arange(2, 20, 2)\n",
    "scores = []\n",
    "for n in depth:\n",
    "    rfr.set_params(max_depth=n)\n",
    "    rfr.fit(X_train, y_train)\n",
    "    scores.append(rfr.score(X_test, y_test))\n",
    "plt.title(\"Effect of depth\")\n",
    "plt.xlabel(\"depth\")\n",
    "plt.ylabel(\"score\")\n",
    "plt.plot(depth, scores)"
   ]
  },
  {
   "cell_type": "code",
   "execution_count": 12,
   "id": "1705c937",
   "metadata": {
    "scrolled": true,
    "tags": []
   },
   "outputs": [
    {
     "data": {
      "text/html": [
       "<div>\n",
       "<style scoped>\n",
       "    .dataframe tbody tr th:only-of-type {\n",
       "        vertical-align: middle;\n",
       "    }\n",
       "\n",
       "    .dataframe tbody tr th {\n",
       "        vertical-align: top;\n",
       "    }\n",
       "\n",
       "    .dataframe thead th {\n",
       "        text-align: right;\n",
       "    }\n",
       "</style>\n",
       "<table border=\"1\" class=\"dataframe\">\n",
       "  <thead>\n",
       "    <tr style=\"text-align: right;\">\n",
       "      <th></th>\n",
       "      <th>heat_units</th>\n",
       "      <th>solar_radiation</th>\n",
       "      <th>organic_matter</th>\n",
       "      <th>sand</th>\n",
       "      <th>silt</th>\n",
       "      <th>clay</th>\n",
       "      <th>method</th>\n",
       "      <th>variety</th>\n",
       "      <th>inputs</th>\n",
       "      <th>protection</th>\n",
       "      <th>predicted_mean_diameter</th>\n",
       "      <th>mean_diameter</th>\n",
       "    </tr>\n",
       "  </thead>\n",
       "  <tbody>\n",
       "    <tr>\n",
       "      <th>0</th>\n",
       "      <td>4089</td>\n",
       "      <td>1771489</td>\n",
       "      <td>29.6</td>\n",
       "      <td>39</td>\n",
       "      <td>37</td>\n",
       "      <td>24</td>\n",
       "      <td>Drilled</td>\n",
       "      <td>Batter</td>\n",
       "      <td>Conventional</td>\n",
       "      <td>Barley</td>\n",
       "      <td>28.052743</td>\n",
       "      <td>26.919200</td>\n",
       "    </tr>\n",
       "    <tr>\n",
       "      <th>1</th>\n",
       "      <td>3531</td>\n",
       "      <td>1425903</td>\n",
       "      <td>69.8</td>\n",
       "      <td>38</td>\n",
       "      <td>52</td>\n",
       "      <td>10</td>\n",
       "      <td>Drilled</td>\n",
       "      <td>Chiefton</td>\n",
       "      <td>Conventional</td>\n",
       "      <td>Barley</td>\n",
       "      <td>25.735144</td>\n",
       "      <td>30.121481</td>\n",
       "    </tr>\n",
       "    <tr>\n",
       "      <th>2</th>\n",
       "      <td>2328</td>\n",
       "      <td>1293708</td>\n",
       "      <td>43.3</td>\n",
       "      <td>36</td>\n",
       "      <td>42</td>\n",
       "      <td>22</td>\n",
       "      <td>Drilled</td>\n",
       "      <td>Spheros</td>\n",
       "      <td>Conventional</td>\n",
       "      <td>Barley</td>\n",
       "      <td>15.327111</td>\n",
       "      <td>13.330213</td>\n",
       "    </tr>\n",
       "    <tr>\n",
       "      <th>3</th>\n",
       "      <td>3365</td>\n",
       "      <td>1537170</td>\n",
       "      <td>20.0</td>\n",
       "      <td>63</td>\n",
       "      <td>15</td>\n",
       "      <td>22</td>\n",
       "      <td>Drilled</td>\n",
       "      <td>Linkton</td>\n",
       "      <td>Conventional</td>\n",
       "      <td>Barley</td>\n",
       "      <td>24.691139</td>\n",
       "      <td>23.685106</td>\n",
       "    </tr>\n",
       "    <tr>\n",
       "      <th>4</th>\n",
       "      <td>3958</td>\n",
       "      <td>1586370</td>\n",
       "      <td>19.9</td>\n",
       "      <td>31</td>\n",
       "      <td>36</td>\n",
       "      <td>33</td>\n",
       "      <td>Drilled</td>\n",
       "      <td>Lexton</td>\n",
       "      <td>Conventional</td>\n",
       "      <td>Barley</td>\n",
       "      <td>26.792704</td>\n",
       "      <td>24.416800</td>\n",
       "    </tr>\n",
       "  </tbody>\n",
       "</table>\n",
       "</div>"
      ],
      "text/plain": [
       "   heat_units  solar_radiation  organic_matter  sand  silt  clay   method  \\\n",
       "0        4089          1771489            29.6    39    37    24  Drilled   \n",
       "1        3531          1425903            69.8    38    52    10  Drilled   \n",
       "2        2328          1293708            43.3    36    42    22  Drilled   \n",
       "3        3365          1537170            20.0    63    15    22  Drilled   \n",
       "4        3958          1586370            19.9    31    36    33  Drilled   \n",
       "\n",
       "    variety        inputs protection  predicted_mean_diameter  mean_diameter  \n",
       "0    Batter  Conventional     Barley                28.052743      26.919200  \n",
       "1  Chiefton  Conventional     Barley                25.735144      30.121481  \n",
       "2   Spheros  Conventional     Barley                15.327111      13.330213  \n",
       "3   Linkton  Conventional     Barley                24.691139      23.685106  \n",
       "4    Lexton  Conventional     Barley                26.792704      24.416800  "
      ]
     },
     "execution_count": 12,
     "metadata": {},
     "output_type": "execute_result"
    }
   ],
   "source": [
    "# Join 'X' and 'y' test df together along with predictions to make visualisations easier.\n",
    "\n",
    "y_test_df = y_test.to_frame()\n",
    "y_test_df = y_test_df.rename(columns = {0:'mean_diameter'}).reset_index(drop=True)\n",
    "\n",
    "pred_df = pd.DataFrame(rfr_model_pred, columns = ['predicted_mean_diameter']).reset_index(drop=True)\n",
    "X_test_df = pd.DataFrame(X_test, columns = ['heat_units', 'solar_radiation', 'organic_matter', 'sand', 'silt', 'clay', 'method', 'variety', 'inputs', 'protection']).reset_index(drop = True)\n",
    "\n",
    "test_df = X_test_df.copy()\n",
    "test_df['predicted_mean_diameter'] = pd.Series(pred_df['predicted_mean_diameter'])\n",
    "test_df['mean_diameter'] = pd.Series(y_test_df['mean_diameter'])\n",
    "\n",
    "test_df[['method', 'variety', 'inputs', 'protection']] = enc.inverse_transform(test_df[['method',\n",
    "                                                                                        'variety',\n",
    "                                                                                        'inputs',\n",
    "                                                                                        'protection']])\n",
    "\n",
    "test_df.head()"
   ]
  },
  {
   "cell_type": "code",
   "execution_count": 13,
   "id": "8b3cf3ae",
   "metadata": {},
   "outputs": [
    {
     "data": {
      "text/plain": [
       "(673, 12)"
      ]
     },
     "execution_count": 13,
     "metadata": {},
     "output_type": "execute_result"
    }
   ],
   "source": [
    "test_df.shape"
   ]
  },
  {
   "cell_type": "code",
   "execution_count": 14,
   "id": "f52cbc02",
   "metadata": {},
   "outputs": [
    {
     "data": {
      "text/plain": [
       "<AxesSubplot:xlabel='predicted_mean_diameter', ylabel='mean_diameter'>"
      ]
     },
     "execution_count": 14,
     "metadata": {},
     "output_type": "execute_result"
    },
    {
     "data": {
      "image/png": "[encoded data removed]",
      "text/plain": [
       "<Figure size 432x288 with 1 Axes>"
      ]
     },
     "metadata": {
      "needs_background": "light"
     },
     "output_type": "display_data"
    }
   ],
   "source": [
    "# Scatterplot to show how predicted mean compares to actual mean.\n",
    "# Set hue to see if any indicator variables have a bias.\n",
    "\n",
    "sns.scatterplot(y = 'mean_diameter', x = 'predicted_mean_diameter', hue = 'method', data = test_df)"
   ]
  },
  {
   "cell_type": "code",
   "execution_count": 15,
   "id": "7c14092e",
   "metadata": {},
   "outputs": [
    {
     "data": {
      "text/plain": [
       "<AxesSubplot:xlabel='solar_radiation', ylabel='predicted_mean_diameter'>"
      ]
     },
     "execution_count": 15,
     "metadata": {},
     "output_type": "execute_result"
    },
    {
     "data": {
      "image/png": "[encoded data removed]",
      "text/plain": [
       "<Figure size 432x288 with 1 Axes>"
      ]
     },
     "metadata": {
      "needs_background": "light"
     },
     "output_type": "display_data"
    }
   ],
   "source": [
    "# Scatterplot to show how organic matter affects predicted growth rate.\n",
    "\n",
    "sns.scatterplot(y = 'predicted_mean_diameter', x = 'solar_radiation', hue = 'organic_matter', data = test_df[(test_df.method == 'Drilled')])"
   ]
  },
  {
   "cell_type": "code",
   "execution_count": 16,
   "id": "132e3f73",
   "metadata": {},
   "outputs": [
    {
     "data": {
      "text/html": [
       "<div>\n",
       "<style scoped>\n",
       "    .dataframe tbody tr th:only-of-type {\n",
       "        vertical-align: middle;\n",
       "    }\n",
       "\n",
       "    .dataframe tbody tr th {\n",
       "        vertical-align: top;\n",
       "    }\n",
       "\n",
       "    .dataframe thead th {\n",
       "        text-align: right;\n",
       "    }\n",
       "</style>\n",
       "<table border=\"1\" class=\"dataframe\">\n",
       "  <thead>\n",
       "    <tr style=\"text-align: right;\">\n",
       "      <th></th>\n",
       "      <th>fieldzonedate</th>\n",
       "      <th>mean_diameter</th>\n",
       "      <th>std_dev_diameter</th>\n",
       "      <th>pp2m2</th>\n",
       "      <th>skewness</th>\n",
       "      <th>kurtosis</th>\n",
       "      <th>method</th>\n",
       "      <th>inputs</th>\n",
       "      <th>variety</th>\n",
       "      <th>sand</th>\n",
       "      <th>silt</th>\n",
       "      <th>clay</th>\n",
       "      <th>organic_matter</th>\n",
       "      <th>planting_rate</th>\n",
       "      <th>planting_date</th>\n",
       "      <th>sample_date</th>\n",
       "      <th>fieldzone</th>\n",
       "      <th>d_lin</th>\n",
       "      <th>s_lin</th>\n",
       "      <th>heat_units</th>\n",
       "      <th>solar_radiation</th>\n",
       "      <th>protection</th>\n",
       "      <th>protection_Barley</th>\n",
       "      <th>protection_Fleece</th>\n",
       "      <th>protection_None</th>\n",
       "      <th>protection_Poly</th>\n",
       "    </tr>\n",
       "  </thead>\n",
       "  <tbody>\n",
       "    <tr>\n",
       "      <th>0</th>\n",
       "      <td>Allans 06 - 1 - 2021-07-29</td>\n",
       "      <td>9.175789</td>\n",
       "      <td>3.043690</td>\n",
       "      <td>38</td>\n",
       "      <td>0.222939</td>\n",
       "      <td>-0.418881</td>\n",
       "      <td>2.0</td>\n",
       "      <td>1.0</td>\n",
       "      <td>11.0</td>\n",
       "      <td>40</td>\n",
       "      <td>41</td>\n",
       "      <td>19</td>\n",
       "      <td>24.6</td>\n",
       "      <td>262270</td>\n",
       "      <td>2021-04-10</td>\n",
       "      <td>2021-07-29</td>\n",
       "      <td>Allans 06 - 1</td>\n",
       "      <td>3.996245</td>\n",
       "      <td>2.005050</td>\n",
       "      <td>1970</td>\n",
       "      <td>1073585</td>\n",
       "      <td>0.0</td>\n",
       "      <td>1</td>\n",
       "      <td>0</td>\n",
       "      <td>0</td>\n",
       "      <td>0</td>\n",
       "    </tr>\n",
       "    <tr>\n",
       "      <th>1</th>\n",
       "      <td>Allans 06 - 1 - 2021-08-18</td>\n",
       "      <td>17.076098</td>\n",
       "      <td>4.068069</td>\n",
       "      <td>41</td>\n",
       "      <td>-0.039656</td>\n",
       "      <td>-0.908057</td>\n",
       "      <td>2.0</td>\n",
       "      <td>1.0</td>\n",
       "      <td>11.0</td>\n",
       "      <td>40</td>\n",
       "      <td>41</td>\n",
       "      <td>19</td>\n",
       "      <td>24.6</td>\n",
       "      <td>262270</td>\n",
       "      <td>2021-04-10</td>\n",
       "      <td>2021-08-18</td>\n",
       "      <td>Allans 06 - 1</td>\n",
       "      <td>5.891731</td>\n",
       "      <td>2.403630</td>\n",
       "      <td>2641</td>\n",
       "      <td>1247965</td>\n",
       "      <td>0.0</td>\n",
       "      <td>1</td>\n",
       "      <td>0</td>\n",
       "      <td>0</td>\n",
       "      <td>0</td>\n",
       "    </tr>\n",
       "    <tr>\n",
       "      <th>2</th>\n",
       "      <td>Allans 06 - 1 - 2021-09-07</td>\n",
       "      <td>19.612727</td>\n",
       "      <td>6.276772</td>\n",
       "      <td>44</td>\n",
       "      <td>-0.580590</td>\n",
       "      <td>0.029431</td>\n",
       "      <td>2.0</td>\n",
       "      <td>1.0</td>\n",
       "      <td>11.0</td>\n",
       "      <td>40</td>\n",
       "      <td>41</td>\n",
       "      <td>19</td>\n",
       "      <td>24.6</td>\n",
       "      <td>262270</td>\n",
       "      <td>2021-04-10</td>\n",
       "      <td>2021-09-07</td>\n",
       "      <td>Allans 06 - 1</td>\n",
       "      <td>6.424454</td>\n",
       "      <td>3.151993</td>\n",
       "      <td>3189</td>\n",
       "      <td>1379555</td>\n",
       "      <td>0.0</td>\n",
       "      <td>1</td>\n",
       "      <td>0</td>\n",
       "      <td>0</td>\n",
       "      <td>0</td>\n",
       "    </tr>\n",
       "    <tr>\n",
       "      <th>3</th>\n",
       "      <td>Allans 06 - 1 - 2021-10-05</td>\n",
       "      <td>26.536889</td>\n",
       "      <td>7.682152</td>\n",
       "      <td>45</td>\n",
       "      <td>-1.109977</td>\n",
       "      <td>0.722065</td>\n",
       "      <td>2.0</td>\n",
       "      <td>1.0</td>\n",
       "      <td>11.0</td>\n",
       "      <td>40</td>\n",
       "      <td>41</td>\n",
       "      <td>19</td>\n",
       "      <td>24.6</td>\n",
       "      <td>262270</td>\n",
       "      <td>2021-04-10</td>\n",
       "      <td>2021-10-05</td>\n",
       "      <td>Allans 06 - 1</td>\n",
       "      <td>7.760796</td>\n",
       "      <td>3.576241</td>\n",
       "      <td>3540</td>\n",
       "      <td>1529793</td>\n",
       "      <td>0.0</td>\n",
       "      <td>1</td>\n",
       "      <td>0</td>\n",
       "      <td>0</td>\n",
       "      <td>0</td>\n",
       "    </tr>\n",
       "    <tr>\n",
       "      <th>4</th>\n",
       "      <td>Allans 06 - 1 - 2021-11-12</td>\n",
       "      <td>27.324000</td>\n",
       "      <td>8.001953</td>\n",
       "      <td>40</td>\n",
       "      <td>0.199289</td>\n",
       "      <td>0.418831</td>\n",
       "      <td>2.0</td>\n",
       "      <td>1.0</td>\n",
       "      <td>11.0</td>\n",
       "      <td>40</td>\n",
       "      <td>41</td>\n",
       "      <td>19</td>\n",
       "      <td>24.6</td>\n",
       "      <td>262270</td>\n",
       "      <td>2021-04-10</td>\n",
       "      <td>2021-11-12</td>\n",
       "      <td>Allans 06 - 1</td>\n",
       "      <td>7.903877</td>\n",
       "      <td>3.668576</td>\n",
       "      <td>3813</td>\n",
       "      <td>1631446</td>\n",
       "      <td>0.0</td>\n",
       "      <td>1</td>\n",
       "      <td>0</td>\n",
       "      <td>0</td>\n",
       "      <td>0</td>\n",
       "    </tr>\n",
       "  </tbody>\n",
       "</table>\n",
       "</div>"
      ],
      "text/plain": [
       "                fieldzonedate  mean_diameter  std_dev_diameter  pp2m2  \\\n",
       "0  Allans 06 - 1 - 2021-07-29       9.175789          3.043690     38   \n",
       "1  Allans 06 - 1 - 2021-08-18      17.076098          4.068069     41   \n",
       "2  Allans 06 - 1 - 2021-09-07      19.612727          6.276772     44   \n",
       "3  Allans 06 - 1 - 2021-10-05      26.536889          7.682152     45   \n",
       "4  Allans 06 - 1 - 2021-11-12      27.324000          8.001953     40   \n",
       "\n",
       "   skewness  kurtosis  method  inputs  variety  sand  silt  clay  \\\n",
       "0  0.222939 -0.418881     2.0     1.0     11.0    40    41    19   \n",
       "1 -0.039656 -0.908057     2.0     1.0     11.0    40    41    19   \n",
       "2 -0.580590  0.029431     2.0     1.0     11.0    40    41    19   \n",
       "3 -1.109977  0.722065     2.0     1.0     11.0    40    41    19   \n",
       "4  0.199289  0.418831     2.0     1.0     11.0    40    41    19   \n",
       "\n",
       "   organic_matter  planting_rate planting_date sample_date      fieldzone  \\\n",
       "0            24.6         262270    2021-04-10  2021-07-29  Allans 06 - 1   \n",
       "1            24.6         262270    2021-04-10  2021-08-18  Allans 06 - 1   \n",
       "2            24.6         262270    2021-04-10  2021-09-07  Allans 06 - 1   \n",
       "3            24.6         262270    2021-04-10  2021-10-05  Allans 06 - 1   \n",
       "4            24.6         262270    2021-04-10  2021-11-12  Allans 06 - 1   \n",
       "\n",
       "      d_lin     s_lin  heat_units  solar_radiation  protection  \\\n",
       "0  3.996245  2.005050        1970          1073585         0.0   \n",
       "1  5.891731  2.403630        2641          1247965         0.0   \n",
       "2  6.424454  3.151993        3189          1379555         0.0   \n",
       "3  7.760796  3.576241        3540          1529793         0.0   \n",
       "4  7.903877  3.668576        3813          1631446         0.0   \n",
       "\n",
       "   protection_Barley  protection_Fleece  protection_None  protection_Poly  \n",
       "0                  1                  0                0                0  \n",
       "1                  1                  0                0                0  \n",
       "2                  1                  0                0                0  \n",
       "3                  1                  0                0                0  \n",
       "4                  1                  0                0                0  "
      ]
     },
     "execution_count": 16,
     "metadata": {},
     "output_type": "execute_result"
    }
   ],
   "source": [
    "summary_data_avg.head()"
   ]
  },
  {
   "cell_type": "code",
   "execution_count": 18,
   "id": "9a1f2e18",
   "metadata": {},
   "outputs": [
    {
     "data": {
      "text/html": [
       "<div>\n",
       "<style scoped>\n",
       "    .dataframe tbody tr th:only-of-type {\n",
       "        vertical-align: middle;\n",
       "    }\n",
       "\n",
       "    .dataframe tbody tr th {\n",
       "        vertical-align: top;\n",
       "    }\n",
       "\n",
       "    .dataframe thead th {\n",
       "        text-align: right;\n",
       "    }\n",
       "</style>\n",
       "<table border=\"1\" class=\"dataframe\">\n",
       "  <thead>\n",
       "    <tr style=\"text-align: right;\">\n",
       "      <th></th>\n",
       "      <th>fieldzonedate</th>\n",
       "      <th>pp2m2</th>\n",
       "      <th>planting_rate</th>\n",
       "    </tr>\n",
       "  </thead>\n",
       "  <tbody>\n",
       "    <tr>\n",
       "      <th>0</th>\n",
       "      <td>Allans 06 - 1 - 2021-07-29</td>\n",
       "      <td>38</td>\n",
       "      <td>262270</td>\n",
       "    </tr>\n",
       "    <tr>\n",
       "      <th>1</th>\n",
       "      <td>Allans 06 - 1 - 2021-08-18</td>\n",
       "      <td>41</td>\n",
       "      <td>262270</td>\n",
       "    </tr>\n",
       "    <tr>\n",
       "      <th>2</th>\n",
       "      <td>Allans 06 - 1 - 2021-09-07</td>\n",
       "      <td>44</td>\n",
       "      <td>262270</td>\n",
       "    </tr>\n",
       "    <tr>\n",
       "      <th>3</th>\n",
       "      <td>Allans 06 - 1 - 2021-10-05</td>\n",
       "      <td>45</td>\n",
       "      <td>262270</td>\n",
       "    </tr>\n",
       "    <tr>\n",
       "      <th>4</th>\n",
       "      <td>Allans 06 - 1 - 2021-11-12</td>\n",
       "      <td>40</td>\n",
       "      <td>262270</td>\n",
       "    </tr>\n",
       "  </tbody>\n",
       "</table>\n",
       "</div>"
      ],
      "text/plain": [
       "                fieldzonedate  pp2m2  planting_rate\n",
       "0  Allans 06 - 1 - 2021-07-29     38         262270\n",
       "1  Allans 06 - 1 - 2021-08-18     41         262270\n",
       "2  Allans 06 - 1 - 2021-09-07     44         262270\n",
       "3  Allans 06 - 1 - 2021-10-05     45         262270\n",
       "4  Allans 06 - 1 - 2021-11-12     40         262270"
      ]
     },
     "execution_count": 18,
     "metadata": {},
     "output_type": "execute_result"
    }
   ],
   "source": [
    "establishment_df = summary_data_avg[['fieldzonedate', 'pp2m2', 'planting_rate', 'planting_date']].copy()\n",
    "establishment_df.head()"
   ]
  },
  {
   "cell_type": "code",
   "execution_count": 41,
   "id": "6bdc718e",
   "metadata": {},
   "outputs": [
    {
     "data": {
      "text/html": [
       "<div>\n",
       "<style scoped>\n",
       "    .dataframe tbody tr th:only-of-type {\n",
       "        vertical-align: middle;\n",
       "    }\n",
       "\n",
       "    .dataframe tbody tr th {\n",
       "        vertical-align: top;\n",
       "    }\n",
       "\n",
       "    .dataframe thead th {\n",
       "        text-align: right;\n",
       "    }\n",
       "</style>\n",
       "<table border=\"1\" class=\"dataframe\">\n",
       "  <thead>\n",
       "    <tr style=\"text-align: right;\">\n",
       "      <th></th>\n",
       "      <th>fieldzone</th>\n",
       "      <th>mean_pp2m2</th>\n",
       "      <th>std_pp2m2</th>\n",
       "      <th>planting_rate</th>\n",
       "      <th>planting_date</th>\n",
       "    </tr>\n",
       "  </thead>\n",
       "  <tbody>\n",
       "    <tr>\n",
       "      <th>0</th>\n",
       "      <td>Allans 06 - 1</td>\n",
       "      <td>41.6</td>\n",
       "      <td>2.880972</td>\n",
       "      <td>262270</td>\n",
       "      <td>2021-04-10</td>\n",
       "    </tr>\n",
       "    <tr>\n",
       "      <th>1</th>\n",
       "      <td>Allans 06 - 2</td>\n",
       "      <td>42.8</td>\n",
       "      <td>2.683282</td>\n",
       "      <td>262270</td>\n",
       "      <td>2021-04-10</td>\n",
       "    </tr>\n",
       "    <tr>\n",
       "      <th>2</th>\n",
       "      <td>Allans 06 - 3</td>\n",
       "      <td>44.0</td>\n",
       "      <td>4.949747</td>\n",
       "      <td>262270</td>\n",
       "      <td>2021-04-10</td>\n",
       "    </tr>\n",
       "    <tr>\n",
       "      <th>3</th>\n",
       "      <td>Allans 06 - 4</td>\n",
       "      <td>36.2</td>\n",
       "      <td>3.114482</td>\n",
       "      <td>259048</td>\n",
       "      <td>2021-04-11</td>\n",
       "    </tr>\n",
       "    <tr>\n",
       "      <th>4</th>\n",
       "      <td>Allans 06 - 5</td>\n",
       "      <td>40.8</td>\n",
       "      <td>3.633180</td>\n",
       "      <td>259048</td>\n",
       "      <td>2021-04-11</td>\n",
       "    </tr>\n",
       "  </tbody>\n",
       "</table>\n",
       "</div>"
      ],
      "text/plain": [
       "       fieldzone  mean_pp2m2  std_pp2m2  planting_rate planting_date\n",
       "0  Allans 06 - 1        41.6   2.880972         262270    2021-04-10\n",
       "1  Allans 06 - 2        42.8   2.683282         262270    2021-04-10\n",
       "2  Allans 06 - 3        44.0   4.949747         262270    2021-04-10\n",
       "3  Allans 06 - 4        36.2   3.114482         259048    2021-04-11\n",
       "4  Allans 06 - 5        40.8   3.633180         259048    2021-04-11"
      ]
     },
     "execution_count": 41,
     "metadata": {},
     "output_type": "execute_result"
    }
   ],
   "source": [
    "estab_df = pd.DataFrame(summary_data_avg.fieldzonedate.str.split(pat=' - ', n= -1,).tolist(), columns=\"field zone date\".split())\n",
    "estab_df[['pp2m2', 'planting_rate', 'planting_date']] = summary_data_avg[['pp2m2', 'planting_rate', 'planting_date']].copy()\n",
    "estab_df = estab_df.drop('date', axis = 1)\n",
    "estab_df['fieldzone'] = estab_df['field'] + ' - ' + estab_df['zone']\n",
    "estab_df = estab_df.groupby(['fieldzone']).agg({'pp2m2' : ['mean', 'std'],\n",
    "                                                'planting_rate' : 'mean',\n",
    "                                                'planting_date' : 'first'}).reset_index()\n",
    "\n",
    "estab_df.columns = ['fieldzone', 'mean_pp2m2', 'std_pp2m2', 'planting_rate', 'planting_date']\n",
    "\n",
    "estab_df['establishment'] = \n",
    "\n",
    "estab_df.head()"
   ]
  },
  {
   "cell_type": "code",
   "execution_count": null,
   "id": "69d74f84",
   "metadata": {},
   "outputs": [],
   "source": []
  }
 ],
 "metadata": {
  "kernelspec": {
   "display_name": "Python 3",
   "language": "python",
   "name": "python3"
  },
  "language_info": {
   "codemirror_mode": {
    "name": "ipython",
    "version": 3
   },
   "file_extension": ".py",
   "mimetype": "text/x-python",
   "name": "python",
   "nbconvert_exporter": "python",
   "pygments_lexer": "ipython3",
   "version": "3.9.1"
  }
 },
 "nbformat": 4,
 "nbformat_minor": 5
}
