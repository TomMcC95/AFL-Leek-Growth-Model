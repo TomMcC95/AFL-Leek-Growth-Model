{
 "cells": [
  {
   "cell_type": "code",
   "execution_count": 1,
   "id": "689f4821",
   "metadata": {
    "scrolled": true,
    "tags": []
   },
   "outputs": [
    {
     "name": "stdout",
     "output_type": "stream",
     "text": [
      "Current Progress: 100.0 %\n"
     ]
    }
   ],
   "source": [
    "%run PreProcessing.ipynb"
   ]
  },
  {
   "cell_type": "code",
   "execution_count": 2,
   "id": "51001ef2",
   "metadata": {},
   "outputs": [],
   "source": [
    "from sklearn.model_selection import train_test_split, GridSearchCV\n",
    "from sklearn.preprocessing import Normalizer, StandardScaler, OrdinalEncoder\n",
    "from sklearn.ensemble import RandomForestClassifier, GradientBoostingClassifier, VotingClassifier, RandomForestRegressor\n",
    "from sklearn.metrics import precision_score, recall_score, confusion_matrix, classification_report, accuracy_score\n",
    "from sklearn.base import BaseEstimator, ClassifierMixin\n",
    "from sklearn.utils import *\n",
    "from sklearn.utils.validation import check_is_fitted\n",
    "from sklearn.pipeline import Pipeline"
   ]
  },
  {
   "cell_type": "code",
   "execution_count": 3,
   "id": "e2d29e65",
   "metadata": {},
   "outputs": [],
   "source": [
    "enc = OrdinalEncoder()\n",
    "encoded_df = enc.fit_transform(summary_data_avg[['method', 'variety', 'inputs', 'protection']])\n",
    "summary_data_avg[['method', 'variety', 'inputs', 'protection']] = encoded_df"
   ]
  },
  {
   "cell_type": "code",
   "execution_count": 4,
   "id": "47a4fc15",
   "metadata": {},
   "outputs": [
    {
     "name": "stdout",
     "output_type": "stream",
     "text": [
      "   heat_units  solar_radiation  organic_matter  sand  silt  clay  method  \\\n",
      "0        1970          1073585            24.6    40    41    19     2.0   \n",
      "1        2641          1247965            24.6    40    41    19     2.0   \n",
      "2        3189          1379555            24.6    40    41    19     2.0   \n",
      "3        3540          1529793            24.6    40    41    19     2.0   \n",
      "4        3813          1631446            24.6    40    41    19     2.0   \n",
      "\n",
      "   variety  inputs  protection  \n",
      "0     11.0     1.0         0.0  \n",
      "1     11.0     1.0         0.0  \n",
      "2     11.0     1.0         0.0  \n",
      "3     11.0     1.0         0.0  \n",
      "4     11.0     1.0         0.0  \n"
     ]
    }
   ],
   "source": [
    "X = summary_data_avg[['heat_units', 'solar_radiation', 'organic_matter', 'sand', 'silt', 'clay', 'method', 'variety', 'inputs', 'protection']]\n",
    "print(X.head())\n",
    "y = summary_data_avg['mean_diameter']\n",
    "X_train, X_test, y_train, y_test = train_test_split(X, y, test_size=0.2, random_state = 10)"
   ]
  },
  {
   "cell_type": "code",
   "execution_count": 5,
   "id": "6f188eed",
   "metadata": {},
   "outputs": [
    {
     "name": "stdout",
     "output_type": "stream",
     "text": [
      "The old training dataframe shape: (2690, 10)\n",
      "Total number of outliers identified is:  873\n"
     ]
    }
   ],
   "source": [
    "#Isolation forest algorithm to show unsupervised learning\n",
    "from sklearn.ensemble import IsolationForest\n",
    "\n",
    "print(f\"The old training dataframe shape: {X_train.shape}\")\n",
    "\n",
    "#Use the algorithm for outlier detection, then use it to predict each point\n",
    "clf1 = IsolationForest(max_samples=500, random_state = 10, contamination= 'auto')\n",
    "preds = clf1.fit_predict(X_train)\n",
    "\n",
    "#Any point labelled as -1 is an outlier\n",
    "totalOutliers=0\n",
    "for pred in preds:\n",
    "    if pred == -1:\n",
    "        totalOutliers=totalOutliers+1\n",
    "print(\"Total number of outliers identified is: \",totalOutliers)"
   ]
  },
  {
   "cell_type": "code",
   "execution_count": 6,
   "id": "393d2070",
   "metadata": {},
   "outputs": [
    {
     "name": "stdout",
     "output_type": "stream",
     "text": [
      "The new training dataframe shape: (1817, 10)\n"
     ]
    }
   ],
   "source": [
    "#Remove outliers from training data.\n",
    "filtered_array = []\n",
    "for element in preds:\n",
    "  if element != -1:\n",
    "    filtered_array.append(True)\n",
    "  else:\n",
    "    filtered_array.append(False)\n",
    "X_train = X_train[filtered_array]\n",
    "y_train = y_train[filtered_array]\n",
    "\n",
    "print(f\"The new training dataframe shape: {X_train.shape}\")"
   ]
  },
  {
   "cell_type": "code",
   "execution_count": 7,
   "id": "47ca592b",
   "metadata": {},
   "outputs": [],
   "source": [
    "scaler = StandardScaler()\n",
    "scaler.fit(X_train)\n",
    "X_train_scaled = scaler.transform(X_train)\n",
    "X_test_scaled = scaler.transform(X_test)"
   ]
  },
  {
   "cell_type": "code",
   "execution_count": 8,
   "id": "2aa5ba51",
   "metadata": {},
   "outputs": [
    {
     "name": "stdout",
     "output_type": "stream",
     "text": [
      "Fitting 5 folds for each of 3 candidates, totalling 15 fits\n",
      "{'max_features': 'auto', 'random_state': 10}\n"
     ]
    }
   ],
   "source": [
    "param_grid = {'random_state': [10],\n",
    "              'max_features': ['sqrt', 'auto', 'log2']}  \n",
    "   \n",
    "grid_rfr = GridSearchCV(RandomForestRegressor(), param_grid, refit = True, verbose = 3,n_jobs=-1) \n",
    "   \n",
    "# fitting the model for grid search \n",
    "grid_rfr.fit(X_train_scaled, y_train.values.ravel()) \n",
    " \n",
    "# print best parameter after tuning \n",
    "print(grid_rfr.best_params_) \n",
    "grid_rfr_preds = grid_rfr.predict(X_test_scaled)  \n",
    "\n",
    "\n",
    "rfr = RandomForestRegressor(max_features = 'sqrt')\n",
    "rfr_model = rfr.fit(X_train_scaled, y_train.values.ravel())\n",
    "rfr_model_pred = rfr_model.predict(X_test_scaled)"
   ]
  },
  {
   "cell_type": "code",
   "execution_count": 9,
   "id": "b05fcc6e",
   "metadata": {},
   "outputs": [
    {
     "ename": "NameError",
     "evalue": "name 'plt' is not defined",
     "output_type": "error",
     "traceback": [
      "\u001b[1;31m---------------------------------------------------------------------------\u001b[0m",
      "\u001b[1;31mNameError\u001b[0m                                 Traceback (most recent call last)",
      "\u001b[1;32m<ipython-input-9-2bd54900963e>\u001b[0m in \u001b[0;36m<module>\u001b[1;34m\u001b[0m\n\u001b[0;32m      5\u001b[0m     \u001b[0mrfr\u001b[0m\u001b[1;33m.\u001b[0m\u001b[0mfit\u001b[0m\u001b[1;33m(\u001b[0m\u001b[0mX_train_scaled\u001b[0m\u001b[1;33m,\u001b[0m \u001b[0my_train\u001b[0m\u001b[1;33m)\u001b[0m\u001b[1;33m\u001b[0m\u001b[1;33m\u001b[0m\u001b[0m\n\u001b[0;32m      6\u001b[0m     \u001b[0mscores\u001b[0m\u001b[1;33m.\u001b[0m\u001b[0mappend\u001b[0m\u001b[1;33m(\u001b[0m\u001b[0mrfr\u001b[0m\u001b[1;33m.\u001b[0m\u001b[0mscore\u001b[0m\u001b[1;33m(\u001b[0m\u001b[0mX_test_scaled\u001b[0m\u001b[1;33m,\u001b[0m \u001b[0my_test\u001b[0m\u001b[1;33m)\u001b[0m\u001b[1;33m)\u001b[0m\u001b[1;33m\u001b[0m\u001b[1;33m\u001b[0m\u001b[0m\n\u001b[1;32m----> 7\u001b[1;33m \u001b[0mplt\u001b[0m\u001b[1;33m.\u001b[0m\u001b[0mtitle\u001b[0m\u001b[1;33m(\u001b[0m\u001b[1;34m\"Effect of n_estimators\"\u001b[0m\u001b[1;33m)\u001b[0m\u001b[1;33m\u001b[0m\u001b[1;33m\u001b[0m\u001b[0m\n\u001b[0m\u001b[0;32m      8\u001b[0m \u001b[0mplt\u001b[0m\u001b[1;33m.\u001b[0m\u001b[0mxlabel\u001b[0m\u001b[1;33m(\u001b[0m\u001b[1;34m\"n_estimator\"\u001b[0m\u001b[1;33m)\u001b[0m\u001b[1;33m\u001b[0m\u001b[1;33m\u001b[0m\u001b[0m\n\u001b[0;32m      9\u001b[0m \u001b[0mplt\u001b[0m\u001b[1;33m.\u001b[0m\u001b[0mylabel\u001b[0m\u001b[1;33m(\u001b[0m\u001b[1;34m\"score\"\u001b[0m\u001b[1;33m)\u001b[0m\u001b[1;33m\u001b[0m\u001b[1;33m\u001b[0m\u001b[0m\n",
      "\u001b[1;31mNameError\u001b[0m: name 'plt' is not defined"
     ]
    }
   ],
   "source": [
    "estimators = np.arange(5, 200, 5)\n",
    "scores = []\n",
    "for n in estimators:\n",
    "    rfr.set_params(n_estimators=n)\n",
    "    rfr.fit(X_train_scaled, y_train)\n",
    "    scores.append(rfr.score(X_test_scaled, y_test))\n",
    "plt.title(\"Effect of n_estimators\")\n",
    "plt.xlabel(\"n_estimator\")\n",
    "plt.ylabel(\"score\")\n",
    "plt.plot(estimators, scores)"
   ]
  },
  {
   "cell_type": "code",
   "execution_count": null,
   "id": "afdbd150",
   "metadata": {},
   "outputs": [],
   "source": [
    "depth = np.arange(2, 20, 2)\n",
    "scores = []\n",
    "for n in depth:\n",
    "    rfr.set_params(max_depth=n)\n",
    "    rfr.fit(X_train_scaled, y_train)\n",
    "    scores.append(rfr.score(X_test_scaled, y_test))\n",
    "plt.title(\"Effect of depth\")\n",
    "plt.xlabel(\"depth\")\n",
    "plt.ylabel(\"score\")\n",
    "plt.plot(depth, scores)"
   ]
  },
  {
   "cell_type": "code",
   "execution_count": null,
   "id": "1c1de492",
   "metadata": {
    "scrolled": true,
    "tags": []
   },
   "outputs": [],
   "source": [
    "y_test_df = y_test.to_frame()\n",
    "y_test_df = y_test_df.rename(columns = {0:'mean_diameter'}).reset_index(drop=True)\n",
    "pred_df = pd.DataFrame(rfr_model_pred, columns = ['predicted_mean_diameter']).reset_index(drop=True)\n",
    "X_test_df = pd.DataFrame(X_test, columns = ['heat_units', 'solar_radiation', 'organic_matter', 'sand', 'silt', 'clay', 'method', 'variety', 'inputs', 'protection']).reset_index(drop=True)"
   ]
  },
  {
   "cell_type": "code",
   "execution_count": null,
   "id": "1ad3191b",
   "metadata": {
    "scrolled": true,
    "tags": []
   },
   "outputs": [],
   "source": [
    "test_df = X_test_df.copy()\n",
    "test_df['predicted_mean_diameter'] = pd.Series(pred_df['predicted_mean_diameter'])\n",
    "test_df['mean_diameter'] = pd.Series(y_test_df['mean_diameter'])\n",
    "test_df.head()"
   ]
  },
  {
   "cell_type": "code",
   "execution_count": null,
   "id": "f7ae3b62",
   "metadata": {},
   "outputs": [],
   "source": [
    "sns.scatterplot(y = 'mean_diameter', x = 'predicted_mean_diameter', hue = 'variety', data = test_df)"
   ]
  },
  {
   "cell_type": "code",
   "execution_count": null,
   "id": "56818062",
   "metadata": {},
   "outputs": [],
   "source": [
    "sns.scatterplot(y = 'mean_diameter', x = 'solar_radiation', hue = 'organic_matter', data = test_df[(test_df.method == 2)])"
   ]
  },
  {
   "cell_type": "code",
   "execution_count": null,
   "id": "51c9be9c",
   "metadata": {},
   "outputs": [],
   "source": []
  },
  {
   "cell_type": "code",
   "execution_count": null,
   "id": "d57613c6",
   "metadata": {},
   "outputs": [],
   "source": []
  }
 ],
 "metadata": {
  "kernelspec": {
   "display_name": "Python 3",
   "language": "python",
   "name": "python3"
  },
  "language_info": {
   "codemirror_mode": {
    "name": "ipython",
    "version": 3
   },
   "file_extension": ".py",
   "mimetype": "text/x-python",
   "name": "python",
   "nbconvert_exporter": "python",
   "pygments_lexer": "ipython3",
   "version": "3.9.1"
  }
 },
 "nbformat": 4,
 "nbformat_minor": 5
}
