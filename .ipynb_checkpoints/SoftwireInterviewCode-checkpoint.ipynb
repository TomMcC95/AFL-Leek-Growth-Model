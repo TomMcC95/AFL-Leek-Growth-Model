{
 "cells": [
  {
   "cell_type": "code",
   "execution_count": 3,
   "id": "caring-ferry",
   "metadata": {},
   "outputs": [
    {
     "name": "stdout",
     "output_type": "stream",
     "text": [
      "[6, 5, 4, 3, 2, 1]\n"
     ]
    }
   ],
   "source": [
    "list_1 = [1, 2, 3, 4, 5, 6]\n",
    "list_2 = list_1.copy()\n",
    "list_1.reverse()\n",
    "print(list_1)"
   ]
  },
  {
   "cell_type": "code",
   "execution_count": 4,
   "id": "conceptual-brooks",
   "metadata": {},
   "outputs": [
    {
     "data": {
      "text/plain": [
       "21"
      ]
     },
     "execution_count": 4,
     "metadata": {},
     "output_type": "execute_result"
    }
   ],
   "source": [
    "def centuryFromYear(year):\n",
    "    century = year//100\n",
    "    remainder = year % 100\n",
    "    if remainder > 0:\n",
    "        return century + 1\n",
    "    else:\n",
    "        return century\n",
    "    \n",
    "year = 2017\n",
    "\n",
    "centuryFromYear(year)"
   ]
  },
  {
   "cell_type": "code",
   "execution_count": 6,
   "id": "stone-server",
   "metadata": {},
   "outputs": [
    {
     "data": {
      "text/plain": [
       "False"
      ]
     },
     "execution_count": 6,
     "metadata": {},
     "output_type": "execute_result"
    }
   ],
   "source": [
    "def checkPalindrome(inputString):\n",
    "    newString = \"\"\n",
    "    for i in inputString:\n",
    "        newString = i + newString\n",
    "    if newString == inputString:\n",
    "        return True\n",
    "    else:\n",
    "        return False\n",
    "    \n",
    "inputString = \"abb\"\n",
    "\n",
    "checkPalindrome(inputString)"
   ]
  },
  {
   "cell_type": "code",
   "execution_count": 8,
   "id": "laden-browser",
   "metadata": {},
   "outputs": [
    {
     "data": {
      "text/plain": [
       "18"
      ]
     },
     "execution_count": 8,
     "metadata": {},
     "output_type": "execute_result"
    }
   ],
   "source": [
    "def adjacentElementsProduct(inputArray):\n",
    "    array_length = len(inputArray)\n",
    "    product_list = []\n",
    "    for i in range(array_length):\n",
    "        if i < array_length-1:\n",
    "            j = i + 1\n",
    "            product_list.append(inputArray[i]*inputArray[j])\n",
    "    max_product = max(product_list)\n",
    "    return max_product\n",
    "\n",
    "inputArray = [3, 6, -2, -5, 7,]\n",
    "\n",
    "adjacentElementsProduct(inputArray)"
   ]
  },
  {
   "cell_type": "code",
   "execution_count": 9,
   "id": "confident-canberra",
   "metadata": {},
   "outputs": [
    {
     "data": {
      "text/plain": [
       "61"
      ]
     },
     "execution_count": 9,
     "metadata": {},
     "output_type": "execute_result"
    }
   ],
   "source": [
    "def shapeArea(n):\n",
    "    area = 0\n",
    "    for i in range(n):\n",
    "        j = i + 1\n",
    "        if i == 0:\n",
    "            area += 1\n",
    "        elif i > 0:\n",
    "            add = ((j * 2) + ((j - 2) * 2))\n",
    "            area = area + add\n",
    "    return area\n",
    "\n",
    "n = 6\n",
    "\n",
    "shapeArea(n)"
   ]
  },
  {
   "cell_type": "code",
   "execution_count": 10,
   "id": "second-broad",
   "metadata": {},
   "outputs": [
    {
     "data": {
      "text/plain": [
       "3"
      ]
     },
     "execution_count": 10,
     "metadata": {},
     "output_type": "execute_result"
    }
   ],
   "source": [
    "def makeArrayConsecutive2(statues):\n",
    "    number_statues = len(statues)\n",
    "    min_num = min(statues)\n",
    "    max_num = max(statues)\n",
    "    statues_required = max_num - min_num - number_statues + 1\n",
    "    return statues_required\n",
    "\n",
    "statues = [6, 2, 3, 8]\n",
    "\n",
    "makeArrayConsecutive2(statues)"
   ]
  },
  {
   "cell_type": "code",
   "execution_count": 12,
   "id": "lovely-explorer",
   "metadata": {},
   "outputs": [
    {
     "data": {
      "text/plain": [
       "True"
      ]
     },
     "execution_count": 12,
     "metadata": {},
     "output_type": "execute_result"
    }
   ],
   "source": [
    "def first_bad_pair(sequence, k):\n",
    "    if 0 < k < len(sequence) - 1:\n",
    "        if sequence[k-1] >= sequence[k+1]:\n",
    "            return k-1\n",
    "    for i in range(k+1, len(sequence)-1):\n",
    "        if sequence[i] >= sequence[i+1]:\n",
    "            return i\n",
    "    return -1\n",
    "\n",
    "def almostIncreasingSequence(sequence):\n",
    "    j = first_bad_pair(sequence, -1)\n",
    "    if j == -1:\n",
    "        return True\n",
    "    if first_bad_pair(sequence, j) == -1:\n",
    "        return True\n",
    "    if first_bad_pair(sequence, j+1) == -1:\n",
    "        return True\n",
    "    return False\n",
    "\n",
    "sequence = [1, 3, 2]\n",
    "\n",
    "almostIncreasingSequence(sequence)"
   ]
  },
  {
   "cell_type": "code",
   "execution_count": 14,
   "id": "herbal-basement",
   "metadata": {},
   "outputs": [
    {
     "data": {
      "text/plain": [
       "13"
      ]
     },
     "execution_count": 14,
     "metadata": {},
     "output_type": "execute_result"
    }
   ],
   "source": [
    "def matrixElementsSum(matrix):\n",
    "    r = len(matrix)\n",
    "    c = len(matrix[0])\n",
    "    total=0\n",
    "    for j in range(c):\n",
    "        for i in range(r):\n",
    "            if matrix[i][j]!=0:\n",
    "                total+=matrix[i][j]\n",
    "            else:\n",
    "                break\n",
    "    return total\n",
    "\n",
    "matrix = [[0, 1, 1, 2], \n",
    "          [0, 5, 1, 0], \n",
    "          [2, 0, 3, 3]]\n",
    "\n",
    "matrixElementsSum(matrix)"
   ]
  },
  {
   "cell_type": "code",
   "execution_count": 16,
   "id": "seventh-brand",
   "metadata": {},
   "outputs": [
    {
     "data": {
      "text/plain": [
       "'foorabbaz'"
      ]
     },
     "execution_count": 16,
     "metadata": {},
     "output_type": "execute_result"
    }
   ],
   "source": [
    "def reverseInParentheses(s):\n",
    "    for i in range(len(s)):\n",
    "        if s[i] == \"(\":\n",
    "            start = i\n",
    "        if s[i] == \")\":\n",
    "            end = i\n",
    "            return reverseInParentheses(s[:start] + s[start+1:end][::-1] + s[end+1:])\n",
    "    return s\n",
    "\n",
    "s = \"foo(bar)baz\"\n",
    "\n",
    "reverseInParentheses(s)"
   ]
  },
  {
   "cell_type": "code",
   "execution_count": 28,
   "id": "applied-occasions",
   "metadata": {},
   "outputs": [
    {
     "data": {
      "text/plain": [
       "3"
      ]
     },
     "execution_count": 28,
     "metadata": {},
     "output_type": "execute_result"
    }
   ],
   "source": [
    "def duplicateCharacters(input):\n",
    "    duplicates = 0\n",
    "    item_list = list(input)\n",
    "    new_list = set(item_list)\n",
    "    \n",
    "    for item in new_list:\n",
    "        item_list.remove(item)\n",
    "    duplicates = len(set(item_list))\n",
    "    \n",
    "    return duplicates\n",
    "\n",
    "input = \"Aasdxxefsgh!!!!!!!!!!!!!!!!!\"\n",
    "\n",
    "duplicateCharacters(input)\n",
    "\n"
   ]
  },
  {
   "cell_type": "code",
   "execution_count": 19,
   "id": "compatible-reform",
   "metadata": {},
   "outputs": [
    {
     "data": {
      "text/plain": [
       "False"
      ]
     },
     "execution_count": 19,
     "metadata": {},
     "output_type": "execute_result"
    }
   ],
   "source": [
    "\"a\" == \"A\""
   ]
  },
  {
   "cell_type": "code",
   "execution_count": 41,
   "id": "pleasant-subcommittee",
   "metadata": {},
   "outputs": [
    {
     "data": {
      "text/plain": [
       "2"
      ]
     },
     "execution_count": 41,
     "metadata": {},
     "output_type": "execute_result"
    }
   ],
   "source": [
    "def secondHighestDigit(input):\n",
    "    input = input.lower()\n",
    "    input_list = list(input)\n",
    "    letter_list = [x for x in input_list if not (x.isdigit() or x[0] == '-' and x[1:].isdigit())]\n",
    "    for i in letter_list:\n",
    "        input_list.remove(i)\n",
    "    if len(input_list) < 2:\n",
    "        return -1\n",
    "    input_list.sort(reverse = True)\n",
    "    return int(input_list[1])\n",
    "\n",
    "input = \"a2221a\"\n",
    "\n",
    "secondHighestDigit(input)"
   ]
  },
  {
   "cell_type": "code",
   "execution_count": 32,
   "id": "piano-finish",
   "metadata": {},
   "outputs": [
    {
     "data": {
      "text/plain": [
       "0"
      ]
     },
     "execution_count": 32,
     "metadata": {},
     "output_type": "execute_result"
    }
   ],
   "source": [
    "j =[]\n",
    "len(j)"
   ]
  },
  {
   "cell_type": "code",
   "execution_count": 44,
   "id": "local-strand",
   "metadata": {},
   "outputs": [
    {
     "name": "stdout",
     "output_type": "stream",
     "text": [
      "(2, 1)\n"
     ]
    }
   ],
   "source": [
    "co_ords = (2, 1)\n",
    "print(co_ords)\n",
    "\n",
    "for i in co_ords"
   ]
  },
  {
   "cell_type": "code",
   "execution_count": 97,
   "id": "surprising-telling",
   "metadata": {},
   "outputs": [
    {
     "name": "stdout",
     "output_type": "stream",
     "text": [
      "F\n",
      "0\n",
      "1\n",
      "L\n",
      "0\n",
      "1\n",
      "L\n",
      "0\n",
      "1\n",
      "F\n",
      "0\n",
      "0\n",
      "F\n",
      "0\n",
      "-1\n",
      "F\n",
      "0\n",
      "-2\n"
     ]
    },
    {
     "data": {
      "text/plain": [
       "4"
      ]
     },
     "execution_count": 97,
     "metadata": {},
     "output_type": "execute_result"
    }
   ],
   "source": [
    "def flr(directions):\n",
    "    char_list = list(directions)\n",
    "    dir_list = [i for i in char_list if i == \"F\" or i == \"R\" or i == \"L\"]\n",
    "    if len(dir_list) == 0:\n",
    "        return 0\n",
    "    \n",
    "    long = 0\n",
    "    lat = 0\n",
    "    \n",
    "    direction = \"long_plus\"\n",
    "    \n",
    "    for d in dir_list:\n",
    "\n",
    "        if d == \"F\":\n",
    "\n",
    "            if direction == \"long_plus\":\n",
    "                long += 1\n",
    "            elif direction == \"long_neg\":\n",
    "                long -= 1\n",
    "            elif direction == \"lat_plus\":\n",
    "                lat += 1\n",
    "            elif direction == \"lat_neg\":\n",
    "                lat -= 1\n",
    "                \n",
    "        if d == \"L\":\n",
    "            \n",
    "            if direction == \"long_plus\":\n",
    "                direction = \"lat_neg\"\n",
    "                \n",
    "            elif direction == \"long_neg\":\n",
    "                direction = \"lat_plus\"\n",
    "                \n",
    "            elif direction == \"lat_plus\":\n",
    "                direction = \"long_plus\"\n",
    "                \n",
    "            elif direction == \"lat_neg\":\n",
    "                direction = \"long_neg\"\n",
    "                \n",
    "        if d == \"R\":\n",
    "\n",
    "            if direction == \"long_plus\":\n",
    "                direction = \"lat_plus\"\n",
    "                \n",
    "            elif direction == \"long_neg\":\n",
    "                direction = \"lat_neg\"\n",
    "                \n",
    "            elif direction == \"lat_plus\":\n",
    "                direction = \"long_neg\"\n",
    "                \n",
    "            elif direction == \"lat_neg\":\n",
    "                direction = \"long_plus\"\n",
    "\n",
    "        turn_steps = 0\n",
    "        \n",
    "        init_steps = abs(long) + abs(lat)\n",
    "        \n",
    "        if init_steps != 0:\n",
    "            if long == 0:\n",
    "                if direction == \"long_plus\":\n",
    "                    turn_steps += 1\n",
    "\n",
    "                elif direction == \"long_neg\":\n",
    "                    turn_steps += 1\n",
    "\n",
    "                elif direction == \"lat_plus\":\n",
    "                    if lat > 0:\n",
    "                        turn_steps += 2\n",
    "                    if lat < 0:\n",
    "                        turn_steps += 0\n",
    "\n",
    "                elif direction == \"lat_neg\":\n",
    "                    if lat > 0:\n",
    "                        turn_steps += 0\n",
    "                    if lat < 0:\n",
    "                        turn_steps += 2\n",
    "\n",
    "            elif long > 0:\n",
    "                if direction == \"long_plus\":\n",
    "                    turn_steps += 2\n",
    "\n",
    "                elif direction == \"long_neg\":\n",
    "                    if lat == 0:\n",
    "                        turn_steps += 0\n",
    "                    if lat != 0:\n",
    "                        turn_steps += 1\n",
    "\n",
    "                elif direction == \"lat_plus\":\n",
    "                    if lat > 0:\n",
    "                        turn_steps += 2\n",
    "                    if lat < 0:\n",
    "                        turn_steps += 1\n",
    "\n",
    "                elif direction == \"lat_neg\":\n",
    "                    if lat > 0:\n",
    "                        turn_steps += 1\n",
    "                    if lat < 0:\n",
    "                        turn_steps += 2\n",
    "            \n",
    "            elif long < 0:\n",
    "                if direction == \"long_plus\":\n",
    "                    if lat == 0:\n",
    "                        turn_steps += 0\n",
    "                    if lat != 0:\n",
    "                        turn_steps += 1\n",
    "\n",
    "                elif direction == \"long_neg\":\n",
    "                    turn_steps += 2\n",
    "\n",
    "                elif direction == \"lat_plus\":\n",
    "                    if lat > 0:\n",
    "                        turn_steps += 2\n",
    "                    if lat < 0:\n",
    "                        turn_steps += 1\n",
    "\n",
    "                elif direction == \"lat_neg\":\n",
    "                    if lat > 0:\n",
    "                        turn_steps += 1\n",
    "                    if lat < 0:\n",
    "                        turn_steps += 2\n",
    "    \n",
    "    steps = abs(long) + abs(lat) + turn_steps\n",
    "    \n",
    "    return steps      \n",
    "\n",
    "directions = \"FxLxLxFxFF\"\n",
    "\n",
    "flr(directions)"
   ]
  },
  {
   "cell_type": "code",
   "execution_count": 79,
   "id": "differential-indian",
   "metadata": {},
   "outputs": [
    {
     "name": "stdout",
     "output_type": "stream",
     "text": [
      "5\n"
     ]
    }
   ],
   "source": [
    "f = 10\n",
    "for i in range(5):\n",
    "    f -= 1\n",
    "print(f)"
   ]
  },
  {
   "cell_type": "code",
   "execution_count": null,
   "id": "equipped-gates",
   "metadata": {},
   "outputs": [],
   "source": []
  }
 ],
 "metadata": {
  "kernelspec": {
   "display_name": "Python 3",
   "language": "python",
   "name": "python3"
  },
  "language_info": {
   "codemirror_mode": {
    "name": "ipython",
    "version": 3
   },
   "file_extension": ".py",
   "mimetype": "text/x-python",
   "name": "python",
   "nbconvert_exporter": "python",
   "pygments_lexer": "ipython3",
   "version": "3.9.0"
  }
 },
 "nbformat": 4,
 "nbformat_minor": 5
}
