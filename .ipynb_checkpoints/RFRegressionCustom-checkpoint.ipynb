{
 "cells": [
  {
   "cell_type": "code",
   "execution_count": 1,
   "id": "3738c124",
   "metadata": {
    "scrolled": true,
    "tags": []
   },
   "outputs": [
    {
     "name": "stdout",
     "output_type": "stream",
     "text": [
      "Current Progress: 100.0 %\n"
     ]
    }
   ],
   "source": [
    "%run PreProcessing.ipynb\n",
    "from sklearn.model_selection import train_test_split, GridSearchCV\n",
    "from sklearn.preprocessing import Normalizer, StandardScaler, OrdinalEncoder\n",
    "from sklearn.ensemble import RandomForestClassifier, GradientBoostingClassifier, VotingClassifier, RandomForestRegressor\n",
    "from sklearn.metrics import precision_score, recall_score, confusion_matrix, classification_report, accuracy_score\n",
    "from sklearn.base import BaseEstimator, ClassifierMixin\n",
    "from sklearn.utils import *\n",
    "from sklearn.utils.validation import check_is_fitted\n",
    "from sklearn.pipeline import Pipeline"
   ]
  },
  {
   "cell_type": "code",
   "execution_count": 2,
   "id": "560814b2",
   "metadata": {},
   "outputs": [],
   "source": [
    "enc = OrdinalEncoder()\n",
    "encoded_df = enc.fit_transform(summary_data_avg[['method', 'variety', 'inputs', 'protection']])\n",
    "summary_data_avg[['method', 'variety', 'inputs', 'protection']] = encoded_df"
   ]
  },
  {
   "cell_type": "code",
   "execution_count": 4,
   "id": "6b0b7a6f",
   "metadata": {},
   "outputs": [
    {
     "name": "stdout",
     "output_type": "stream",
     "text": [
      "   heat_units  solar_radiation  organic_matter  sand  silt  clay  method  \\\n",
      "0        1970          1073585            24.6    40    41    19     2.0   \n",
      "1        2641          1247965            24.6    40    41    19     2.0   \n",
      "2        3189          1379555            24.6    40    41    19     2.0   \n",
      "3        3540          1529793            24.6    40    41    19     2.0   \n",
      "4        3813          1631446            24.6    40    41    19     2.0   \n",
      "\n",
      "   variety  inputs  protection  \n",
      "0     11.0     1.0         0.0  \n",
      "1     11.0     1.0         0.0  \n",
      "2     11.0     1.0         0.0  \n",
      "3     11.0     1.0         0.0  \n",
      "4     11.0     1.0         0.0  \n"
     ]
    }
   ],
   "source": [
    "X = summary_data_avg[['heat_units', 'solar_radiation', 'organic_matter', 'sand', 'silt', 'clay', 'method', 'variety', 'inputs', 'protection']]\n",
    "print(X.head())\n",
    "y = summary_data_avg['mean_diameter']\n",
    "X_train, X_test, y_train, y_test = train_test_split(X, y, test_size=0.2, random_state = 10)"
   ]
  },
  {
   "cell_type": "code",
   "execution_count": 5,
   "id": "39fb94ed",
   "metadata": {},
   "outputs": [
    {
     "name": "stdout",
     "output_type": "stream",
     "text": [
      "The old training dataframe shape: (2686, 10)\n",
      "Total number of outliers identified is:  789\n"
     ]
    }
   ],
   "source": [
    "#Isolation forest algorithm to show unsupervised learning\n",
    "from sklearn.ensemble import IsolationForest\n",
    "\n",
    "print(f\"The old training dataframe shape: {X_train.shape}\")\n",
    "\n",
    "#Use the algorithm for outlier detection, then use it to predict each point\n",
    "clf1 = IsolationForest(max_samples=500, random_state = 10, contamination= 'auto')\n",
    "preds = clf1.fit_predict(X_train)\n",
    "\n",
    "#Any point labelled as -1 is an outlier\n",
    "totalOutliers=0\n",
    "for pred in preds:\n",
    "    if pred == -1:\n",
    "        totalOutliers=totalOutliers+1\n",
    "print(\"Total number of outliers identified is: \",totalOutliers)"
   ]
  },
  {
   "cell_type": "code",
   "execution_count": 6,
   "id": "bee636b5",
   "metadata": {},
   "outputs": [
    {
     "name": "stdout",
     "output_type": "stream",
     "text": [
      "The new training dataframe shape: (1897, 10)\n"
     ]
    }
   ],
   "source": [
    "#Remove outliers from training data.\n",
    "filtered_array = []\n",
    "for element in preds:\n",
    "  if element != -1:\n",
    "    filtered_array.append(True)\n",
    "  else:\n",
    "    filtered_array.append(False)\n",
    "X_train = X_train[filtered_array]\n",
    "y_train = y_train[filtered_array]\n",
    "\n",
    "print(f\"The new training dataframe shape: {X_train.shape}\")"
   ]
  },
  {
   "cell_type": "code",
   "execution_count": null,
   "id": "86974229",
   "metadata": {},
   "outputs": [],
   "source": [
    "scaler = StandardScaler()\n",
    "scaler.fit(X_train)\n",
    "X_train = scaler.transform(X_train)\n",
    "X_test = scaler.transform(X_test)"
   ]
  },
  {
   "cell_type": "code",
   "execution_count": 15,
   "id": "611372a8",
   "metadata": {},
   "outputs": [
    {
     "name": "stdout",
     "output_type": "stream",
     "text": [
      "Fitting 5 folds for each of 3 candidates, totalling 15 fits\n",
      "{'max_features': 'sqrt', 'random_state': 10}\n"
     ]
    }
   ],
   "source": [
    "param_grid = {'random_state': [10],\n",
    "              'max_features': ['sqrt', 'auto', 'log2']}  \n",
    "   \n",
    "grid_rfr = GridSearchCV(RandomForestRegressor(), param_grid, refit = True, verbose = 3,n_jobs=-1) \n",
    "   \n",
    "# fitting the model for grid search \n",
    "grid_rfr.fit(X_train, y_train.values.ravel()) \n",
    " \n",
    "# print best parameter after tuning \n",
    "print(grid_rfr.best_params_) \n",
    "grid_rfr_preds = grid_rfr.predict(X_test)  \n",
    "\n",
    "\n",
    "rfr = RandomForestRegressor()\n",
    "rfr_model = rfr.fit(X_train, y_train.values.ravel())\n",
    "rfr_model_pred = rfr_model.predict(X_test)\n"
   ]
  },
  {
   "cell_type": "code",
   "execution_count": 17,
   "id": "e5ad4cfe",
   "metadata": {},
   "outputs": [
    {
     "data": {
      "text/plain": [
       "[<matplotlib.lines.Line2D at 0x1e93d23a070>]"
      ]
     },
     "execution_count": 17,
     "metadata": {},
     "output_type": "execute_result"
    },
    {
     "data": {
      "image/png": "[encoded data removed]",
      "text/plain": [
       "<Figure size 432x288 with 1 Axes>"
      ]
     },
     "metadata": {
      "needs_background": "light"
     },
     "output_type": "display_data"
    }
   ],
   "source": [
    "estimators = np.arange(5, 200, 5)\n",
    "scores = []\n",
    "for n in estimators:\n",
    "    rfr.set_params(n_estimators=n)\n",
    "    rfr.fit(X_train, y_train)\n",
    "    scores.append(rfr.score(X_test, y_test))\n",
    "plt.title(\"Effect of n_estimators\")\n",
    "plt.xlabel(\"n_estimator\")\n",
    "plt.ylabel(\"score\")\n",
    "plt.plot(estimators, scores)"
   ]
  },
  {
   "cell_type": "code",
   "execution_count": 21,
   "id": "7d172960",
   "metadata": {},
   "outputs": [
    {
     "data": {
      "text/plain": [
       "[<matplotlib.lines.Line2D at 0x1e93dba9760>]"
      ]
     },
     "execution_count": 21,
     "metadata": {},
     "output_type": "execute_result"
    },
    {
     "data": {
      "image/png": "[encoded data removed]",
      "text/plain": [
       "<Figure size 432x288 with 1 Axes>"
      ]
     },
     "metadata": {
      "needs_background": "light"
     },
     "output_type": "display_data"
    }
   ],
   "source": [
    "depth = np.arange(2, 20, 2)\n",
    "scores = []\n",
    "for n in depth:\n",
    "    rfr.set_params(max_depth=n)\n",
    "    rfr.fit(X_train, y_train)\n",
    "    scores.append(rfr.score(X_test, y_test))\n",
    "plt.title(\"Effect of depth\")\n",
    "plt.xlabel(\"depth\")\n",
    "plt.ylabel(\"score\")\n",
    "plt.plot(depth, scores)"
   ]
  },
  {
   "cell_type": "code",
   "execution_count": null,
   "id": "119665db",
   "metadata": {},
   "outputs": [],
   "source": []
  }
 ],
 "metadata": {
  "kernelspec": {
   "display_name": "Python 3",
   "language": "python",
   "name": "python3"
  },
  "language_info": {
   "codemirror_mode": {
    "name": "ipython",
    "version": 3
   },
   "file_extension": ".py",
   "mimetype": "text/x-python",
   "name": "python",
   "nbconvert_exporter": "python",
   "pygments_lexer": "ipython3",
   "version": "3.9.1"
  }
 },
 "nbformat": 4,
 "nbformat_minor": 5
}
