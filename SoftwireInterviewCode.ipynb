{
 "cells": [
  {
   "cell_type": "code",
   "execution_count": 23,
   "id": "respiratory-legislation",
   "metadata": {},
   "outputs": [
    {
     "name": "stdout",
     "output_type": "stream",
     "text": [
      "[6, 5, 4, 3, 2, 1]\n"
     ]
    }
   ],
   "source": [
    "list_1 = [1, 2, 3, 4, 5, 6]\n",
    "list_2 = list_1.copy()\n",
    "list_1.reverse()\n",
    "print(list_1)"
   ]
  },
  {
   "cell_type": "code",
   "execution_count": 24,
   "id": "decimal-study",
   "metadata": {},
   "outputs": [
    {
     "data": {
      "text/plain": [
       "21"
      ]
     },
     "execution_count": 24,
     "metadata": {},
     "output_type": "execute_result"
    }
   ],
   "source": [
    "def centuryFromYear(year):\n",
    "    century = year//100\n",
    "    remainder = year % 100\n",
    "    if remainder > 0:\n",
    "        return century + 1\n",
    "    else:\n",
    "        return century\n",
    "    \n",
    "year = 2017\n",
    "\n",
    "centuryFromYear(year)"
   ]
  },
  {
   "cell_type": "code",
   "execution_count": 25,
   "id": "first-collaboration",
   "metadata": {},
   "outputs": [
    {
     "data": {
      "text/plain": [
       "False"
      ]
     },
     "execution_count": 25,
     "metadata": {},
     "output_type": "execute_result"
    }
   ],
   "source": [
    "def checkPalindrome(inputString):\n",
    "    newString = \"\"\n",
    "    for i in inputString:\n",
    "        newString = i + newString\n",
    "    if newString == inputString:\n",
    "        return True\n",
    "    else:\n",
    "        return False\n",
    "    \n",
    "inputString = \"abb\"\n",
    "\n",
    "checkPalindrome(inputString)"
   ]
  },
  {
   "cell_type": "code",
   "execution_count": 26,
   "id": "earlier-activity",
   "metadata": {},
   "outputs": [
    {
     "data": {
      "text/plain": [
       "18"
      ]
     },
     "execution_count": 26,
     "metadata": {},
     "output_type": "execute_result"
    }
   ],
   "source": [
    "def adjacentElementsProduct(inputArray):\n",
    "    array_length = len(inputArray)\n",
    "    product_list = []\n",
    "    for i in range(array_length):\n",
    "        if i < array_length-1:\n",
    "            j = i + 1\n",
    "            product_list.append(inputArray[i]*inputArray[j])\n",
    "    max_product = max(product_list)\n",
    "    return max_product\n",
    "\n",
    "inputArray = [3, 6, -2, -5, 7,]\n",
    "\n",
    "adjacentElementsProduct(inputArray)"
   ]
  },
  {
   "cell_type": "code",
   "execution_count": 27,
   "id": "classified-camcorder",
   "metadata": {},
   "outputs": [
    {
     "data": {
      "text/plain": [
       "61"
      ]
     },
     "execution_count": 27,
     "metadata": {},
     "output_type": "execute_result"
    }
   ],
   "source": [
    "def shapeArea(n):\n",
    "    area = 0\n",
    "    for i in range(n):\n",
    "        j = i + 1\n",
    "        if i == 0:\n",
    "            area += 1\n",
    "        elif i > 0:\n",
    "            add = ((j * 2) + ((j - 2) * 2))\n",
    "            area = area + add\n",
    "    return area\n",
    "\n",
    "n = 6\n",
    "\n",
    "shapeArea(n)"
   ]
  },
  {
   "cell_type": "code",
   "execution_count": 28,
   "id": "handed-steam",
   "metadata": {},
   "outputs": [
    {
     "data": {
      "text/plain": [
       "3"
      ]
     },
     "execution_count": 28,
     "metadata": {},
     "output_type": "execute_result"
    }
   ],
   "source": [
    "def makeArrayConsecutive2(statues):\n",
    "    number_statues = len(statues)\n",
    "    min_num = min(statues)\n",
    "    max_num = max(statues)\n",
    "    statues_required = max_num - min_num - number_statues + 1\n",
    "    return statues_required\n",
    "\n",
    "statues = [6, 2, 3, 8]\n",
    "\n",
    "makeArrayConsecutive2(statues)"
   ]
  },
  {
   "cell_type": "code",
   "execution_count": 29,
   "id": "behind-receptor",
   "metadata": {},
   "outputs": [
    {
     "data": {
      "text/plain": [
       "True"
      ]
     },
     "execution_count": 29,
     "metadata": {},
     "output_type": "execute_result"
    }
   ],
   "source": [
    "def first_bad_pair(sequence, k):\n",
    "    if 0 < k < len(sequence) - 1:\n",
    "        if sequence[k-1] >= sequence[k+1]:\n",
    "            return k-1\n",
    "    for i in range(k+1, len(sequence)-1):\n",
    "        if sequence[i] >= sequence[i+1]:\n",
    "            return i\n",
    "    return -1\n",
    "\n",
    "def almostIncreasingSequence(sequence):\n",
    "    j = first_bad_pair(sequence, -1)\n",
    "    if j == -1:\n",
    "        return True\n",
    "    if first_bad_pair(sequence, j) == -1:\n",
    "        return True\n",
    "    if first_bad_pair(sequence, j+1) == -1:\n",
    "        return True\n",
    "    return False\n",
    "\n",
    "sequence = [1, 3, 2]\n",
    "\n",
    "almostIncreasingSequence(sequence)"
   ]
  },
  {
   "cell_type": "code",
   "execution_count": 30,
   "id": "absolute-standard",
   "metadata": {},
   "outputs": [
    {
     "data": {
      "text/plain": [
       "13"
      ]
     },
     "execution_count": 30,
     "metadata": {},
     "output_type": "execute_result"
    }
   ],
   "source": [
    "def matrixElementsSum(matrix):\n",
    "    r = len(matrix)\n",
    "    c = len(matrix[0])\n",
    "    total=0\n",
    "    for j in range(c):\n",
    "        for i in range(r):\n",
    "            if matrix[i][j]!=0:\n",
    "                total+=matrix[i][j]\n",
    "            else:\n",
    "                break\n",
    "    return total\n",
    "\n",
    "matrix = [[0, 1, 1, 2], \n",
    "          [0, 5, 1, 0], \n",
    "          [2, 0, 3, 3]]\n",
    "\n",
    "matrixElementsSum(matrix)"
   ]
  },
  {
   "cell_type": "code",
   "execution_count": 31,
   "id": "higher-sampling",
   "metadata": {},
   "outputs": [
    {
     "data": {
      "text/plain": [
       "'foorabbaz'"
      ]
     },
     "execution_count": 31,
     "metadata": {},
     "output_type": "execute_result"
    }
   ],
   "source": [
    "def reverseInParentheses(s):\n",
    "    for i in range(len(s)):\n",
    "        if s[i] == \"(\":\n",
    "            start = i\n",
    "        if s[i] == \")\":\n",
    "            end = i\n",
    "            return reverseInParentheses(s[:start] + s[start+1:end][::-1] + s[end+1:])\n",
    "    return s\n",
    "\n",
    "s = \"foo(bar)baz\"\n",
    "\n",
    "reverseInParentheses(s)"
   ]
  },
  {
   "cell_type": "code",
   "execution_count": 32,
   "id": "proprietary-accessory",
   "metadata": {},
   "outputs": [
    {
     "data": {
      "text/plain": [
       "3"
      ]
     },
     "execution_count": 32,
     "metadata": {},
     "output_type": "execute_result"
    }
   ],
   "source": [
    "def duplicateCharacters(input):\n",
    "    duplicates = 0\n",
    "    item_list = list(input)\n",
    "    new_list = set(item_list)\n",
    "    \n",
    "    for item in new_list:\n",
    "        item_list.remove(item)\n",
    "    duplicates = len(set(item_list))\n",
    "    \n",
    "    return duplicates\n",
    "\n",
    "input = \"Aasdxxefsgh!!!!!!!!!!!!!!!!!\"\n",
    "\n",
    "duplicateCharacters(input)\n",
    "\n"
   ]
  },
  {
   "cell_type": "code",
   "execution_count": 33,
   "id": "challenging-nebraska",
   "metadata": {},
   "outputs": [
    {
     "data": {
      "text/plain": [
       "False"
      ]
     },
     "execution_count": 33,
     "metadata": {},
     "output_type": "execute_result"
    }
   ],
   "source": [
    "\"a\" == \"A\""
   ]
  },
  {
   "cell_type": "code",
   "execution_count": 34,
   "id": "therapeutic-pontiac",
   "metadata": {},
   "outputs": [
    {
     "data": {
      "text/plain": [
       "2"
      ]
     },
     "execution_count": 34,
     "metadata": {},
     "output_type": "execute_result"
    }
   ],
   "source": [
    "def secondHighestDigit(input):\n",
    "    input = input.lower()\n",
    "    input_list = list(input)\n",
    "    letter_list = [x for x in input_list if not (x.isdigit() or x[0] == '-' and x[1:].isdigit())]\n",
    "    for i in letter_list:\n",
    "        input_list.remove(i)\n",
    "    if len(input_list) < 2:\n",
    "        return -1\n",
    "    input_list.sort(reverse = True)\n",
    "    return int(input_list[1])\n",
    "\n",
    "input = \"a2221a\"\n",
    "\n",
    "secondHighestDigit(input)"
   ]
  },
  {
   "cell_type": "code",
   "execution_count": 35,
   "id": "graduate-preview",
   "metadata": {},
   "outputs": [
    {
     "data": {
      "text/plain": [
       "0"
      ]
     },
     "execution_count": 35,
     "metadata": {},
     "output_type": "execute_result"
    }
   ],
   "source": [
    "j =[]\n",
    "len(j)"
   ]
  },
  {
   "cell_type": "code",
   "execution_count": 36,
   "id": "exempt-depth",
   "metadata": {},
   "outputs": [
    {
     "data": {
      "text/plain": [
       "4"
      ]
     },
     "execution_count": 36,
     "metadata": {},
     "output_type": "execute_result"
    }
   ],
   "source": [
    "def flr(directions):\n",
    "    char_list = list(directions)\n",
    "    dir_list = [i for i in char_list if i == \"F\" or i == \"R\" or i == \"L\"]\n",
    "    if len(dir_list) == 0:\n",
    "        return 0\n",
    "    \n",
    "    long = 0\n",
    "    lat = 0\n",
    "    \n",
    "    direction = \"long_plus\"\n",
    "    \n",
    "    for d in dir_list:\n",
    "\n",
    "        if d == \"F\":\n",
    "\n",
    "            if direction == \"long_plus\":\n",
    "                long += 1\n",
    "            elif direction == \"long_neg\":\n",
    "                long -= 1\n",
    "            elif direction == \"lat_plus\":\n",
    "                lat += 1\n",
    "            elif direction == \"lat_neg\":\n",
    "                lat -= 1\n",
    "                \n",
    "        if d == \"L\":\n",
    "            \n",
    "            if direction == \"long_plus\":\n",
    "                direction = \"lat_neg\"\n",
    "                \n",
    "            elif direction == \"long_neg\":\n",
    "                direction = \"lat_plus\"\n",
    "                \n",
    "            elif direction == \"lat_plus\":\n",
    "                direction = \"long_plus\"\n",
    "                \n",
    "            elif direction == \"lat_neg\":\n",
    "                direction = \"long_neg\"\n",
    "                \n",
    "        if d == \"R\":\n",
    "\n",
    "            if direction == \"long_plus\":\n",
    "                direction = \"lat_plus\"\n",
    "                \n",
    "            elif direction == \"long_neg\":\n",
    "                direction = \"lat_neg\"\n",
    "                \n",
    "            elif direction == \"lat_plus\":\n",
    "                direction = \"long_neg\"\n",
    "                \n",
    "            elif direction == \"lat_neg\":\n",
    "                direction = \"long_plus\"\n",
    "\n",
    "        turn_steps = 0\n",
    "        \n",
    "        init_steps = abs(long) + abs(lat)\n",
    "        \n",
    "        if init_steps != 0:\n",
    "            if long == 0:\n",
    "                if direction == \"long_plus\":\n",
    "                    turn_steps += 1\n",
    "\n",
    "                elif direction == \"long_neg\":\n",
    "                    turn_steps += 1\n",
    "\n",
    "                elif direction == \"lat_plus\":\n",
    "                    if lat > 0:\n",
    "                        turn_steps += 2\n",
    "                    if lat < 0:\n",
    "                        turn_steps += 0\n",
    "\n",
    "                elif direction == \"lat_neg\":\n",
    "                    if lat > 0:\n",
    "                        turn_steps += 0\n",
    "                    if lat < 0:\n",
    "                        turn_steps += 2\n",
    "\n",
    "            elif long > 0:\n",
    "                if direction == \"long_plus\":\n",
    "                    turn_steps += 2\n",
    "\n",
    "                elif direction == \"long_neg\":\n",
    "                    if lat == 0:\n",
    "                        turn_steps += 0\n",
    "                    if lat != 0:\n",
    "                        turn_steps += 1\n",
    "\n",
    "                elif direction == \"lat_plus\":\n",
    "                    if lat > 0:\n",
    "                        turn_steps += 2\n",
    "                    if lat < 0:\n",
    "                        turn_steps += 1\n",
    "\n",
    "                elif direction == \"lat_neg\":\n",
    "                    if lat > 0:\n",
    "                        turn_steps += 1\n",
    "                    if lat < 0:\n",
    "                        turn_steps += 2\n",
    "            \n",
    "            elif long < 0:\n",
    "                if direction == \"long_plus\":\n",
    "                    if lat == 0:\n",
    "                        turn_steps += 0\n",
    "                    if lat != 0:\n",
    "                        turn_steps += 1\n",
    "\n",
    "                elif direction == \"long_neg\":\n",
    "                    turn_steps += 2\n",
    "\n",
    "                elif direction == \"lat_plus\":\n",
    "                    if lat > 0:\n",
    "                        turn_steps += 2\n",
    "                    if lat < 0:\n",
    "                        turn_steps += 1\n",
    "\n",
    "                elif direction == \"lat_neg\":\n",
    "                    if lat > 0:\n",
    "                        turn_steps += 1\n",
    "                    if lat < 0:\n",
    "                        turn_steps += 2\n",
    "    \n",
    "    steps = abs(long) + abs(lat) + turn_steps\n",
    "    \n",
    "    return steps      \n",
    "\n",
    "directions = \"FxLxLxFxFF\"\n",
    "\n",
    "flr(directions)"
   ]
  },
  {
   "cell_type": "code",
   "execution_count": 37,
   "id": "handy-drive",
   "metadata": {},
   "outputs": [
    {
     "name": "stdout",
     "output_type": "stream",
     "text": [
      "5\n"
     ]
    }
   ],
   "source": [
    "f = 10\n",
    "for i in range(5):\n",
    "    f -= 1\n",
    "print(f)"
   ]
  },
  {
   "cell_type": "code",
   "execution_count": 38,
   "id": "capital-silicon",
   "metadata": {},
   "outputs": [
    {
     "data": {
      "text/plain": [
       "[3, 1, 2, 5, 3]"
      ]
     },
     "execution_count": 38,
     "metadata": {},
     "output_type": "execute_result"
    }
   ],
   "source": [
    "def performOperations(arr, operations):\n",
    "    for operation in operations:\n",
    "        start = operation[0]\n",
    "        stop = operation[1] + 1\n",
    "        temp_list = arr[start:stop]\n",
    "        temp_list.reverse()\n",
    "        arr[start:stop] = temp_list\n",
    "\n",
    "    return arr\n",
    "        \n",
    "        \n",
    "        \n",
    "        \n",
    "performOperations([5, 3, 2, 1, 3], [[0,1], [1, 3]])\n",
    "        "
   ]
  },
  {
   "cell_type": "code",
   "execution_count": 39,
   "id": "tight-peoples",
   "metadata": {},
   "outputs": [
    {
     "name": "stdout",
     "output_type": "stream",
     "text": [
      "2\n",
      "3\n",
      "5\n",
      "6\n"
     ]
    }
   ],
   "source": [
    "for i in range(2, 7):\n",
    "    if i == 4:\n",
    "        pass\n",
    "    else:\n",
    "        print(i)"
   ]
  },
  {
   "cell_type": "code",
   "execution_count": 40,
   "id": "ongoing-debate",
   "metadata": {},
   "outputs": [
    {
     "data": {
      "text/plain": [
       "4"
      ]
     },
     "execution_count": 40,
     "metadata": {},
     "output_type": "execute_result"
    }
   ],
   "source": [
    "arr = [2, 3, 4, 5]\n",
    "\n",
    "len(arr)"
   ]
  },
  {
   "cell_type": "code",
   "execution_count": 41,
   "id": "organizational-armstrong",
   "metadata": {},
   "outputs": [
    {
     "data": {
      "text/plain": [
       "5"
      ]
     },
     "execution_count": 41,
     "metadata": {},
     "output_type": "execute_result"
    }
   ],
   "source": [
    "max(arr)"
   ]
  },
  {
   "cell_type": "code",
   "execution_count": 42,
   "id": "sunset-bible",
   "metadata": {},
   "outputs": [
    {
     "data": {
      "text/plain": [
       "1"
      ]
     },
     "execution_count": 42,
     "metadata": {},
     "output_type": "execute_result"
    }
   ],
   "source": [
    "arr.index(3)"
   ]
  },
  {
   "cell_type": "code",
   "execution_count": 43,
   "id": "listed-envelope",
   "metadata": {},
   "outputs": [],
   "source": [
    "string = \"hello\"\n",
    "def reverse_string(string):\n",
    "    return reverse_string(string[1:])"
   ]
  },
  {
   "cell_type": "code",
   "execution_count": 45,
   "id": "4231303f",
   "metadata": {},
   "outputs": [
    {
     "data": {
      "text/plain": [
       "[150, 100]"
      ]
     },
     "execution_count": 45,
     "metadata": {},
     "output_type": "execute_result"
    }
   ],
   "source": [
    "def alternatingSums(a):\n",
    "    team_1 = 0\n",
    "    team_2 = 0\n",
    "    odd_player = 0\n",
    "    if len(a) % 2 > 0:\n",
    "        odd_player = a[-1]\n",
    "        a.remove(a[-1])\n",
    "    pairs = int(len(a)/2)\n",
    "    for i in range(pairs):\n",
    "        if i == 0:\n",
    "            j = 0\n",
    "            k = 1\n",
    "        team_1 += a[j]\n",
    "        team_2 += a[k]\n",
    "        j += 2\n",
    "        k += 2\n",
    "    team_1 += odd_player\n",
    "    return [team_1, team_2]\n",
    "\n",
    "\n",
    "alternatingSums([30, 40, 50, 60, 70])\n"
   ]
  }
 ],
 "metadata": {
  "kernelspec": {
   "display_name": "Python 3",
   "language": "python",
   "name": "python3"
  },
  "language_info": {
   "codemirror_mode": {
    "name": "ipython",
    "version": 3
   },
   "file_extension": ".py",
   "mimetype": "text/x-python",
   "name": "python",
   "nbconvert_exporter": "python",
   "pygments_lexer": "ipython3",
   "version": "3.10.0"
  }
 },
 "nbformat": 4,
 "nbformat_minor": 5
}
