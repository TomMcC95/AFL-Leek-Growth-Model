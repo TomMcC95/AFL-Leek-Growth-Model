{
 "cells": [
  {
   "cell_type": "code",
   "execution_count": 12,
   "id": "b38abfd1",
   "metadata": {
    "scrolled": true,
    "tags": []
   },
   "outputs": [
    {
     "name": "stdout",
     "output_type": "stream",
     "text": [
      "Current Progress: 100.0 %\n"
     ]
    }
   ],
   "source": [
    "%run PreProcessing.ipynb\n",
    "from sklearn.preprocessing import OrdinalEncoder\n",
    "from sklearn.model_selection import train_test_split\n",
    "from sklearn.model_selection import GridSearchCV\n",
    "from sklearn.preprocessing import Normalizer, StandardScaler\n",
    "from sklearn.tree import DecisionTreeClassifier\n",
    "from sklearn.linear_model import SGDClassifier\n",
    "from sklearn.svm import SVC\n",
    "from sklearn.linear_model import LogisticRegression\n",
    "from sklearn.naive_bayes import GaussianNB\n",
    "from sklearn.ensemble import RandomForestClassifier, GradientBoostingClassifier, VotingClassifier\n",
    "from sklearn.metrics import precision_score, recall_score, confusion_matrix, classification_report, accuracy_score\n",
    "from sklearn.base import BaseEstimator, ClassifierMixin\n",
    "from sklearn.utils import *\n",
    "from sklearn.utils.validation import check_is_fitted\n",
    "from sklearn.ensemble import VotingClassifier\n",
    "from sklearn.pipeline import Pipeline\n",
    "import matplotlib.pyplot as plt"
   ]
  },
  {
   "cell_type": "code",
   "execution_count": 2,
   "id": "20b7272c",
   "metadata": {
    "scrolled": true,
    "tags": []
   },
   "outputs": [],
   "source": [
    "summary_data_avg['harvest_timing'] = 'late'\n",
    "summary_data_avg.loc[summary_data_avg['mean_diameter'] < 34, 'harvest_timing'] = 'optimal'\n",
    "summary_data_avg.loc[summary_data_avg['mean_diameter'] < 29, 'harvest_timing'] = 'suitable'\n",
    "summary_data_avg.loc[summary_data_avg['mean_diameter'] < 24, 'harvest_timing'] = 'early'"
   ]
  },
  {
   "cell_type": "code",
   "execution_count": 3,
   "id": "7a9a2cda",
   "metadata": {},
   "outputs": [],
   "source": [
    "enc = OrdinalEncoder()\n",
    "encoded_df = enc.fit_transform(summary_data_avg[['method', 'variety', 'inputs', 'protection']])\n",
    "summary_data_avg[['method', 'variety', 'inputs', 'protection']] = encoded_df"
   ]
  },
  {
   "cell_type": "code",
   "execution_count": 4,
   "id": "938d8e62",
   "metadata": {},
   "outputs": [
    {
     "name": "stdout",
     "output_type": "stream",
     "text": [
      "   heat_units  solar_radiation  organic_matter  sand  silt  clay  method  \\\n",
      "0        1970          1073585            24.6    40    41    19     2.0   \n",
      "1        2641          1247965            24.6    40    41    19     2.0   \n",
      "2        3189          1379555            24.6    40    41    19     2.0   \n",
      "3        3540          1529793            24.6    40    41    19     2.0   \n",
      "4        3813          1631446            24.6    40    41    19     2.0   \n",
      "\n",
      "   variety  inputs  protection  \n",
      "0     11.0     1.0         0.0  \n",
      "1     11.0     1.0         0.0  \n",
      "2     11.0     1.0         0.0  \n",
      "3     11.0     1.0         0.0  \n",
      "4     11.0     1.0         0.0  \n"
     ]
    }
   ],
   "source": [
    "X = summary_data_avg[['heat_units', 'solar_radiation', 'organic_matter', 'sand', 'silt', 'clay', 'method', 'variety', 'inputs', 'protection']]\n",
    "print(X.head())\n",
    "y = summary_data_avg['harvest_timing']\n",
    "X_train, X_test, y_train, y_test = train_test_split(X, y, test_size=0.2, random_state = 10, stratify = y)"
   ]
  },
  {
   "cell_type": "code",
   "execution_count": 5,
   "id": "17e4df3e",
   "metadata": {},
   "outputs": [
    {
     "name": "stdout",
     "output_type": "stream",
     "text": [
      "early       1952\n",
      "suitable     549\n",
      "optimal      176\n",
      "late          13\n",
      "Name: harvest_timing, dtype: int64\n"
     ]
    }
   ],
   "source": [
    "print(y_train.value_counts())"
   ]
  },
  {
   "cell_type": "code",
   "execution_count": 6,
   "id": "34d0d6dc",
   "metadata": {},
   "outputs": [
    {
     "name": "stdout",
     "output_type": "stream",
     "text": [
      "The old training dataframe shape: (2690, 10)\n",
      "Total number of outliers identified is:  269\n"
     ]
    }
   ],
   "source": [
    "#Isolation forest algorithm to show unsupervised learning\n",
    "from sklearn.ensemble import IsolationForest\n",
    "\n",
    "print(f\"The old training dataframe shape: {X_train.shape}\")\n",
    "\n",
    "#Use the algorithm for outlier detection, then use it to predict each point\n",
    "clf1 = IsolationForest(max_samples=500, random_state = 10, contamination= 0.1)\n",
    "preds = clf1.fit_predict(X_train)\n",
    "\n",
    "#Any point labelled as -1 is an outlier\n",
    "totalOutliers=0\n",
    "for pred in preds:\n",
    "    if pred == -1:\n",
    "        totalOutliers=totalOutliers+1\n",
    "print(\"Total number of outliers identified is: \",totalOutliers)"
   ]
  },
  {
   "cell_type": "code",
   "execution_count": 7,
   "id": "e3b8733b",
   "metadata": {},
   "outputs": [
    {
     "name": "stdout",
     "output_type": "stream",
     "text": [
      "The new training dataframe shape: (2421, 10)\n"
     ]
    }
   ],
   "source": [
    "#Remove outliers from training data.\n",
    "filtered_array = []\n",
    "for element in preds:\n",
    "  if element != -1:\n",
    "    filtered_array.append(True)\n",
    "  else:\n",
    "    filtered_array.append(False)\n",
    "X_train = X_train[filtered_array]\n",
    "y_train = y_train[filtered_array]\n",
    "\n",
    "print(f\"The new training dataframe shape: {X_train.shape}\")"
   ]
  },
  {
   "cell_type": "code",
   "execution_count": 8,
   "id": "f3506c49",
   "metadata": {},
   "outputs": [
    {
     "name": "stdout",
     "output_type": "stream",
     "text": [
      "early       1713\n",
      "suitable     528\n",
      "optimal      167\n",
      "late          13\n",
      "Name: harvest_timing, dtype: int64\n"
     ]
    }
   ],
   "source": [
    "print(y_train.value_counts())"
   ]
  },
  {
   "cell_type": "code",
   "execution_count": 9,
   "id": "d41901ef",
   "metadata": {},
   "outputs": [
    {
     "name": "stdout",
     "output_type": "stream",
     "text": [
      "early       500\n",
      "suitable    500\n",
      "late        500\n",
      "optimal     500\n",
      "Name: harvest_timing, dtype: int64\n"
     ]
    }
   ],
   "source": [
    "from sklearn.utils import resample\n",
    "\n",
    "chosen_feat_list = list(X_train)\n",
    "\n",
    "train_df = pd.merge(X_train, y_train, right_index=True, left_index=True)\n",
    "\n",
    "early_df = train_df[train_df['harvest_timing']=='early']\n",
    "suitable_df = train_df[train_df['harvest_timing']=='suitable']\n",
    "optimal_df = train_df[train_df['harvest_timing']=='optimal']\n",
    "late_df = train_df[train_df['harvest_timing']=='late']\n",
    "\n",
    "n = 500\n",
    "\n",
    "early_resampled = resample(early_df, replace=True, n_samples=n, random_state=10)\n",
    "suitable_resampled = resample(suitable_df, replace=True, n_samples=n, random_state=10)\n",
    "optimal_resampled = resample(optimal_df, replace=True, n_samples=n, random_state=10)\n",
    "late_resampled = resample(late_df, replace=True, n_samples=n, random_state=10)\n",
    "\n",
    "train_df_resampled = pd.concat([early_resampled, suitable_resampled, optimal_resampled, late_resampled], ignore_index=True)\n",
    "\n",
    "X_train = train_df_resampled[chosen_feat_list]\n",
    "y_train = train_df_resampled['harvest_timing']\n",
    "\n",
    "print(y_train.value_counts())"
   ]
  },
  {
   "cell_type": "code",
   "execution_count": 10,
   "id": "7e00c0f8",
   "metadata": {},
   "outputs": [],
   "source": [
    "scaler = StandardScaler()\n",
    "\n",
    "X_train_scaled = scaler.fit_transform(X_train)\n",
    "X_test_scaled = scaler.transform(X_test)\n"
   ]
  },
  {
   "cell_type": "code",
   "execution_count": 13,
   "id": "32d4277f",
   "metadata": {},
   "outputs": [
    {
     "name": "stdout",
     "output_type": "stream",
     "text": [
      "Fitting 5 folds for each of 8 candidates, totalling 40 fits\n",
      "{'criterion': 'gini', 'max_features': None, 'random_state': 11, 'splitter': 'best'}\n",
      "              precision    recall  f1-score   support\n",
      "\n",
      "       early       0.95      0.91      0.93       488\n",
      "        late       0.14      0.25      0.18         4\n",
      "     optimal       0.45      0.66      0.53        44\n",
      "    suitable       0.62      0.61      0.62       137\n",
      "\n",
      "    accuracy                           0.83       673\n",
      "   macro avg       0.54      0.61      0.56       673\n",
      "weighted avg       0.85      0.83      0.84       673\n",
      "\n"
     ]
    },
    {
     "data": {
      "image/png": "[encoded data removed]",
      "text/plain": [
       "<Figure size 576x576 with 1 Axes>"
      ]
     },
     "metadata": {
      "needs_background": "light"
     },
     "output_type": "display_data"
    }
   ],
   "source": [
    "param_grid = {'criterion': ['gini', 'entropy'],  \n",
    "              'splitter': ['best', 'random'], \n",
    "              'random_state': [11],\n",
    "              'max_features': [None, 'auto']}  \n",
    "   \n",
    "grid_dtc = GridSearchCV(DecisionTreeClassifier(), param_grid, refit = True, verbose = 3,n_jobs=-1) \n",
    "   \n",
    "# fitting the model for grid search \n",
    "grid_dtc.fit(X_train_scaled, y_train.values.ravel()) \n",
    " \n",
    "# print best parameter after tuning \n",
    "print(grid_dtc.best_params_) \n",
    "grid_dtc_preds = grid_dtc.predict(X_test_scaled) \n",
    "   \n",
    "# print classification report \n",
    "print(classification_report(y_test, grid_dtc_preds, zero_division = 0)) \n",
    "\n",
    "conf_matrix = confusion_matrix(y_test, grid_dtc_preds)\n",
    "\n",
    "fig, ax = plt.subplots(figsize=(8, 8))\n",
    "ax.matshow(conf_matrix, cmap=plt.cm.Oranges, alpha=0.3)\n",
    "for i in range(conf_matrix.shape[0]):\n",
    "    for j in range(conf_matrix.shape[1]):\n",
    "        ax.text(x=j, y=i,s=conf_matrix[i, j], va='center', ha='center', size='xx-large')\n",
    " \n",
    "plt.xlabel('Predicted', fontsize=18)\n",
    "plt.ylabel('Actuals', fontsize=18)\n",
    "plt.title('Decision Tree Confusion Matrix', fontsize=18)\n",
    "plt.show()\n",
    "\n",
    "dtc = DecisionTreeClassifier(criterion = 'gini', random_state = 11, max_features = None, splitter = 'best')\n",
    "dtc_model = dtc.fit(X_train_scaled, y_train.values.ravel())\n",
    "dtc_model_pred = dtc_model.predict(X_test_scaled)\n",
    "dtc_accuracy = accuracy_score(y_test, dtc_model_pred)"
   ]
  },
  {
   "cell_type": "code",
   "execution_count": 14,
   "id": "9e2ab42d",
   "metadata": {},
   "outputs": [
    {
     "name": "stdout",
     "output_type": "stream",
     "text": [
      "Fitting 5 folds for each of 12 candidates, totalling 60 fits\n",
      "{'class_weight': None, 'criterion': 'gini', 'max_features': 'auto', 'random_state': 10}\n",
      "              precision    recall  f1-score   support\n",
      "\n",
      "       early       0.97      0.90      0.93       488\n",
      "        late       0.20      0.25      0.22         4\n",
      "     optimal       0.47      0.64      0.54        44\n",
      "    suitable       0.61      0.71      0.66       137\n",
      "\n",
      "    accuracy                           0.84       673\n",
      "   macro avg       0.56      0.62      0.59       673\n",
      "weighted avg       0.86      0.84      0.85       673\n",
      "\n"
     ]
    },
    {
     "data": {
      "image/png": "[encoded data removed]",
      "text/plain": [
       "<Figure size 576x576 with 1 Axes>"
      ]
     },
     "metadata": {
      "needs_background": "light"
     },
     "output_type": "display_data"
    }
   ],
   "source": [
    "param_grid = {'criterion': ['gini', 'entropy'],  \n",
    "              'class_weight': [None, 'balanced_subsample'], \n",
    "              'random_state': [10],\n",
    "              'max_features': ['auto', 'sqrt', 'log2']}  \n",
    "   \n",
    "grid_rfc = GridSearchCV(RandomForestClassifier(), param_grid, refit = True, verbose = 3, n_jobs=2) \n",
    "   \n",
    "# fitting the model for grid search \n",
    "grid_rfc.fit(X_train_scaled, y_train.values.ravel()) \n",
    " \n",
    "# print best parameter after tuning \n",
    "print(grid_rfc.best_params_) \n",
    "grid_rfc_preds = grid_rfc.predict(X_test_scaled) \n",
    "   \n",
    "# print classification report \n",
    "print(classification_report(y_test, grid_rfc_preds, zero_division = 0)) \n",
    "\n",
    "conf_matrix = confusion_matrix(y_test, grid_rfc_preds)\n",
    "\n",
    "fig, ax = plt.subplots(figsize=(8, 8))\n",
    "ax.matshow(conf_matrix, cmap=plt.cm.Oranges, alpha=0.3)\n",
    "for i in range(conf_matrix.shape[0]):\n",
    "    for j in range(conf_matrix.shape[1]):\n",
    "        ax.text(x=j, y=i,s=conf_matrix[i, j], va='center', ha='center', size='xx-large')\n",
    " \n",
    "plt.xlabel('Predicted', fontsize=18)\n",
    "plt.ylabel('Actuals', fontsize=18)\n",
    "plt.title('Random Forest Confusion Matrix', fontsize=18)\n",
    "plt.show()\n",
    "\n",
    "rfc = RandomForestClassifier(criterion = 'gini', class_weight = 'balanced_subsample', random_state = 10, max_features = 'auto')\n",
    "rfc_model = rfc.fit(X_train_scaled, y_train.values.ravel())\n",
    "rfc_model_pred = rfc_model.predict(X_test_scaled)\n",
    "rfc_accuracy = accuracy_score(y_test, rfc_model_pred)\n"
   ]
  },
  {
   "cell_type": "code",
   "execution_count": 15,
   "id": "bf0f4204",
   "metadata": {},
   "outputs": [
    {
     "data": {
      "text/html": [
       "<div>\n",
       "<style scoped>\n",
       "    .dataframe tbody tr th:only-of-type {\n",
       "        vertical-align: middle;\n",
       "    }\n",
       "\n",
       "    .dataframe tbody tr th {\n",
       "        vertical-align: top;\n",
       "    }\n",
       "\n",
       "    .dataframe thead th {\n",
       "        text-align: right;\n",
       "    }\n",
       "</style>\n",
       "<table border=\"1\" class=\"dataframe\">\n",
       "  <thead>\n",
       "    <tr style=\"text-align: right;\">\n",
       "      <th></th>\n",
       "      <th>code_early</th>\n",
       "      <th>code_late</th>\n",
       "      <th>code_optimal</th>\n",
       "      <th>code_suitable</th>\n",
       "    </tr>\n",
       "  </thead>\n",
       "  <tbody>\n",
       "    <tr>\n",
       "      <th>0</th>\n",
       "      <td>0.0</td>\n",
       "      <td>0.0</td>\n",
       "      <td>0.0</td>\n",
       "      <td>1.0</td>\n",
       "    </tr>\n",
       "    <tr>\n",
       "      <th>1</th>\n",
       "      <td>1.0</td>\n",
       "      <td>0.0</td>\n",
       "      <td>0.0</td>\n",
       "      <td>0.0</td>\n",
       "    </tr>\n",
       "    <tr>\n",
       "      <th>2</th>\n",
       "      <td>1.0</td>\n",
       "      <td>0.0</td>\n",
       "      <td>0.0</td>\n",
       "      <td>0.0</td>\n",
       "    </tr>\n",
       "    <tr>\n",
       "      <th>3</th>\n",
       "      <td>1.0</td>\n",
       "      <td>0.0</td>\n",
       "      <td>0.0</td>\n",
       "      <td>0.0</td>\n",
       "    </tr>\n",
       "    <tr>\n",
       "      <th>4</th>\n",
       "      <td>0.0</td>\n",
       "      <td>0.0</td>\n",
       "      <td>0.0</td>\n",
       "      <td>1.0</td>\n",
       "    </tr>\n",
       "  </tbody>\n",
       "</table>\n",
       "</div>"
      ],
      "text/plain": [
       "   code_early  code_late  code_optimal  code_suitable\n",
       "0         0.0        0.0           0.0            1.0\n",
       "1         1.0        0.0           0.0            0.0\n",
       "2         1.0        0.0           0.0            0.0\n",
       "3         1.0        0.0           0.0            0.0\n",
       "4         0.0        0.0           0.0            1.0"
      ]
     },
     "execution_count": 15,
     "metadata": {},
     "output_type": "execute_result"
    }
   ],
   "source": [
    "from sklearn.preprocessing import OneHotEncoder\n",
    "\n",
    "y_test_copy = y_test.copy()\n",
    "\n",
    "y_test_copy = pd.concat([y_test_copy], ignore_index=True).to_frame(name='harvest_timing')\n",
    "\n",
    "enc = OneHotEncoder()\n",
    "enc_df = pd.DataFrame(enc.fit_transform(y_test_copy[['harvest_timing']]).toarray())\n",
    "enc_df.columns = enc.get_feature_names(['code'])\n",
    "y_test_multi = y_test_copy.join(enc_df)\n",
    "y_test_multi = y_test_multi.drop(['harvest_timing'], axis=1)\n",
    "y_test_multi.head()"
   ]
  },
  {
   "cell_type": "code",
   "execution_count": 16,
   "id": "af6e1acd",
   "metadata": {},
   "outputs": [
    {
     "data": {
      "image/png": "[encoded data removed]",
      "text/plain": [
       "<Figure size 432x288 with 1 Axes>"
      ]
     },
     "metadata": {
      "needs_background": "light"
     },
     "output_type": "display_data"
    },
    {
     "data": {
      "image/png": "[encoded data removed]",
      "text/plain": [
       "<Figure size 432x288 with 1 Axes>"
      ]
     },
     "metadata": {
      "needs_background": "light"
     },
     "output_type": "display_data"
    }
   ],
   "source": [
    "from sklearn.metrics import precision_recall_curve, roc_curve, roc_auc_score\n",
    "n_classes = 4\n",
    "y_score = rfc.predict_proba(X_test_scaled)\n",
    "\n",
    "# precision recall curve\n",
    "precision = dict()\n",
    "recall = dict()\n",
    "for i in range(n_classes):\n",
    "    precision[i], recall[i], _ = precision_recall_curve(y_test_multi.values[:, i],\n",
    "                                                        y_score[:, i])\n",
    "    plt.plot(recall[i], precision[i], lw=2, label=f'class {i}'.format(i))\n",
    "    \n",
    "plt.xlabel(\"recall\")\n",
    "plt.ylabel(\"precision\")\n",
    "plt.legend(loc=\"best\")\n",
    "plt.title(\"Random Forest P vs R curve\")\n",
    "plt.show()\n",
    "\n",
    "# roc curve\n",
    "fpr = dict()\n",
    "tpr = dict()\n",
    "\n",
    "for i in range(n_classes):\n",
    "    fpr[i], tpr[i], _ = roc_curve(y_test_multi.values[:, i],\n",
    "                                  y_score[:, i])\n",
    "    plt.plot(fpr[i], tpr[i], lw=2, label=f'class {i}'.format(i))\n",
    "\n",
    "plt.xlabel(\"false positive rate\")\n",
    "plt.ylabel(\"true positive rate\")\n",
    "plt.legend(loc=\"best\")\n",
    "plt.title(\"Random Forest ROC curve\")\n",
    "plt.show()"
   ]
  },
  {
   "cell_type": "code",
   "execution_count": 17,
   "id": "272d85b4",
   "metadata": {},
   "outputs": [
    {
     "name": "stdout",
     "output_type": "stream",
     "text": [
      "AUC: 0.845\n"
     ]
    }
   ],
   "source": [
    "auc = roc_auc_score(y_test, y_score, multi_class='ovr')\n",
    "print('AUC: %.3f' % auc)"
   ]
  },
  {
   "cell_type": "code",
   "execution_count": null,
   "id": "4cb8b555",
   "metadata": {},
   "outputs": [],
   "source": []
  }
 ],
 "metadata": {
  "kernelspec": {
   "display_name": "Python 3",
   "language": "python",
   "name": "python3"
  },
  "language_info": {
   "codemirror_mode": {
    "name": "ipython",
    "version": 3
   },
   "file_extension": ".py",
   "mimetype": "text/x-python",
   "name": "python",
   "nbconvert_exporter": "python",
   "pygments_lexer": "ipython3",
   "version": "3.9.1"
  }
 },
 "nbformat": 4,
 "nbformat_minor": 5
}
