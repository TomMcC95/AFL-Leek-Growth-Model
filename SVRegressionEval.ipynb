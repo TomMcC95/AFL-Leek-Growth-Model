{
 "cells": [
  {
   "cell_type": "code",
   "execution_count": 1,
   "id": "2d5295e2",
   "metadata": {
    "scrolled": true,
    "tags": []
   },
   "outputs": [
    {
     "name": "stdout",
     "output_type": "stream",
     "text": [
      "Current Progress: 100.0 %\n"
     ]
    }
   ],
   "source": [
    "# Run preprocessing script to make dataframe objects available.\n",
    "\n",
    "%run PreProcessing.ipynb"
   ]
  },
  {
   "cell_type": "code",
   "execution_count": 2,
   "id": "d8be3a84",
   "metadata": {},
   "outputs": [],
   "source": [
    "# Import required libraries.\n",
    "\n",
    "from sklearn.model_selection import train_test_split, GridSearchCV\n",
    "from sklearn.svm import SVR\n",
    "from sklearn.metrics import accuracy_score\n",
    "from sklearn.ensemble import IsolationForest\n",
    "import matplotlib.pyplot as plt\n",
    "import seaborn as sns\n",
    "from mlxtend.evaluate import bias_variance_decomp\n",
    "from sklearn.pipeline import Pipeline\n",
    "from sklearn.compose import make_column_transformer"
   ]
  },
  {
   "cell_type": "code",
   "execution_count": 3,
   "id": "64481f64",
   "metadata": {},
   "outputs": [
    {
     "data": {
      "text/html": [
       "<div>\n",
       "<style scoped>\n",
       "    .dataframe tbody tr th:only-of-type {\n",
       "        vertical-align: middle;\n",
       "    }\n",
       "\n",
       "    .dataframe tbody tr th {\n",
       "        vertical-align: top;\n",
       "    }\n",
       "\n",
       "    .dataframe thead th {\n",
       "        text-align: right;\n",
       "    }\n",
       "</style>\n",
       "<table border=\"1\" class=\"dataframe\">\n",
       "  <thead>\n",
       "    <tr style=\"text-align: right;\">\n",
       "      <th></th>\n",
       "      <th>pp2m2</th>\n",
       "      <th>heat_units</th>\n",
       "      <th>solar_radiation</th>\n",
       "      <th>organic_matter</th>\n",
       "      <th>method</th>\n",
       "      <th>variety</th>\n",
       "      <th>inputs</th>\n",
       "      <th>protection</th>\n",
       "    </tr>\n",
       "  </thead>\n",
       "  <tbody>\n",
       "    <tr>\n",
       "      <th>0</th>\n",
       "      <td>38</td>\n",
       "      <td>1128</td>\n",
       "      <td>1063757</td>\n",
       "      <td>24.6</td>\n",
       "      <td>Drilled</td>\n",
       "      <td>Krypton</td>\n",
       "      <td>Conventional</td>\n",
       "      <td>Barley</td>\n",
       "    </tr>\n",
       "    <tr>\n",
       "      <th>1</th>\n",
       "      <td>41</td>\n",
       "      <td>1394</td>\n",
       "      <td>1236720</td>\n",
       "      <td>24.6</td>\n",
       "      <td>Drilled</td>\n",
       "      <td>Krypton</td>\n",
       "      <td>Conventional</td>\n",
       "      <td>Barley</td>\n",
       "    </tr>\n",
       "    <tr>\n",
       "      <th>2</th>\n",
       "      <td>44</td>\n",
       "      <td>1630</td>\n",
       "      <td>1348259</td>\n",
       "      <td>24.6</td>\n",
       "      <td>Drilled</td>\n",
       "      <td>Krypton</td>\n",
       "      <td>Conventional</td>\n",
       "      <td>Barley</td>\n",
       "    </tr>\n",
       "    <tr>\n",
       "      <th>3</th>\n",
       "      <td>45</td>\n",
       "      <td>1967</td>\n",
       "      <td>1506984</td>\n",
       "      <td>24.6</td>\n",
       "      <td>Drilled</td>\n",
       "      <td>Krypton</td>\n",
       "      <td>Conventional</td>\n",
       "      <td>Barley</td>\n",
       "    </tr>\n",
       "    <tr>\n",
       "      <th>4</th>\n",
       "      <td>40</td>\n",
       "      <td>2256</td>\n",
       "      <td>1619377</td>\n",
       "      <td>24.6</td>\n",
       "      <td>Drilled</td>\n",
       "      <td>Krypton</td>\n",
       "      <td>Conventional</td>\n",
       "      <td>Barley</td>\n",
       "    </tr>\n",
       "  </tbody>\n",
       "</table>\n",
       "</div>"
      ],
      "text/plain": [
       "   pp2m2  heat_units  solar_radiation  organic_matter   method  variety  \\\n",
       "0     38        1128          1063757            24.6  Drilled  Krypton   \n",
       "1     41        1394          1236720            24.6  Drilled  Krypton   \n",
       "2     44        1630          1348259            24.6  Drilled  Krypton   \n",
       "3     45        1967          1506984            24.6  Drilled  Krypton   \n",
       "4     40        2256          1619377            24.6  Drilled  Krypton   \n",
       "\n",
       "         inputs protection  \n",
       "0  Conventional     Barley  \n",
       "1  Conventional     Barley  \n",
       "2  Conventional     Barley  \n",
       "3  Conventional     Barley  \n",
       "4  Conventional     Barley  "
      ]
     },
     "execution_count": 3,
     "metadata": {},
     "output_type": "execute_result"
    }
   ],
   "source": [
    "X = summary_data_avg[['pp2m2', 'heat_units', 'solar_radiation', 'organic_matter', 'method', 'variety', 'inputs', 'protection']]\n",
    "y = summary_data_avg['mean_diameter']\n",
    "\n",
    "X.head()"
   ]
  },
  {
   "cell_type": "code",
   "execution_count": 4,
   "id": "3bcb7e8a",
   "metadata": {},
   "outputs": [
    {
     "ename": "AttributeError",
     "evalue": "'CustomTransformer' object has no attribute 'column_list'",
     "output_type": "error",
     "traceback": [
      "\u001b[1;31m---------------------------------------------------------------------------\u001b[0m",
      "\u001b[1;31mAttributeError\u001b[0m                            Traceback (most recent call last)",
      "\u001b[1;32m<ipython-input-4-4e956ab97d92>\u001b[0m in \u001b[0;36m<module>\u001b[1;34m\u001b[0m\n\u001b[0;32m      2\u001b[0m \u001b[1;31m# Error message appearing but code seems to work.\u001b[0m\u001b[1;33m\u001b[0m\u001b[1;33m\u001b[0m\u001b[1;33m\u001b[0m\u001b[0m\n\u001b[0;32m      3\u001b[0m \u001b[1;33m\u001b[0m\u001b[0m\n\u001b[1;32m----> 4\u001b[1;33m \u001b[0mtrns\u001b[0m \u001b[1;33m=\u001b[0m \u001b[0mCustomTransformer\u001b[0m\u001b[1;33m(\u001b[0m\u001b[1;34m'ordinal'\u001b[0m\u001b[1;33m)\u001b[0m\u001b[1;33m.\u001b[0m\u001b[0mfit\u001b[0m\u001b[1;33m(\u001b[0m\u001b[0mX\u001b[0m\u001b[1;33m)\u001b[0m\u001b[1;33m\u001b[0m\u001b[1;33m\u001b[0m\u001b[0m\n\u001b[0m\u001b[0;32m      5\u001b[0m \u001b[0mX\u001b[0m \u001b[1;33m=\u001b[0m \u001b[0mtrns\u001b[0m\u001b[1;33m.\u001b[0m\u001b[0mtransform\u001b[0m\u001b[1;33m(\u001b[0m\u001b[0mX\u001b[0m\u001b[1;33m)\u001b[0m\u001b[1;33m\u001b[0m\u001b[1;33m\u001b[0m\u001b[0m\n\u001b[0;32m      6\u001b[0m \u001b[1;33m\u001b[0m\u001b[0m\n",
      "\u001b[1;32m<ipython-input-1-cefc71ac4b7f>\u001b[0m in \u001b[0;36mfit\u001b[1;34m(self, X, y)\u001b[0m\n\u001b[0;32m     10\u001b[0m \u001b[1;33m\u001b[0m\u001b[0m\n\u001b[0;32m     11\u001b[0m         \u001b[1;32mif\u001b[0m \u001b[0mself\u001b[0m\u001b[1;33m.\u001b[0m\u001b[0mmethod\u001b[0m\u001b[1;33m.\u001b[0m\u001b[0mlower\u001b[0m\u001b[1;33m(\u001b[0m\u001b[1;33m)\u001b[0m \u001b[1;33m==\u001b[0m \u001b[1;34m'ordinal'\u001b[0m\u001b[1;33m:\u001b[0m\u001b[1;33m\u001b[0m\u001b[1;33m\u001b[0m\u001b[0m\n\u001b[1;32m---> 12\u001b[1;33m             \u001b[0mself\u001b[0m\u001b[1;33m.\u001b[0m\u001b[0mtrns\u001b[0m \u001b[1;33m=\u001b[0m \u001b[0mOrdinalEncoder\u001b[0m\u001b[1;33m(\u001b[0m\u001b[1;33m)\u001b[0m\u001b[1;33m.\u001b[0m\u001b[0mfit\u001b[0m\u001b[1;33m(\u001b[0m\u001b[0mX\u001b[0m\u001b[1;33m[\u001b[0m\u001b[0mself\u001b[0m\u001b[1;33m.\u001b[0m\u001b[0mcolumn_list\u001b[0m\u001b[1;33m]\u001b[0m\u001b[1;33m)\u001b[0m\u001b[1;33m\u001b[0m\u001b[1;33m\u001b[0m\u001b[0m\n\u001b[0m\u001b[0;32m     13\u001b[0m \u001b[1;33m\u001b[0m\u001b[0m\n\u001b[0;32m     14\u001b[0m         \u001b[1;32mif\u001b[0m \u001b[0mself\u001b[0m\u001b[1;33m.\u001b[0m\u001b[0mmethod\u001b[0m\u001b[1;33m.\u001b[0m\u001b[0mlower\u001b[0m\u001b[1;33m(\u001b[0m\u001b[1;33m)\u001b[0m \u001b[1;33m==\u001b[0m \u001b[1;34m'onehot'\u001b[0m\u001b[1;33m:\u001b[0m\u001b[1;33m\u001b[0m\u001b[1;33m\u001b[0m\u001b[0m\n",
      "\u001b[1;31mAttributeError\u001b[0m: 'CustomTransformer' object has no attribute 'column_list'"
     ]
    }
   ],
   "source": [
    "# Encode categoriccal variables that will be used as predictors\n",
    "# Error message appearing but code seems to work.\n",
    "\n",
    "trns = CustomTransformer('ordinal').fit(X)\n",
    "X = trns.transform(X)\n",
    "\n",
    "X.head()"
   ]
  },
  {
   "cell_type": "code",
   "execution_count": null,
   "id": "aedbe678",
   "metadata": {
    "scrolled": true,
    "tags": []
   },
   "outputs": [],
   "source": [
    "# Assign 'X' and 'y' values and split into seperate train and test df.\n",
    "# If there is little benefit from specific indicators they can be removed.\n",
    "\n",
    "X_train, X_test, y_train, y_test = train_test_split(X, y, test_size=0.20, random_state = 0)\n",
    "X_train.head()"
   ]
  },
  {
   "cell_type": "code",
   "execution_count": null,
   "id": "125341fd",
   "metadata": {
    "scrolled": true,
    "tags": []
   },
   "outputs": [],
   "source": [
    "X_test.head()"
   ]
  },
  {
   "cell_type": "code",
   "execution_count": null,
   "id": "0e1614af",
   "metadata": {},
   "outputs": [],
   "source": [
    "# Use the isolation forest algorithm to remove the most rogue 5% of datapoints.\n",
    "\n",
    "print(f\"The old training dataframe shape: {X_train.shape}\")\n",
    "\n",
    "clf1 = IsolationForest(max_samples=500, random_state = 10, contamination = 0.05)\n",
    "preds = clf1.fit_predict(X_train)\n",
    "\n",
    "totalOutliers=0\n",
    "for pred in preds:\n",
    "    if pred == -1:\n",
    "        totalOutliers=totalOutliers+1\n",
    "print(\"Total number of outliers identified is: \",totalOutliers)\n",
    "\n",
    "# Remove outliers from training data.\n",
    "# Do not remove from test data as this is bad practice.\n",
    "# Confirm removal by checking new df shape.\n",
    "\n",
    "filtered_array = []\n",
    "for element in preds:\n",
    "  if element != -1:\n",
    "    filtered_array.append(True)\n",
    "  else:\n",
    "    filtered_array.append(False)\n",
    "X_train = X_train[filtered_array]\n",
    "y_train = y_train[filtered_array]\n",
    "\n",
    "print(f\"The new training dataframe shape: {X_train.shape}\")"
   ]
  },
  {
   "cell_type": "code",
   "execution_count": null,
   "id": "a5a3b572",
   "metadata": {},
   "outputs": [],
   "source": [
    "# Hypertuning model to find best parameters.\n",
    "# Print the best qualitative parameters to use within the model.\n",
    "\n",
    "param_grid_1 = {'kernel': ['linear', 'rbf', 'sigmoid'],\n",
    "                'shrinking': [True, False]}\n",
    "   \n",
    "grid_svr = GridSearchCV(SVR(), param_grid_1, refit = True, verbose = 3, n_jobs=-1, cv = 2)\n",
    "\n",
    "grid_svr.fit(MinMaxScaler().fit_transform(X_train), y_train) \n",
    " \n",
    "print(grid_svr.best_params_)"
   ]
  },
  {
   "cell_type": "code",
   "execution_count": null,
   "id": "a4b00c0c",
   "metadata": {},
   "outputs": [],
   "source": [
    "# Fit semi-hypertuned model and print score.\n",
    "\n",
    "svr = Pipeline([('scaler', MinMaxScaler()), ('svr', SVR(kernel = 'rbf', shrinking = True))])\n",
    "\n",
    "svr.fit(X_train, y_train)\n",
    "print(svr.score(X_test, y_test))"
   ]
  },
  {
   "cell_type": "code",
   "execution_count": null,
   "id": "4f82b88a",
   "metadata": {},
   "outputs": [],
   "source": [
    "def hypertune_eval(param, seq_min, seq_max, seq_int, model, log = False):\n",
    "    \n",
    "    \n",
    "    if log:\n",
    "        sequence = [i for i in np.logspace(seq_min, seq_max, seq_int)]\n",
    "        \n",
    "    else:\n",
    "        sequence = np.arange(seq_min, seq_max, seq_int)\n",
    "        \n",
    "    acc = []\n",
    "    bias = []\n",
    "    var = []\n",
    "    mse = []\n",
    "    \n",
    "    for n in sequence:\n",
    "        model[-1].set_params(**{param : n})\n",
    "        model.fit(X_train, y_train)\n",
    "        acc.append(model.score(X_test, y_test))\n",
    "        \n",
    "        mse_decomp, bias_decomp, var_decomp = bias_variance_decomp(model, X_train.values, y_train.values, X_test.values, y_test.values, loss= 'mse', num_rounds = 10, random_seed = 1)\n",
    "        \n",
    "        bias.append(bias_decomp)\n",
    "        var.append(var_decomp)\n",
    "        mse.append(mse_decomp)\n",
    "        \n",
    "        \n",
    "    fig, axs = plt.subplots(2, 2, figsize=(8, 5), constrained_layout=True, sharex=True)\n",
    "    \n",
    "    fig.suptitle(f'Effect of Changing {param} Parameter')\n",
    "    fig.supxlabel(f'{param}')\n",
    "    \n",
    "    axs[0,0].plot(sequence, acc)\n",
    "    axs[0,0].set_ylabel('accuracy')\n",
    "    \n",
    "    axs[0,1].plot(sequence, mse)\n",
    "    axs[0,1].set_ylabel('mean squared error')\n",
    "    \n",
    "    axs[1,0].plot(sequence, bias)\n",
    "    axs[1,0].set_ylabel('bias')\n",
    "    \n",
    "    axs[1,1].plot(sequence, var)\n",
    "    axs[1,1].set_ylabel('variance')"
   ]
  },
  {
   "cell_type": "code",
   "execution_count": null,
   "id": "134b8f2e",
   "metadata": {},
   "outputs": [],
   "source": [
    "# Optimisation of n_estimators parameter.\n",
    "\n",
    "hypertune_eval('C', -0, 2.1, 8, svr, True)"
   ]
  },
  {
   "cell_type": "code",
   "execution_count": null,
   "id": "8b8f873b",
   "metadata": {},
   "outputs": [],
   "source": [
    "# Set parameter to optimum.\n",
    "svr[-1].set_params(C = 50)\n",
    "svr.fit(X_train, y_train)\n",
    "print(svr.score(X_test, y_test))"
   ]
  },
  {
   "cell_type": "code",
   "execution_count": null,
   "id": "79432a2e",
   "metadata": {},
   "outputs": [],
   "source": [
    "hypertune_eval('gamma', -3, 0, 8, svr, True)"
   ]
  },
  {
   "cell_type": "code",
   "execution_count": null,
   "id": "30c9f07c",
   "metadata": {},
   "outputs": [],
   "source": [
    "# Set parameter to optimum.\n",
    "svr[-1].set_params(gamma = 0.4)\n",
    "svr.fit(X_train, y_train)\n",
    "print(svr.score(X_test, y_test))\n",
    "\n",
    "mse_decomp, bias_decomp, var_decomp = bias_variance_decomp(svr, X_train.values, y_train.values, X_test.values, y_test.values, loss= 'mse', num_rounds = 30, random_seed = 1)\n",
    "\n",
    "print(mse_decomp**0.5)\n",
    "print(bias_decomp)\n",
    "print(var_decomp)\n",
    "\n",
    "svr_pred = svr.predict(X_test)\n"
   ]
  },
  {
   "cell_type": "code",
   "execution_count": null,
   "id": "dd7e84c4",
   "metadata": {
    "scrolled": true,
    "tags": []
   },
   "outputs": [],
   "source": [
    "# Join 'X' and 'y' test df together along with predictions to make visualisations easier.\n",
    "# Please note... only the test data.\n",
    "\n",
    "y_test_df = y_test.to_frame()\n",
    "y_test_df = y_test_df.rename(columns = {0:'mean_diameter'}).reset_index(drop=True)\n",
    "\n",
    "pred_df = pd.DataFrame(svr_pred, columns = ['predicted_mean_diameter']).reset_index(drop=True)\n",
    "\n",
    "X_test_df = pd.DataFrame(X_test, columns = ['pp2m2',\n",
    "                                            'heat_units',\n",
    "                                            'solar_radiation',\n",
    "                                            'organic_matter',\n",
    "                                            'method',\n",
    "                                            'variety',\n",
    "                                            'inputs',\n",
    "                                            'protection']).reset_index(drop = True)\n",
    "\n",
    "test_df = X_test_df.copy()\n",
    "test_df['predicted_mean_diameter'] = pd.Series(pred_df['predicted_mean_diameter'])\n",
    "test_df['mean_diameter'] = pd.Series(y_test_df['mean_diameter'])\n",
    "\n",
    "test_df = trns.inverse_transform(test_df)\n",
    "test_df.head()"
   ]
  },
  {
   "cell_type": "code",
   "execution_count": null,
   "id": "f9befe52",
   "metadata": {},
   "outputs": [],
   "source": [
    "test_df.shape"
   ]
  },
  {
   "cell_type": "code",
   "execution_count": null,
   "id": "19f0e0d3",
   "metadata": {},
   "outputs": [],
   "source": [
    "# Scatterplot to show how predicted mean compares to actual mean.\n",
    "# Set hue to see if any indicator variables have a bias.\n",
    "\n",
    "sns.scatterplot(y = 'mean_diameter', x = 'predicted_mean_diameter', data = test_df, hue='method')\n",
    "plt.axline([0, 0], [1, 1], color = 'r')\n",
    "plt.ylim(0)\n",
    "plt.xlim(0)\n",
    "plt.show()"
   ]
  },
  {
   "cell_type": "code",
   "execution_count": null,
   "id": "d117f189",
   "metadata": {},
   "outputs": [],
   "source": []
  }
 ],
 "metadata": {
  "kernelspec": {
   "display_name": "Python 3",
   "language": "python",
   "name": "python3"
  },
  "language_info": {
   "codemirror_mode": {
    "name": "ipython",
    "version": 3
   },
   "file_extension": ".py",
   "mimetype": "text/x-python",
   "name": "python",
   "nbconvert_exporter": "python",
   "pygments_lexer": "ipython3",
   "version": "3.9.1"
  }
 },
 "nbformat": 4,
 "nbformat_minor": 5
}
