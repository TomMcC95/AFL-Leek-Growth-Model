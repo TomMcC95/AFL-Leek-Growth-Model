{
 "cells": [
  {
   "cell_type": "code",
   "execution_count": 1,
   "id": "86042101",
   "metadata": {
    "scrolled": true,
    "tags": []
   },
   "outputs": [
    {
     "name": "stdout",
     "output_type": "stream",
     "text": [
      "Current Progress: 100.0 %\n"
     ]
    }
   ],
   "source": [
    "# Run preprocessing script to make dataframe objects available.\n",
    "\n",
    "%run PreProcessing.ipynb"
   ]
  },
  {
   "cell_type": "code",
   "execution_count": 2,
   "id": "ae6245e9",
   "metadata": {},
   "outputs": [],
   "source": [
    "# Import required libraries.\n",
    "\n",
    "from sklearn.model_selection import train_test_split, GridSearchCV\n",
    "from sklearn.base import TransformerMixin, BaseEstimator\n",
    "from sklearn.preprocessing import StandardScaler, OrdinalEncoder\n",
    "from sklearn.svm import SVR\n",
    "from sklearn.metrics import accuracy_score\n",
    "from sklearn.ensemble import IsolationForest\n",
    "import matplotlib.pyplot as plt\n",
    "import seaborn as sns\n",
    "from sklearn import tree\n",
    "from dtreeviz.trees import dtreeviz\n",
    "from mlxtend.evaluate import bias_variance_decomp\n",
    "from matplotlib.colors import Normalize\n",
    "    "
   ]
  },
  {
   "cell_type": "code",
   "execution_count": 3,
   "id": "eff773a5",
   "metadata": {},
   "outputs": [],
   "source": [
    "#Custom Transformer\n",
    "\n",
    "class CustomTransformer(BaseEstimator, TransformerMixin):\n",
    "    #Class Constructor \n",
    "    def __init__(self, regressor):\n",
    "        self.regressor = regressor\n",
    "\n",
    "       \n",
    "    def fit(self, X, y = None):\n",
    "        \n",
    "        if self.regressor in ['rfr', 'svr']:\n",
    "            self.column_list = list(X.select_dtypes(include=[\"object_\"]))\n",
    "            self.trns = OrdinalEncoder().fit(X[self.column_list])\n",
    "            \n",
    "            return self\n",
    "        \n",
    "\n",
    "    def transform(self, X, y = None):\n",
    "        \n",
    "        if self.regressor in ['rfr', 'svr']:\n",
    "            pd.options.mode.chained_assignment = None  # default='warn'\n",
    "            trns_array = self.trns.transform(X[self.column_list])\n",
    "            X.loc[:, self.column_list] = trns_array.copy()\n",
    "            \n",
    "            return X\n",
    "        \n",
    "        \n",
    "    def inverse_transform(self, X, y = None):\n",
    "        \n",
    "        if self.regressor in ['rfr', 'svr']:\n",
    "            pd.options.mode.chained_assignment = None  # default='warn'\n",
    "            trns_array = self.trns.inverse_transform(X[self.column_list])\n",
    "            X.loc[:, self.column_list] = trns_array.copy()\n",
    "            \n",
    "            return X"
   ]
  },
  {
   "cell_type": "code",
   "execution_count": 4,
   "id": "fcb4d707",
   "metadata": {},
   "outputs": [
    {
     "data": {
      "text/html": [
       "<div>\n",
       "<style scoped>\n",
       "    .dataframe tbody tr th:only-of-type {\n",
       "        vertical-align: middle;\n",
       "    }\n",
       "\n",
       "    .dataframe tbody tr th {\n",
       "        vertical-align: top;\n",
       "    }\n",
       "\n",
       "    .dataframe thead th {\n",
       "        text-align: right;\n",
       "    }\n",
       "</style>\n",
       "<table border=\"1\" class=\"dataframe\">\n",
       "  <thead>\n",
       "    <tr style=\"text-align: right;\">\n",
       "      <th></th>\n",
       "      <th>pp2m2</th>\n",
       "      <th>heat_units</th>\n",
       "      <th>solar_radiation</th>\n",
       "      <th>organic_matter</th>\n",
       "      <th>method</th>\n",
       "      <th>variety</th>\n",
       "      <th>inputs</th>\n",
       "      <th>protection</th>\n",
       "    </tr>\n",
       "  </thead>\n",
       "  <tbody>\n",
       "    <tr>\n",
       "      <th>0</th>\n",
       "      <td>38</td>\n",
       "      <td>1128</td>\n",
       "      <td>1063757</td>\n",
       "      <td>24.6</td>\n",
       "      <td>Drilled</td>\n",
       "      <td>Krypton</td>\n",
       "      <td>Conventional</td>\n",
       "      <td>Barley</td>\n",
       "    </tr>\n",
       "    <tr>\n",
       "      <th>1</th>\n",
       "      <td>41</td>\n",
       "      <td>1394</td>\n",
       "      <td>1236720</td>\n",
       "      <td>24.6</td>\n",
       "      <td>Drilled</td>\n",
       "      <td>Krypton</td>\n",
       "      <td>Conventional</td>\n",
       "      <td>Barley</td>\n",
       "    </tr>\n",
       "    <tr>\n",
       "      <th>2</th>\n",
       "      <td>44</td>\n",
       "      <td>1630</td>\n",
       "      <td>1348259</td>\n",
       "      <td>24.6</td>\n",
       "      <td>Drilled</td>\n",
       "      <td>Krypton</td>\n",
       "      <td>Conventional</td>\n",
       "      <td>Barley</td>\n",
       "    </tr>\n",
       "    <tr>\n",
       "      <th>3</th>\n",
       "      <td>45</td>\n",
       "      <td>1967</td>\n",
       "      <td>1506984</td>\n",
       "      <td>24.6</td>\n",
       "      <td>Drilled</td>\n",
       "      <td>Krypton</td>\n",
       "      <td>Conventional</td>\n",
       "      <td>Barley</td>\n",
       "    </tr>\n",
       "    <tr>\n",
       "      <th>4</th>\n",
       "      <td>40</td>\n",
       "      <td>2256</td>\n",
       "      <td>1619377</td>\n",
       "      <td>24.6</td>\n",
       "      <td>Drilled</td>\n",
       "      <td>Krypton</td>\n",
       "      <td>Conventional</td>\n",
       "      <td>Barley</td>\n",
       "    </tr>\n",
       "  </tbody>\n",
       "</table>\n",
       "</div>"
      ],
      "text/plain": [
       "   pp2m2  heat_units  solar_radiation  organic_matter   method  variety  \\\n",
       "0     38        1128          1063757            24.6  Drilled  Krypton   \n",
       "1     41        1394          1236720            24.6  Drilled  Krypton   \n",
       "2     44        1630          1348259            24.6  Drilled  Krypton   \n",
       "3     45        1967          1506984            24.6  Drilled  Krypton   \n",
       "4     40        2256          1619377            24.6  Drilled  Krypton   \n",
       "\n",
       "         inputs protection  \n",
       "0  Conventional     Barley  \n",
       "1  Conventional     Barley  \n",
       "2  Conventional     Barley  \n",
       "3  Conventional     Barley  \n",
       "4  Conventional     Barley  "
      ]
     },
     "execution_count": 4,
     "metadata": {},
     "output_type": "execute_result"
    }
   ],
   "source": [
    "X = summary_data_avg[['pp2m2', 'heat_units', 'solar_radiation', 'organic_matter', 'method', 'variety', 'inputs', 'protection']]\n",
    "y = summary_data_avg['mean_diameter']\n",
    "\n",
    "X.head()"
   ]
  },
  {
   "cell_type": "code",
   "execution_count": 5,
   "id": "146d18f7",
   "metadata": {},
   "outputs": [
    {
     "data": {
      "text/html": [
       "<div>\n",
       "<style scoped>\n",
       "    .dataframe tbody tr th:only-of-type {\n",
       "        vertical-align: middle;\n",
       "    }\n",
       "\n",
       "    .dataframe tbody tr th {\n",
       "        vertical-align: top;\n",
       "    }\n",
       "\n",
       "    .dataframe thead th {\n",
       "        text-align: right;\n",
       "    }\n",
       "</style>\n",
       "<table border=\"1\" class=\"dataframe\">\n",
       "  <thead>\n",
       "    <tr style=\"text-align: right;\">\n",
       "      <th></th>\n",
       "      <th>pp2m2</th>\n",
       "      <th>heat_units</th>\n",
       "      <th>solar_radiation</th>\n",
       "      <th>organic_matter</th>\n",
       "      <th>method</th>\n",
       "      <th>variety</th>\n",
       "      <th>inputs</th>\n",
       "      <th>protection</th>\n",
       "    </tr>\n",
       "  </thead>\n",
       "  <tbody>\n",
       "    <tr>\n",
       "      <th>0</th>\n",
       "      <td>38</td>\n",
       "      <td>1128</td>\n",
       "      <td>1063757</td>\n",
       "      <td>24.6</td>\n",
       "      <td>2.0</td>\n",
       "      <td>11.0</td>\n",
       "      <td>1.0</td>\n",
       "      <td>0.0</td>\n",
       "    </tr>\n",
       "    <tr>\n",
       "      <th>1</th>\n",
       "      <td>41</td>\n",
       "      <td>1394</td>\n",
       "      <td>1236720</td>\n",
       "      <td>24.6</td>\n",
       "      <td>2.0</td>\n",
       "      <td>11.0</td>\n",
       "      <td>1.0</td>\n",
       "      <td>0.0</td>\n",
       "    </tr>\n",
       "    <tr>\n",
       "      <th>2</th>\n",
       "      <td>44</td>\n",
       "      <td>1630</td>\n",
       "      <td>1348259</td>\n",
       "      <td>24.6</td>\n",
       "      <td>2.0</td>\n",
       "      <td>11.0</td>\n",
       "      <td>1.0</td>\n",
       "      <td>0.0</td>\n",
       "    </tr>\n",
       "    <tr>\n",
       "      <th>3</th>\n",
       "      <td>45</td>\n",
       "      <td>1967</td>\n",
       "      <td>1506984</td>\n",
       "      <td>24.6</td>\n",
       "      <td>2.0</td>\n",
       "      <td>11.0</td>\n",
       "      <td>1.0</td>\n",
       "      <td>0.0</td>\n",
       "    </tr>\n",
       "    <tr>\n",
       "      <th>4</th>\n",
       "      <td>40</td>\n",
       "      <td>2256</td>\n",
       "      <td>1619377</td>\n",
       "      <td>24.6</td>\n",
       "      <td>2.0</td>\n",
       "      <td>11.0</td>\n",
       "      <td>1.0</td>\n",
       "      <td>0.0</td>\n",
       "    </tr>\n",
       "  </tbody>\n",
       "</table>\n",
       "</div>"
      ],
      "text/plain": [
       "   pp2m2  heat_units  solar_radiation  organic_matter  method  variety  \\\n",
       "0     38        1128          1063757            24.6     2.0     11.0   \n",
       "1     41        1394          1236720            24.6     2.0     11.0   \n",
       "2     44        1630          1348259            24.6     2.0     11.0   \n",
       "3     45        1967          1506984            24.6     2.0     11.0   \n",
       "4     40        2256          1619377            24.6     2.0     11.0   \n",
       "\n",
       "   inputs  protection  \n",
       "0     1.0         0.0  \n",
       "1     1.0         0.0  \n",
       "2     1.0         0.0  \n",
       "3     1.0         0.0  \n",
       "4     1.0         0.0  "
      ]
     },
     "execution_count": 5,
     "metadata": {},
     "output_type": "execute_result"
    }
   ],
   "source": [
    "# Encode categoriccal variables that will be used as predictors\n",
    "# Error message appearing but code seems to work.\n",
    "\n",
    "trns = CustomTransformer('rfr').fit(X)\n",
    "X = trns.transform(X)\n",
    "\n",
    "X.head()"
   ]
  },
  {
   "cell_type": "code",
   "execution_count": 6,
   "id": "6f896cfb",
   "metadata": {
    "scrolled": true,
    "tags": []
   },
   "outputs": [
    {
     "data": {
      "text/html": [
       "<div>\n",
       "<style scoped>\n",
       "    .dataframe tbody tr th:only-of-type {\n",
       "        vertical-align: middle;\n",
       "    }\n",
       "\n",
       "    .dataframe tbody tr th {\n",
       "        vertical-align: top;\n",
       "    }\n",
       "\n",
       "    .dataframe thead th {\n",
       "        text-align: right;\n",
       "    }\n",
       "</style>\n",
       "<table border=\"1\" class=\"dataframe\">\n",
       "  <thead>\n",
       "    <tr style=\"text-align: right;\">\n",
       "      <th></th>\n",
       "      <th>pp2m2</th>\n",
       "      <th>heat_units</th>\n",
       "      <th>solar_radiation</th>\n",
       "      <th>organic_matter</th>\n",
       "      <th>method</th>\n",
       "      <th>variety</th>\n",
       "      <th>inputs</th>\n",
       "      <th>protection</th>\n",
       "    </tr>\n",
       "  </thead>\n",
       "  <tbody>\n",
       "    <tr>\n",
       "      <th>1654</th>\n",
       "      <td>33</td>\n",
       "      <td>588</td>\n",
       "      <td>746284</td>\n",
       "      <td>24.1</td>\n",
       "      <td>1.0</td>\n",
       "      <td>16.0</td>\n",
       "      <td>1.0</td>\n",
       "      <td>1.0</td>\n",
       "    </tr>\n",
       "    <tr>\n",
       "      <th>2377</th>\n",
       "      <td>33</td>\n",
       "      <td>1779</td>\n",
       "      <td>970116</td>\n",
       "      <td>2.1</td>\n",
       "      <td>0.0</td>\n",
       "      <td>20.0</td>\n",
       "      <td>1.0</td>\n",
       "      <td>2.0</td>\n",
       "    </tr>\n",
       "    <tr>\n",
       "      <th>1014</th>\n",
       "      <td>36</td>\n",
       "      <td>2215</td>\n",
       "      <td>1292917</td>\n",
       "      <td>36.2</td>\n",
       "      <td>2.0</td>\n",
       "      <td>4.0</td>\n",
       "      <td>1.0</td>\n",
       "      <td>0.0</td>\n",
       "    </tr>\n",
       "    <tr>\n",
       "      <th>2327</th>\n",
       "      <td>35</td>\n",
       "      <td>1791</td>\n",
       "      <td>990708</td>\n",
       "      <td>2.6</td>\n",
       "      <td>0.0</td>\n",
       "      <td>9.0</td>\n",
       "      <td>1.0</td>\n",
       "      <td>2.0</td>\n",
       "    </tr>\n",
       "    <tr>\n",
       "      <th>2284</th>\n",
       "      <td>31</td>\n",
       "      <td>2603</td>\n",
       "      <td>1844549</td>\n",
       "      <td>1.7</td>\n",
       "      <td>2.0</td>\n",
       "      <td>11.0</td>\n",
       "      <td>1.0</td>\n",
       "      <td>0.0</td>\n",
       "    </tr>\n",
       "  </tbody>\n",
       "</table>\n",
       "</div>"
      ],
      "text/plain": [
       "      pp2m2  heat_units  solar_radiation  organic_matter  method  variety  \\\n",
       "1654     33         588           746284            24.1     1.0     16.0   \n",
       "2377     33        1779           970116             2.1     0.0     20.0   \n",
       "1014     36        2215          1292917            36.2     2.0      4.0   \n",
       "2327     35        1791           990708             2.6     0.0      9.0   \n",
       "2284     31        2603          1844549             1.7     2.0     11.0   \n",
       "\n",
       "      inputs  protection  \n",
       "1654     1.0         1.0  \n",
       "2377     1.0         2.0  \n",
       "1014     1.0         0.0  \n",
       "2327     1.0         2.0  \n",
       "2284     1.0         0.0  "
      ]
     },
     "execution_count": 6,
     "metadata": {},
     "output_type": "execute_result"
    }
   ],
   "source": [
    "# Assign 'X' and 'y' values and split into seperate train and test df.\n",
    "# If there is little benefit from specific indicators they can be removed.\n",
    "\n",
    "X_train, X_test, y_train, y_test = train_test_split(X, y, test_size=0.20, random_state = 0)\n",
    "X_train.head()"
   ]
  },
  {
   "cell_type": "code",
   "execution_count": 7,
   "id": "e193730d",
   "metadata": {
    "scrolled": true,
    "tags": []
   },
   "outputs": [
    {
     "data": {
      "text/html": [
       "<div>\n",
       "<style scoped>\n",
       "    .dataframe tbody tr th:only-of-type {\n",
       "        vertical-align: middle;\n",
       "    }\n",
       "\n",
       "    .dataframe tbody tr th {\n",
       "        vertical-align: top;\n",
       "    }\n",
       "\n",
       "    .dataframe thead th {\n",
       "        text-align: right;\n",
       "    }\n",
       "</style>\n",
       "<table border=\"1\" class=\"dataframe\">\n",
       "  <thead>\n",
       "    <tr style=\"text-align: right;\">\n",
       "      <th></th>\n",
       "      <th>pp2m2</th>\n",
       "      <th>heat_units</th>\n",
       "      <th>solar_radiation</th>\n",
       "      <th>organic_matter</th>\n",
       "      <th>method</th>\n",
       "      <th>variety</th>\n",
       "      <th>inputs</th>\n",
       "      <th>protection</th>\n",
       "    </tr>\n",
       "  </thead>\n",
       "  <tbody>\n",
       "    <tr>\n",
       "      <th>443</th>\n",
       "      <td>38</td>\n",
       "      <td>2010</td>\n",
       "      <td>1615173</td>\n",
       "      <td>78.7</td>\n",
       "      <td>2.0</td>\n",
       "      <td>5.0</td>\n",
       "      <td>1.0</td>\n",
       "      <td>2.0</td>\n",
       "    </tr>\n",
       "    <tr>\n",
       "      <th>1451</th>\n",
       "      <td>62</td>\n",
       "      <td>1994</td>\n",
       "      <td>1349588</td>\n",
       "      <td>13.0</td>\n",
       "      <td>2.0</td>\n",
       "      <td>3.0</td>\n",
       "      <td>0.0</td>\n",
       "      <td>0.0</td>\n",
       "    </tr>\n",
       "    <tr>\n",
       "      <th>1977</th>\n",
       "      <td>32</td>\n",
       "      <td>1034</td>\n",
       "      <td>807773</td>\n",
       "      <td>31.9</td>\n",
       "      <td>1.0</td>\n",
       "      <td>22.0</td>\n",
       "      <td>1.0</td>\n",
       "      <td>2.0</td>\n",
       "    </tr>\n",
       "    <tr>\n",
       "      <th>1160</th>\n",
       "      <td>70</td>\n",
       "      <td>1600</td>\n",
       "      <td>1377747</td>\n",
       "      <td>18.5</td>\n",
       "      <td>2.0</td>\n",
       "      <td>21.0</td>\n",
       "      <td>0.0</td>\n",
       "      <td>3.0</td>\n",
       "    </tr>\n",
       "    <tr>\n",
       "      <th>3217</th>\n",
       "      <td>39</td>\n",
       "      <td>1386</td>\n",
       "      <td>937618</td>\n",
       "      <td>2.5</td>\n",
       "      <td>3.0</td>\n",
       "      <td>4.0</td>\n",
       "      <td>2.0</td>\n",
       "      <td>2.0</td>\n",
       "    </tr>\n",
       "  </tbody>\n",
       "</table>\n",
       "</div>"
      ],
      "text/plain": [
       "      pp2m2  heat_units  solar_radiation  organic_matter  method  variety  \\\n",
       "443      38        2010          1615173            78.7     2.0      5.0   \n",
       "1451     62        1994          1349588            13.0     2.0      3.0   \n",
       "1977     32        1034           807773            31.9     1.0     22.0   \n",
       "1160     70        1600          1377747            18.5     2.0     21.0   \n",
       "3217     39        1386           937618             2.5     3.0      4.0   \n",
       "\n",
       "      inputs  protection  \n",
       "443      1.0         2.0  \n",
       "1451     0.0         0.0  \n",
       "1977     1.0         2.0  \n",
       "1160     0.0         3.0  \n",
       "3217     2.0         2.0  "
      ]
     },
     "execution_count": 7,
     "metadata": {},
     "output_type": "execute_result"
    }
   ],
   "source": [
    "X_test.head()"
   ]
  },
  {
   "cell_type": "code",
   "execution_count": 8,
   "id": "f01d1efc",
   "metadata": {},
   "outputs": [
    {
     "name": "stdout",
     "output_type": "stream",
     "text": [
      "The old training dataframe shape: (2911, 8)\n",
      "Total number of outliers identified is:  146\n",
      "The new training dataframe shape: (2765, 8)\n"
     ]
    }
   ],
   "source": [
    "# Use the isolation forest algorithm to remove the most rogue 5% of datapoints.\n",
    "\n",
    "print(f\"The old training dataframe shape: {X_train.shape}\")\n",
    "\n",
    "clf1 = IsolationForest(max_samples=500, random_state = 10, contamination = 0.05)\n",
    "preds = clf1.fit_predict(X_train)\n",
    "\n",
    "totalOutliers=0\n",
    "for pred in preds:\n",
    "    if pred == -1:\n",
    "        totalOutliers=totalOutliers+1\n",
    "print(\"Total number of outliers identified is: \",totalOutliers)\n",
    "\n",
    "# Remove outliers from training data.\n",
    "# Do not remove from test data as this is bad practice.\n",
    "# Confirm removal by checking new df shape.\n",
    "\n",
    "filtered_array = []\n",
    "for element in preds:\n",
    "  if element != -1:\n",
    "    filtered_array.append(True)\n",
    "  else:\n",
    "    filtered_array.append(False)\n",
    "X_train = X_train[filtered_array]\n",
    "y_train = y_train[filtered_array]\n",
    "\n",
    "print(f\"The new training dataframe shape: {X_train.shape}\")"
   ]
  },
  {
   "cell_type": "code",
   "execution_count": 9,
   "id": "dab286fb",
   "metadata": {},
   "outputs": [
    {
     "data": {
      "text/plain": [
       "0.0    1349\n",
       "2.0    1282\n",
       "1.0     125\n",
       "3.0       9\n",
       "Name: protection, dtype: int64"
      ]
     },
     "execution_count": 9,
     "metadata": {},
     "output_type": "execute_result"
    }
   ],
   "source": [
    "X_train['protection'].value_counts()"
   ]
  },
  {
   "cell_type": "code",
   "execution_count": 10,
   "id": "004af8a6",
   "metadata": {},
   "outputs": [],
   "source": [
    "# Scaled data although there is no need to scale with a Random Forest algorithm.\n",
    "# Only fit the scaled data using the training df but use it to transform both test and train.\n",
    "# This data won't be used but this is necessary for a lot of other ML algorithms.\n",
    "# Keep here as a reminder in case another model is developed.\n",
    "\n",
    "scaler = StandardScaler()\n",
    "scaler.fit(X_train)\n",
    "X_train_scaled = scaler.transform(X_train)\n",
    "X_test_scaled = scaler.transform(X_test)\n",
    "\n"
   ]
  },
  {
   "cell_type": "code",
   "execution_count": 11,
   "id": "d488a8c4",
   "metadata": {},
   "outputs": [
    {
     "name": "stdout",
     "output_type": "stream",
     "text": [
      "Fitting 2 folds for each of 6 candidates, totalling 12 fits\n",
      "{'kernel': 'rbf', 'shrinking': True}\n"
     ]
    }
   ],
   "source": [
    "# Hypertuning model to find best parameters.\n",
    "# Print the best qualitative parameters to use within the model.\n",
    "\n",
    "param_grid_1 = {'kernel': ['linear', 'rbf', 'sigmoid'],\n",
    "                'shrinking': [True, False]}\n",
    "   \n",
    "grid_svr = GridSearchCV(SVR(), param_grid_1, refit = True, verbose = 3, n_jobs=-1, cv = 2)\n",
    "\n",
    "grid_svr.fit(scaler.transform(X_train), y_train) \n",
    " \n",
    "print(grid_svr.best_params_)"
   ]
  },
  {
   "cell_type": "code",
   "execution_count": 12,
   "id": "a187e630",
   "metadata": {},
   "outputs": [
    {
     "name": "stdout",
     "output_type": "stream",
     "text": [
      "0.841970196161409\n"
     ]
    }
   ],
   "source": [
    "# Fit semi-hypertuned model and print score.\n",
    "\n",
    "svr = SVR(degree = 2, kernel = 'rbf', shrinking = True)\n",
    "\n",
    "svr.fit(scaler.transform(X_train), y_train)\n",
    "print(svr.score(scaler.transform(X_test), y_test))"
   ]
  },
  {
   "cell_type": "code",
   "execution_count": 18,
   "id": "28cb00e4",
   "metadata": {},
   "outputs": [],
   "source": [
    "def hypertune_eval(param, seq_min, seq_max, seq_int, model, log = False):\n",
    "    \n",
    "    \n",
    "    if log:\n",
    "        sequence = [i for i in np.logspace(seq_min, seq_max, seq_int)]\n",
    "        \n",
    "    else:\n",
    "        sequence = np.arange(seq_min, seq_max, seq_int)\n",
    "        \n",
    "    acc = []\n",
    "    bias = []\n",
    "    var = []\n",
    "    mse = []\n",
    "    \n",
    "    for n in sequence:\n",
    "        model.set_params(**{param : n})\n",
    "        model.fit(scaler.transform(X_train), y_train)\n",
    "        acc.append(model.score(scaler.transform(X_test), y_test))\n",
    "        if type(X_train) == np.ndarray:\n",
    "            mse_decomp, bias_decomp, var_decomp = bias_variance_decomp(model, X_train, y_train.values, X_test, y_test.values, loss= 'mse', num_rounds = 10, random_seed = 1)\n",
    "        else:\n",
    "            mse_decomp, bias_decomp, var_decomp = bias_variance_decomp(model, scaler.transform(X_train), y_train.values, scaler.transform(X_test), y_test.values, loss= 'mse', num_rounds = 10, random_seed = 1)\n",
    "        bias.append(bias_decomp)\n",
    "        var.append(var_decomp)\n",
    "        mse.append(mse_decomp)\n",
    "        \n",
    "        \n",
    "    fig, axs = plt.subplots(2, 2, figsize=(8, 5), constrained_layout=True, sharex=True)\n",
    "    \n",
    "    fig.suptitle(f'Effect of Changing {param} Parameter')\n",
    "    fig.supxlabel(f'{param}')\n",
    "    \n",
    "    axs[0,0].plot(sequence, acc)\n",
    "    axs[0,0].set_ylabel('accuracy')\n",
    "    \n",
    "    axs[0,1].plot(sequence, mse)\n",
    "    axs[0,1].set_ylabel('mean squared error')\n",
    "    \n",
    "    axs[1,0].plot(sequence, bias)\n",
    "    axs[1,0].set_ylabel('bias')\n",
    "    \n",
    "    axs[1,1].plot(sequence, var)\n",
    "    axs[1,1].set_ylabel('variance')"
   ]
  },
  {
   "cell_type": "code",
   "execution_count": 19,
   "id": "b2e4f590",
   "metadata": {},
   "outputs": [
    {
     "data": {
      "image/png": "[encoded data removed]",
      "text/plain": [
       "<Figure size 576x360 with 4 Axes>"
      ]
     },
     "metadata": {
      "needs_background": "light"
     },
     "output_type": "display_data"
    }
   ],
   "source": [
    "# Optimisation of n_estimators parameter.\n",
    "\n",
    "hypertune_eval('C', -0, 2.5, 8, svr, True)"
   ]
  },
  {
   "cell_type": "code",
   "execution_count": 20,
   "id": "4f8f5bde",
   "metadata": {},
   "outputs": [
    {
     "name": "stdout",
     "output_type": "stream",
     "text": [
      "0.9007007935323144\n"
     ]
    }
   ],
   "source": [
    "# Set parameter to optimum.\n",
    "svr.set_params(C = 150)\n",
    "svr.fit(scaler.transform(X_train), y_train)\n",
    "print(svr.score(scaler.transform(X_test), y_test))"
   ]
  },
  {
   "cell_type": "code",
   "execution_count": 21,
   "id": "c1d926df",
   "metadata": {},
   "outputs": [
    {
     "data": {
      "image/png": "[encoded data removed]",
      "text/plain": [
       "<Figure size 576x360 with 4 Axes>"
      ]
     },
     "metadata": {
      "needs_background": "light"
     },
     "output_type": "display_data"
    }
   ],
   "source": [
    "hypertune_eval('gamma', -3, -0.5, 8, svr, True)"
   ]
  },
  {
   "cell_type": "code",
   "execution_count": 22,
   "id": "b08b8170",
   "metadata": {},
   "outputs": [
    {
     "name": "stdout",
     "output_type": "stream",
     "text": [
      "0.9007007935323144\n",
      "2.6721117189554953\n",
      "6.0954297970345115\n",
      "1.0447512415447817\n"
     ]
    }
   ],
   "source": [
    "# Set parameter to optimum.\n",
    "svr.set_params(gamma = 0.15)\n",
    "svr.fit(scaler.transform(X_train), y_train)\n",
    "print(svr.score(scaler.transform(X_test), y_test))\n",
    "\n",
    "mse_decomp, bias_decomp, var_decomp = bias_variance_decomp(svr, scaler.transform(X_train), y_train.values, scaler.transform(X_test), y_test.values, loss= 'mse', num_rounds = 30, random_seed = 1)\n",
    "\n",
    "print(mse_decomp**0.5)\n",
    "print(bias_decomp)\n",
    "print(var_decomp)\n",
    "\n",
    "svr_pred = svr.predict(scaler.transform(X_test))\n"
   ]
  },
  {
   "cell_type": "code",
   "execution_count": 23,
   "id": "b98373e9",
   "metadata": {
    "scrolled": true,
    "tags": []
   },
   "outputs": [
    {
     "data": {
      "text/html": [
       "<div>\n",
       "<style scoped>\n",
       "    .dataframe tbody tr th:only-of-type {\n",
       "        vertical-align: middle;\n",
       "    }\n",
       "\n",
       "    .dataframe tbody tr th {\n",
       "        vertical-align: top;\n",
       "    }\n",
       "\n",
       "    .dataframe thead th {\n",
       "        text-align: right;\n",
       "    }\n",
       "</style>\n",
       "<table border=\"1\" class=\"dataframe\">\n",
       "  <thead>\n",
       "    <tr style=\"text-align: right;\">\n",
       "      <th></th>\n",
       "      <th>pp2m2</th>\n",
       "      <th>heat_units</th>\n",
       "      <th>solar_radiation</th>\n",
       "      <th>organic_matter</th>\n",
       "      <th>method</th>\n",
       "      <th>variety</th>\n",
       "      <th>inputs</th>\n",
       "      <th>protection</th>\n",
       "      <th>predicted_mean_diameter</th>\n",
       "      <th>mean_diameter</th>\n",
       "    </tr>\n",
       "  </thead>\n",
       "  <tbody>\n",
       "    <tr>\n",
       "      <th>0</th>\n",
       "      <td>38</td>\n",
       "      <td>2010</td>\n",
       "      <td>1615173</td>\n",
       "      <td>78.7</td>\n",
       "      <td>Drilled</td>\n",
       "      <td>Comanche</td>\n",
       "      <td>Conventional</td>\n",
       "      <td>None</td>\n",
       "      <td>29.185137</td>\n",
       "      <td>28.955789</td>\n",
       "    </tr>\n",
       "    <tr>\n",
       "      <th>1</th>\n",
       "      <td>62</td>\n",
       "      <td>1994</td>\n",
       "      <td>1349588</td>\n",
       "      <td>13.0</td>\n",
       "      <td>Drilled</td>\n",
       "      <td>Belton</td>\n",
       "      <td>Baby</td>\n",
       "      <td>Barley</td>\n",
       "      <td>12.369320</td>\n",
       "      <td>11.989677</td>\n",
       "    </tr>\n",
       "    <tr>\n",
       "      <th>2</th>\n",
       "      <td>32</td>\n",
       "      <td>1034</td>\n",
       "      <td>807773</td>\n",
       "      <td>31.9</td>\n",
       "      <td>Blocks</td>\n",
       "      <td>Shafton</td>\n",
       "      <td>Conventional</td>\n",
       "      <td>None</td>\n",
       "      <td>19.764532</td>\n",
       "      <td>22.568750</td>\n",
       "    </tr>\n",
       "    <tr>\n",
       "      <th>3</th>\n",
       "      <td>70</td>\n",
       "      <td>1600</td>\n",
       "      <td>1377747</td>\n",
       "      <td>18.5</td>\n",
       "      <td>Drilled</td>\n",
       "      <td>Runner</td>\n",
       "      <td>Baby</td>\n",
       "      <td>Poly</td>\n",
       "      <td>16.828906</td>\n",
       "      <td>16.546857</td>\n",
       "    </tr>\n",
       "    <tr>\n",
       "      <th>4</th>\n",
       "      <td>39</td>\n",
       "      <td>1386</td>\n",
       "      <td>937618</td>\n",
       "      <td>2.5</td>\n",
       "      <td>Modules</td>\n",
       "      <td>Chiefton</td>\n",
       "      <td>Organic</td>\n",
       "      <td>None</td>\n",
       "      <td>21.724733</td>\n",
       "      <td>18.989744</td>\n",
       "    </tr>\n",
       "  </tbody>\n",
       "</table>\n",
       "</div>"
      ],
      "text/plain": [
       "   pp2m2  heat_units  solar_radiation  organic_matter   method   variety  \\\n",
       "0     38        2010          1615173            78.7  Drilled  Comanche   \n",
       "1     62        1994          1349588            13.0  Drilled    Belton   \n",
       "2     32        1034           807773            31.9   Blocks   Shafton   \n",
       "3     70        1600          1377747            18.5  Drilled    Runner   \n",
       "4     39        1386           937618             2.5  Modules  Chiefton   \n",
       "\n",
       "         inputs protection  predicted_mean_diameter  mean_diameter  \n",
       "0  Conventional       None                29.185137      28.955789  \n",
       "1          Baby     Barley                12.369320      11.989677  \n",
       "2  Conventional       None                19.764532      22.568750  \n",
       "3          Baby       Poly                16.828906      16.546857  \n",
       "4       Organic       None                21.724733      18.989744  "
      ]
     },
     "execution_count": 23,
     "metadata": {},
     "output_type": "execute_result"
    }
   ],
   "source": [
    "# Join 'X' and 'y' test df together along with predictions to make visualisations easier.\n",
    "# Please note... only the test data.\n",
    "\n",
    "y_test_df = y_test.to_frame()\n",
    "y_test_df = y_test_df.rename(columns = {0:'mean_diameter'}).reset_index(drop=True)\n",
    "\n",
    "pred_df = pd.DataFrame(svr_pred, columns = ['predicted_mean_diameter']).reset_index(drop=True)\n",
    "\n",
    "X_test_df = pd.DataFrame(X_test, columns = ['pp2m2',\n",
    "                                            'heat_units',\n",
    "                                            'solar_radiation',\n",
    "                                            'organic_matter',\n",
    "                                            'method',\n",
    "                                            'variety',\n",
    "                                            'inputs',\n",
    "                                            'protection']).reset_index(drop = True)\n",
    "\n",
    "test_df = X_test_df.copy()\n",
    "test_df['predicted_mean_diameter'] = pd.Series(pred_df['predicted_mean_diameter'])\n",
    "test_df['mean_diameter'] = pd.Series(y_test_df['mean_diameter'])\n",
    "\n",
    "test_df = trns.inverse_transform(test_df)\n",
    "test_df.head()"
   ]
  },
  {
   "cell_type": "code",
   "execution_count": 24,
   "id": "282de070",
   "metadata": {},
   "outputs": [
    {
     "data": {
      "text/plain": [
       "(728, 10)"
      ]
     },
     "execution_count": 24,
     "metadata": {},
     "output_type": "execute_result"
    }
   ],
   "source": [
    "test_df.shape"
   ]
  },
  {
   "cell_type": "code",
   "execution_count": 25,
   "id": "ff3dde5c",
   "metadata": {},
   "outputs": [
    {
     "data": {
      "image/png": "[encoded data removed]",
      "text/plain": [
       "<Figure size 432x288 with 1 Axes>"
      ]
     },
     "metadata": {
      "needs_background": "light"
     },
     "output_type": "display_data"
    }
   ],
   "source": [
    "# Scatterplot to show how predicted mean compares to actual mean.\n",
    "# Set hue to see if any indicator variables have a bias.\n",
    "\n",
    "sns.scatterplot(y = 'mean_diameter', x = 'predicted_mean_diameter', data = test_df, hue='method')\n",
    "plt.axline([0, 0], [1, 1], color = 'r')\n",
    "plt.ylim(0)\n",
    "plt.xlim(0)\n",
    "plt.show()"
   ]
  },
  {
   "cell_type": "code",
   "execution_count": null,
   "id": "56972926",
   "metadata": {},
   "outputs": [],
   "source": []
  }
 ],
 "metadata": {
  "kernelspec": {
   "display_name": "Python 3",
   "language": "python",
   "name": "python3"
  },
  "language_info": {
   "codemirror_mode": {
    "name": "ipython",
    "version": 3
   },
   "file_extension": ".py",
   "mimetype": "text/x-python",
   "name": "python",
   "nbconvert_exporter": "python",
   "pygments_lexer": "ipython3",
   "version": "3.9.1"
  }
 },
 "nbformat": 4,
 "nbformat_minor": 5
}
